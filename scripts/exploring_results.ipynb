{
 "cells": [
  {
   "cell_type": "markdown",
   "metadata": {},
   "source": [
    "Devin Short \n",
    "30 June 2023 \n",
    "shortda@uw.edu"
   ]
  },
  {
   "cell_type": "markdown",
   "metadata": {},
   "source": [
    "This is a tutorial demonstrating how to explore data parsed out of the catalogues. The idea is to understand what kind of content we've generated, get a feel for how well our current tools are working, and try improving them. This notebook requires functions from `reporting.py`, currently living in the scripts directory of the github repository.\n",
    "\n",
    "Let's import some packages and set parameters we'll use below."
   ]
  },
  {
   "cell_type": "code",
   "execution_count": 8,
   "metadata": {},
   "outputs": [],
   "source": [
    "import pandas as pd\n",
    "import re\n",
    "\n",
    "pd.set_option('display.max_colwidth', 500)\n",
    "\n",
    "# If you're running this notebook from a directory that doesn't contain\n",
    "# reporting.py you'll either need to edit the following line to reflect\n",
    "# the relative location of the reporting module or copy reporting.py\n",
    "# into the current directory\n",
    "from reporting import histogram_strings_by_length\n",
    "\n",
    "# The year determines which issue of the catalogue we're looking at\n",
    "# across the entire notebook\n",
    "year = 11"
   ]
  },
  {
   "cell_type": "markdown",
   "metadata": {},
   "source": [
    "## <u>Summarizing data with histograms</u>"
   ]
  },
  {
   "cell_type": "markdown",
   "metadata": {},
   "source": [
    "One way to start is by looking at the number of characters in all entries parsed out of one year of the catalogue. Most good entries are going to have similar lengths because they display similar data. Extremely short entries are probably fragments created by OCR errors and some extremely long entries will be multiple entries the code we're using failed to split apart."
   ]
  },
  {
   "cell_type": "markdown",
   "metadata": {},
   "source": [
    "We can get an overview by creating a histogram of the entry lengths. A histogram shows a series of bins on the bottom axis and the number of objects falling into each bin on the vertical axis. In this case I've created bins 5 characters wide, so each bar in the plot below shows the number of entries 0-5 characters long, 5-10 characters long, etc.\n",
    "\n",
    "I've also created parameters to examine \"underflow\" and \"overflow\" regions of the histogram. Underflow and overflow counts in a histogram refer to objects that are irrelevant for some reason. In many cases a histogram will have a single underflow or overflow bin that aggregates everything outside the region of interest, but I've included the full histogram here and shaded the outflow regions."
   ]
  },
  {
   "cell_type": "code",
   "execution_count": 9,
   "metadata": {},
   "outputs": [
    {
     "name": "stdout",
     "output_type": "stream",
     "text": [
      "total number of strings: 4593\n",
      "number of strings shorter than 30 characters: 23, 0.5%\n",
      "number of strings within outflow limits: 2998\n",
      "number of strings longer than 300 characters: 1572, 34.2%\n"
     ]
    },
    {
     "data": {
      "image/png": "[encoded data removed]",
      "text/plain": [
       "<Figure size 1200x600 with 1 Axes>"
      ]
     },
     "metadata": {},
     "output_type": "display_data"
    }
   ],
   "source": [
    "path = f'../entries/clean_entries/entries_19{year}.csv'\n",
    "\n",
    "# Run this cell and then play around here by adding bins=20 to the\n",
    "# list of arguments in the call to histogram_strings_by_length below.\n",
    "# Then try bins=range(400).\n",
    "# You can change the outflow boundaries by adding underflow_lim or\n",
    "# overflow_lim to the list of arguments and setting them to integers.\n",
    "# The default values are underflow_lim=30, overflow_lim=300.\n",
    "hist_results = histogram_strings_by_length(\n",
    "    path,\n",
    "    show_over_under=True,\n",
    "    drop_nulls=True\n",
    ")"
   ]
  },
  {
   "cell_type": "markdown",
   "metadata": {},
   "source": [
    "You can get some idea of what's happening with different output data by examining different sets of entries. Try changing `clean_entries` to `full_entries` in the path above. Notice that the numbers of entries in each section of the histogram, reported above the plot, are different for the two data sets; clearly the existing code does more than identify short or long entries and drop them to transform \"full\" entries to \"clean\" entries. \n",
    "\n",
    "Looking at the shape of the histogram, you'll see there's a large peak around 50 characters, but then there are smaller peaks at about 90 characters and 140 characters. If you set `bins=range(400)` in the call to `histogram_strings_by_length` above, you'll see those secondary peaks are still present with higher resolution binning. How might we find out what causes that structure?\n",
    "\n",
    "Let's start by viewing some of the entry strings."
   ]
  },
  {
   "cell_type": "code",
   "execution_count": 10,
   "metadata": {},
   "outputs": [
    {
     "name": "stdout",
     "output_type": "stream",
     "text": [
      "3078        New Test., Coptic version of, 845, net ..Mar. 11\n",
      "91       Altar, Ceremonial of the (Low Mass) 2s. 6d. June 11\n",
      "690     Ceylon, Children of, Moscrop (T.) is. 6d. net May 11\n",
      "2013      I remember, Horsley (J. W.) 78. 6d. net....Oct. 11\n",
      "3195       Our lady of beauty, Cleeve (L.) 6d....... Aug. 11\n",
      "1495        French friends, My, Maud (C. E.) 7d. net June 11\n",
      "4560    Workshop drawing, Pract., Duthie (A. L.) is. July 11\n",
      "4518     Woman and labour, Schreiner (0.) 8s. 6d. net May 11\n",
      "3469       Power of peace, Thomas (W. H. G.) is. net Mar. 11\n",
      "3367       Pickwick papers, Dickens (C.) 25. net.... Aug. 11\n",
      "4295       Uist, North, Beveridge (E.) 308. net... ..Oct. II\n",
      "1572     Genoa, Heroines of, Staley (E.) 12s.6d. net Jan. 11\n",
      "4225    Tragedy of the Dacres, Crake (E. E.) 35. 60. Dec. 11\n",
      "1502        French revolution, Belloc (H.) is. net ..Apr. 11\n",
      "2889     Mining register, Potts', 1911, ios. 60..... Sep. 11\n",
      "1757     Half a man: Negro, Ovington (M. W.) 45. net Juli 11\n",
      "2038        In memoriam, Tennyson's, &c., Is. net....Oct. 11\n",
      "1463    Forestry for woodmen, Hanson (C. 0.) 5s. net Sep. 11\n",
      "85      Aloysius Gonzaga, St., Meschler (M.) 5s. net June 11\n",
      "2883     Mind and memory, How to strengthen. 60. net July 11\n",
      "Name: 0, dtype: object \n",
      "\n",
      "\n",
      "1382      Pather Anthony, Buchanan (R.) 6d. net Mar, II Father Maternus, Hausrath (A.) 6s.......Oct. 11\n",
      "334      Begbie (Harold)—Broken earthenware. Pop. edit. 8vo. Pp. 192, Swd. is. net HODDER & S., Aug. 11\n",
      "2587     Luther (Mark Lee)—The Sovereign power : a Lyrics and lays, Trenner (J.) 25. net.... .. July 11\n",
      "2492       Locke (William J.)- The Glory of Clementina Wing. Cr. 8vo. 71 X5, pp. 382, 6s. LANE, July 11\n",
      "2708    Marriott (Charles)-The Romance of the Rhine. 8vo. 9 X55, pp. 326, Ios. 6d, net METHUEN, Oct. 11\n",
      "4293         Typist, Junior, Davis (A.) is. net. ..Oct. II Tyranny of honour, Ralli (C. S.) 6s. Jan. 11\n",
      "1404         Fishes, Salmonoid, of Gt. Lakes, Jordan (D. S.) and Evermann (B. W.) 6s, net. .... Nov. 11\n",
      "4497     Winchester (Mark)- John Delmayne's ambitions. Cr. 8vo. 8 X 5, pp. 192, 2s. 6d. R.T.S., June 11\n",
      "1444         Flying apparatus of blow-fly, Ritter (W.) 25. net For Braganza, Kaye (M. W.) 6s. . Apr. 11\n",
      "3935      Sixty desigus for family homes. By over fifty architects. 4to., Is. net ..W. J. BAKER, May 11\n",
      "3075         New South Wales, Emigration handbook (post free), 2d..... .. WYMAN, Aug. II 4s. net ( Mems\n",
      "1293         Ephraim's, British-, Coronation of David's heir, George V., Douglas (R.) 3d..... · July 11\n",
      "3118        Notorious Miss Lisle, Reynolds (Mrs. B.) 6s. Aug. II Notre Dame, Hugo (V.) is. net.. May 11\n",
      "2397      Lent lilies, Byron (M.) is, net Feb. II Lent, The Longer, Lennard (V. R.) 25. 6d. net Jan. 11\n",
      "2202    Jones (Bernard E.)-Hardening and tempering steel. Cr. Svo. 7! X5, pp. 128, 25. CASSELL, Apr. 11\n",
      "333     Beethoven: Days with great composers, 3s. 6d. net. Νου. ΙΙ Before Adam, London (J.) 6d. Feb. 11\n",
      "227     Aura : Human atmosphere, Kilner (W. J.) 155. net; sheets, is. net; slides, 175. 6d. net June 11\n",
      "1320     Europe, Mediæval, Bell (K.) 45. 6d.. · July Europe, Medieval, Davis (H. W. C.) IS. nct June 11\n",
      "3041         Nature's pageant, Cameron (M.) Is.. May II Nautical almanac, Ainsley's, 1912, 6d., Sep. 11\n",
      "4521      Woman at work, Bird (M. M.) 5s, net......Oct. II Woman-haters, Lincoln (J. C.) 6s.. . Aug. 11\n",
      "Name: 0, dtype: object \n",
      "\n",
      "\n",
      "1917    Homeopathy, How to practise, Clarke (J. H.) 6d. net .Oct. Honest trespass, Cotterell (C.) 65.. ..0d. II Honey-bee, France (A.) 55. .Oct. 11\n",
      "2342      Lake District, Rock-climbing in, Jones (O. G.) 2IS. net · July II Lake (Kirsopp)-Codex Sinaiticus Petropolitanus, 168s, net.. ... July 11\n",
      "774      Christian apologists, Early, Carslaw (W. H.) gd. net.. May ii Christian biography, Dict. of, Wace (H.) and Piercy (W. C.) 21s. net Aug. 11\n",
      "188        Art-Examination papers and examiners' reports, 1910, 6d. . WYMAN, Jan. II Art and craft, Morris to Whistler, Crane (W.) 6s. net .Oct. 11\n",
      "3051    Navy: Promotion, &c., of Officers, Bramble (J.) 1911. 45. 6d. ..Mar. II Navy, Royal: a hist., Clowes (W. L.) Vol. 2, 255. net.. . . Aug. 11\n",
      "951        Coronation guide, Debrett's, 25. 6d., is, net May II Coronation : How and why King George will be crowned, Hammond (J.) is. net .Feb. 11\n",
      "2242       Keller (Helen)-The Miracle of a life: the auto- biog‘aphy of Helen Keller. Pop. edit. Cr. 8vo., pp. 158, is. net .. HODDER & S., Oct. 11\n",
      "3481    Premier pas : ideography, Marney (E. A. T. de) .Νου, ΙΙ Presbyterianism in Scotland, Hist, of, Balfour of Burleigh (Lord) is. net . Apr. 11\n",
      "3290       Peas, Sweet, Culture of, Stevenson (T.) is. net Dec. II Peasant art in Austria and Hungary, Holme (C.) 78. 6d., 5s, net.. ...... Sep. 11\n",
      "3843     Sermons, Famous, by English preachers, Macleane (D.) 6s. net .. Oct. II. Sermons for the Christian year, Wallace (w.) 16s. 6d. net June 11\n",
      "1436      Flowers, Beautiful, and how to grow them, Food : Good cheer, Hackwood (F. W.) 1os. 6d. net Wright (H. J. and W. P.) 21s, net......Oct. 11\n",
      "3140      Ogburn (F. Emest)—The Law relating to gaming, betting and lotteries, &c. Cr. 8vo. 53 X5, pp. 98, 25. net., .E. WILSON, Nov. II an 3s, net\n",
      "4479     Williams (J.)-Thomas of Kempen. 2nd edit. Izmo., 25, 6d. net ...K, PAUL, Jan. II Williams (J.) Two-in-one code condenser. 308. net Mar. 11\n",
      "3122      Numa Minimus-Vox clamantis, 35. 6d. net Oct. II Numbers, Book of, McNeile (A. H.) 28. 6d. net June II Numbers, Kabala of, 25. net Sep. 11\n",
      "879       Colonies, British : Statistical abstract 1895 to 1909, 25. WYMAN, Feb. II Colossians, Epistle of Paul to, Macphail (S. R.) IS. 6d. May 11\n",
      "2066     India, Education and statesmanship in, James (H. R.) 35 6d. net .Sep. II India, Eng. factories in, Foster (W.) Vol. 5. 128. 6d. net May 11\n",
      "3383        Plane trigonometry, Elements of, Murray (D. A.) 38. .. .Sep. II Planning buildings, Principles of, Marks (P. L.) I 2s. net.. .. June 11\n",
      "2581    Lunacy, Ireland, Report of Inspector of, 1910 (post free) is: od..... ...WYMAN, Aug. II Lunacy practice, Heywood and Massey's. 305. June 11\n",
      "1350     Extended order drill, and the company in battle, 16mo., limp, is. net....GALE & P., Dec. II Exton Manor, Marshall (A.) 7d. net ... Dec. 11\n",
      "4211       Town of morality (The); or, The Narrative of one who lived here for a time. By C. H. R. Cr. 8vo. 71 X5, pp. 502, 6s. MILLS & B., July 11\n",
      "Name: 0, dtype: object\n"
     ]
    }
   ],
   "source": [
    "# Get the clean entries from a csv file. Squeeze the result to convert\n",
    "# the single-column dataframe into a series.\n",
    "path = f'../entries/clean_entries/entries_19{year}.csv'\n",
    "clean_entries = pd.read_csv(path, header=None).squeeze()\n",
    "\n",
    "# Drop null values\n",
    "clean_entries = clean_entries.dropna()\n",
    "\n",
    "# Get the length of each entry string\n",
    "lengths = clean_entries.map(len)\n",
    "\n",
    "# Get entry strings around the center of the largest peak\n",
    "first_peak = clean_entries.loc[(lengths > 47) & (lengths < 53)]\n",
    "\n",
    "# Get entries in the second peak\n",
    "second_peak = clean_entries.loc[(lengths > 89) & (lengths < 96)]\n",
    "\n",
    "# Get entries in the third peak\n",
    "third_peak = clean_entries.loc[(lengths > 134) & (lengths < 140)]\n",
    "\n",
    "# View a random sample of values in each peak\n",
    "print(first_peak.sample(20), '\\n\\n')\n",
    "print(second_peak.sample(20), '\\n\\n')\n",
    "print(third_peak.sample(20))\n",
    "\n"
   ]
  },
  {
   "cell_type": "markdown",
   "metadata": {},
   "source": [
    "Run the previous cell several times, examining the output carefully each time. Are there clear differences in the contents of the entries from each peak? Can they be explained by reasonable features of a real data set or do you think the structure in the histogram is a result of bad parsing?"
   ]
  },
  {
   "cell_type": "markdown",
   "metadata": {},
   "source": [
    "I think we can draw three conclusions here:\n",
    "\n",
    "1. The largest peak is the easiest to explain: title-first entries, which only contain the book title, author name, price, and month of publication, are frequently about 50 characters long. There are of course a huge number of title-first entries much longer than that, and the other two peaks are sitting on top of a long tail from the title-first peak.\n",
    "2. The second peak looks like it consists mostly of author-first entries for single-author, single-title books.\n",
    "3. The third peak is the most complicated. I see books that have both multiple authors and long subtitles, as well as entries that have additional information like a series name, such as `(Langham bibelots, No. 10.)`, or a note about translation, for instance `English version by A. W. Verrall.`"
   ]
  },
  {
   "cell_type": "markdown",
   "metadata": {},
   "source": [
    "If you want an exercise to try working with the data yourself and to follow up on my interpretation above, figure out a way to histogram the shorter title-first entries separately from the longer author-first entries. If you don't know how to start, try this:\n",
    "\n",
    "1. Make a regular expression that searches for a sequence of capital letters. This won't be a perfect distinction, but the author-first entries usually have a publisher's name in all caps and the title-first entries don't.\n",
    "2. Use the regular expression to put entries with words in all caps in one pandas series and entries without words in all caps in another.\n",
    "3. Calculate the lengths of each element in each series and store them in two different series.\n",
    "4. Create histograms by using the method `.hist(bins=range(0, 400, 3))` on both series of lengths.\n",
    "5. Play around with the bin width (the third argument in the range function) and see how the features in each histogram change.\n",
    "\n",
    "You can refer to the last two code cells in this notebook to see an example of a similar process.\n",
    "\n",
    "If my interpretation above is mostly right then you should see a peak at 50 characters with a long tail to the right in one histogram and a smaller but very similarly shaped peak at about 90 characters in the other (I expect the second peak to have a shorter tail on the left as well). I haven't tried this, so if you do you should let me know what's going on with that third peak - is it present in both histograms? "
   ]
  },
  {
   "cell_type": "markdown",
   "metadata": {},
   "source": [
    "## <u>Testing new methods</u>"
   ]
  },
  {
   "cell_type": "markdown",
   "metadata": {},
   "source": [
    "Some entries in the third peak reveal a flaw in our current approach to splitting the entries: some lines in the catalogue aren't part of an entry. These lines have the form `<author name> see <author name>`, suggesting a reader looking up one author might actually be looking for someone else. The code we're using assumes entries end with an OCR line ending in `12`. It doesn't handle the lines pointing from one author to another, so those lines usually get tacked onto the front of the following entry. The current code does sometimes parse these author-to-author lines as individual entries. It looks to me like this happens when they are the last OCR'd line on a page.\n",
    "\n",
    "I figured that out by repeatedly looking at samples generated by the next cell and then searching the Hathi Trust online PDF for the contents of author-to-author lines that appeared separate from a full entry."
   ]
  },
  {
   "cell_type": "code",
   "execution_count": 14,
   "metadata": {},
   "outputs": [
    {
     "name": "stdout",
     "output_type": "stream",
     "text": [
      "number of entries containing \" see \": 238\n",
      "\n",
      "\n"
     ]
    },
    {
     "data": {
      "text/plain": [
       "674           Caudwell (I.. V.) see Ford (H. G.) and Caudwell Caught on the wing, M'Iver (I.) 38. 6d. net Mar. 11\n",
       "3723    Rowton (K. L. M.) see Penstone (M. M.) and Rowton. Rowton House rhymes, Mackenzie !W. A.) 3s. net Feb. 11\n",
       "1052              Dampier (E. M. Smith-) see Smith-Dampier. Dams, Design, etc., Wegmann (E.) 255. 6d. net Aug. 11\n",
       "2313              L. (E. V.) see Lucas (E. V.) L. (V. S.)-Territorial and boy scout service. od. net .... June 11\n",
       "2264                                   Killick (Hallie) see Miles (Mrs. E.). Kilmeny, Black (W.) is. net. Sep. 11\n",
       "Name: 0, dtype: object"
      ]
     },
     "execution_count": 14,
     "metadata": {},
     "output_type": "execute_result"
    }
   ],
   "source": [
    "author_to_author_entries = clean_entries.loc[\n",
    "    clean_entries.str.contains(' see ')\n",
    "]\n",
    "\n",
    "# python interprets two strings on successive lines as a single string\n",
    "# so it's easier to read long strings in source code.\n",
    "print(\n",
    "    'number of entries containing \" see \":'\n",
    "    f' {author_to_author_entries.size}\\n\\n'\n",
    ")\n",
    "\n",
    "author_to_author_entries = clean_entries.loc[\n",
    "    clean_entries.str.contains(' see ') & (lengths < 120)\n",
    "]\n",
    "author_to_author_entries.sample(5)"
   ]
  },
  {
   "cell_type": "markdown",
   "metadata": {},
   "source": [
    "If you can come up with a way to identify those author-to-author lines and separate them from the entries, you'll improve our data set. That's going to be pretty difficult though, so let's start with something easier."
   ]
  },
  {
   "cell_type": "markdown",
   "metadata": {},
   "source": [
    "Have a look at a sample of the longest entries:"
   ]
  },
  {
   "cell_type": "code",
   "execution_count": 15,
   "metadata": {},
   "outputs": [
    {
     "data": {
      "text/plain": [
       "89                            Alpine plants of Europe, Thompson (H. S.) 7s.6d. net.. June II Alpine plants, Rock gardens and, Jenkins (E. H.) 28. 6d. net.. .Oct. II Alps, Eastern, Baedeker (K.) 1os. net. Mar. II Alps, Scrambles in storm and sunshine, Stock (E. E.) 6s. net ... Feb. II Alps to the Apennines, Through the, Konody (P. G.) 125. 6d. net.. May 11\n",
       "243     B. (R.)—Simple architecture, is, net.... May II Babe, B. A., Benson (E. F.) is, net...... Aug. II Babe unborn (A). Cr. 8vo. 71 X5, pp. 360, 6s. RICHARDS, Mar, II Babes, Book of, Glazier (L. M.) is. 6d. net Oct. II Babes in the African wood, Barnes (R. G.) 6s. net Dec. II Babeuf, Gracchus: Last episode in French revol., Bax (E. B.) 6s. net. .May 11\n",
       "261                        Bagnall (C.) and Michant (J.)-French composi- tion : Book I. 12mo. Is. 6d. ..NUTT, Feb. II Bagnall (C.) and Michant (J.)-French Com- position. Book 2. 12mo., Is. 60. NUTT, Sep. II Bagot (Richard)—My Italian year. 8vo. 83 X5, Pp. 350, 106. 6d. net.... MILLS & B., Sep. II Bagpipe, Story of the, Flood (W. H. G.) 35. 6d. net Νου. 11\n",
       "288                   Barham (R. H.)—Ingoldsby legends. 16mo. 31 X2), Ithr. is. net (Langham booklets, 56) SIEGLE, H., June II Barham (R. H,)-The Ingoldsby legends; or, Mirth and marvels, With illus. in colour by H. G. Theaker. 8vo. 81 X54, pp. 562, 5s. net MACMILLAN, Od. II Baring (Maurice)-Collected poems. Cr. 8vo. 7* X5, pp. 246, 5s. net .LANE, Mar. 11\n",
       "292              Baring-Gould (Sabine)--Cliff castles and cave dwellings of Europe. Illus. 8vo. 9 X54, pp. 324, I2s. 6d. net ...SEELEY, Jan. II Baring-Gould (Sabine)-A Coronation souvenir. Illus. 16mo., pp. 58, 6d. net SKEFFINGTON, Jan. II Baring-Gould (Sabine)—The Land of Teck, and its neighbourhood. Illus. 8vo. 9 X54, pp342, IOS. 6d. net.. .LANE, May 11\n",
       "                                                                                                                                                                                    ...                                                                                                                                                                              \n",
       "4540            Women's work in local government, Brownlow (J. M. E.) 28. 6d. net...... ...Dec. II Wonder book, &c., Hawthorne (N.) 125, 6d. net Sep. II Wonder book, Ward, Lock & Co.'s, 1912, 5s., ..Sep. II Wonder book of railways for boys and girls. 4to. 10 X77, pp. 264, 5s., bds. 35. 6d. WARD, L., June II Wonder of love, Albanesi (E. M.) 6d..... June 11\n",
       "4553    Worcestershire, Memorials of old, Andrews (F. B.) 158. net .Dec. II Word portraits, Harden (M.) 10s. 6d. net Nov. II Worden (E. C.)-Nitrocellulose industry: compendium of history, chemistry, manu- facture, &c. 2 vols. 8vo., 425. CONSTABLE, June II Words and places, Taylor (J.) Is., 25. net Sep. II Words, Study of, Blackburn (F. M.) 35. 60. June 11\n",
       "4566    Wynne (G. Robert)-In quietness and fidence: fifty-six readings for Sundays and holydays. Cr. 8vo. 73 X5, pp. 192, 25. 6d. net R. SCOTT, Apr. II Wynne (May)—“Crackers\": the tale of a mischievous monkey. Cr. 8vo. 71 X41, pp. 128, IS.... . PARTRIDGE, Oct. II Wynne (May)-For Charles the Rover. Pop. edit. Cr. 8vo., pp. 324, is. net.. GREENING, Í une 11\n",
       "4580                York Diocesan calendar, clergy list and church almanack (The), 1911. Cr. 8vo., bds., Is. 6d. net .SIMPKIN, Jan. In York Journal of Convocation (The)-Containing the Acts and Debates of the Convocation of the Province of York in the Sessions of Nov. 8th and 9th, 1910, and Feb. 15th and 161h, 1911. 8vo., swd., 25....... ...SIMPKIN, May 11\n",
       "4600     Zon (R.) The Forest resources of the world. 8vo, 9x6, pp. 91, 25. 6d.net. (U.S. dept. agr. forest service) WESLEY, Mar. II Zoo, Bible, Mackinnon (A. G.) 3s. 6d..... Apr. II Zoo, Bk. of the, Berridge (W. S.) and Westell (W. P.) 5S...... · July II Zoo conversation book, Selous (F.) 5s. net Odt. II Zoo folk, Roberts (W. J.) 3s. 6d. net...... Oct. 11\n",
       "Name: 0, Length: 115, dtype: object"
      ]
     },
     "execution_count": 15,
     "metadata": {},
     "output_type": "execute_result"
    }
   ],
   "source": [
    "clean_entries.loc[(lengths > 325) & (lengths < 350)]"
   ]
  },
  {
   "cell_type": "markdown",
   "metadata": {},
   "source": [
    "A substantial number of long entries have a date that should mark a point to split entries that was missed for some reason. Reviewing a few samples in the previous cell, I see at least three cases that need to be handled:\n",
    "1. OCR mistakes, like `I2` or `1z` or `iz` rather than `12`\n",
    "2. Books published in 1911 and listed in this catalogue (our code assumes `12` is part of the entry delimiter)\n",
    "3. Entries with apparently well-formed 1912 dates that the current code failed on. For example, entry `14814` appears to be three entries separated by two 1912 dates that were skipped over for reasons I don't understand yet. Run the next cell to see it."
   ]
  },
  {
   "cell_type": "code",
   "execution_count": 16,
   "metadata": {},
   "outputs": [
    {
     "ename": "KeyError",
     "evalue": "14814",
     "output_type": "error",
     "traceback": [
      "\u001b[0;31m---------------------------------------------------------------------------\u001b[0m",
      "\u001b[0;31mKeyError\u001b[0m                                  Traceback (most recent call last)",
      "File \u001b[0;32m~/anaconda3/lib/python3.10/site-packages/pandas/core/indexes/base.py:3802\u001b[0m, in \u001b[0;36mIndex.get_loc\u001b[0;34m(self, key, method, tolerance)\u001b[0m\n\u001b[1;32m   3801\u001b[0m \u001b[38;5;28;01mtry\u001b[39;00m:\n\u001b[0;32m-> 3802\u001b[0m     \u001b[38;5;28;01mreturn\u001b[39;00m \u001b[38;5;28;43mself\u001b[39;49m\u001b[38;5;241;43m.\u001b[39;49m\u001b[43m_engine\u001b[49m\u001b[38;5;241;43m.\u001b[39;49m\u001b[43mget_loc\u001b[49m\u001b[43m(\u001b[49m\u001b[43mcasted_key\u001b[49m\u001b[43m)\u001b[49m\n\u001b[1;32m   3803\u001b[0m \u001b[38;5;28;01mexcept\u001b[39;00m \u001b[38;5;167;01mKeyError\u001b[39;00m \u001b[38;5;28;01mas\u001b[39;00m err:\n",
      "File \u001b[0;32m~/anaconda3/lib/python3.10/site-packages/pandas/_libs/index.pyx:138\u001b[0m, in \u001b[0;36mpandas._libs.index.IndexEngine.get_loc\u001b[0;34m()\u001b[0m\n",
      "File \u001b[0;32m~/anaconda3/lib/python3.10/site-packages/pandas/_libs/index.pyx:165\u001b[0m, in \u001b[0;36mpandas._libs.index.IndexEngine.get_loc\u001b[0;34m()\u001b[0m\n",
      "File \u001b[0;32mpandas/_libs/hashtable_class_helper.pxi:2263\u001b[0m, in \u001b[0;36mpandas._libs.hashtable.Int64HashTable.get_item\u001b[0;34m()\u001b[0m\n",
      "File \u001b[0;32mpandas/_libs/hashtable_class_helper.pxi:2273\u001b[0m, in \u001b[0;36mpandas._libs.hashtable.Int64HashTable.get_item\u001b[0;34m()\u001b[0m\n",
      "\u001b[0;31mKeyError\u001b[0m: 14814",
      "\nThe above exception was the direct cause of the following exception:\n",
      "\u001b[0;31mKeyError\u001b[0m                                  Traceback (most recent call last)",
      "Cell \u001b[0;32mIn[16], line 1\u001b[0m\n\u001b[0;32m----> 1\u001b[0m \u001b[43mclean_entries\u001b[49m\u001b[43m[\u001b[49m\u001b[38;5;241;43m14814\u001b[39;49m\u001b[43m]\u001b[49m\n",
      "File \u001b[0;32m~/anaconda3/lib/python3.10/site-packages/pandas/core/series.py:981\u001b[0m, in \u001b[0;36mSeries.__getitem__\u001b[0;34m(self, key)\u001b[0m\n\u001b[1;32m    978\u001b[0m     \u001b[38;5;28;01mreturn\u001b[39;00m \u001b[38;5;28mself\u001b[39m\u001b[38;5;241m.\u001b[39m_values[key]\n\u001b[1;32m    980\u001b[0m \u001b[38;5;28;01melif\u001b[39;00m key_is_scalar:\n\u001b[0;32m--> 981\u001b[0m     \u001b[38;5;28;01mreturn\u001b[39;00m \u001b[38;5;28;43mself\u001b[39;49m\u001b[38;5;241;43m.\u001b[39;49m\u001b[43m_get_value\u001b[49m\u001b[43m(\u001b[49m\u001b[43mkey\u001b[49m\u001b[43m)\u001b[49m\n\u001b[1;32m    983\u001b[0m \u001b[38;5;28;01mif\u001b[39;00m is_hashable(key):\n\u001b[1;32m    984\u001b[0m     \u001b[38;5;66;03m# Otherwise index.get_value will raise InvalidIndexError\u001b[39;00m\n\u001b[1;32m    985\u001b[0m     \u001b[38;5;28;01mtry\u001b[39;00m:\n\u001b[1;32m    986\u001b[0m         \u001b[38;5;66;03m# For labels that don't resolve as scalars like tuples and frozensets\u001b[39;00m\n",
      "File \u001b[0;32m~/anaconda3/lib/python3.10/site-packages/pandas/core/series.py:1089\u001b[0m, in \u001b[0;36mSeries._get_value\u001b[0;34m(self, label, takeable)\u001b[0m\n\u001b[1;32m   1086\u001b[0m     \u001b[38;5;28;01mreturn\u001b[39;00m \u001b[38;5;28mself\u001b[39m\u001b[38;5;241m.\u001b[39m_values[label]\n\u001b[1;32m   1088\u001b[0m \u001b[38;5;66;03m# Similar to Index.get_value, but we do not fall back to positional\u001b[39;00m\n\u001b[0;32m-> 1089\u001b[0m loc \u001b[38;5;241m=\u001b[39m \u001b[38;5;28;43mself\u001b[39;49m\u001b[38;5;241;43m.\u001b[39;49m\u001b[43mindex\u001b[49m\u001b[38;5;241;43m.\u001b[39;49m\u001b[43mget_loc\u001b[49m\u001b[43m(\u001b[49m\u001b[43mlabel\u001b[49m\u001b[43m)\u001b[49m\n\u001b[1;32m   1090\u001b[0m \u001b[38;5;28;01mreturn\u001b[39;00m \u001b[38;5;28mself\u001b[39m\u001b[38;5;241m.\u001b[39mindex\u001b[38;5;241m.\u001b[39m_get_values_for_loc(\u001b[38;5;28mself\u001b[39m, loc, label)\n",
      "File \u001b[0;32m~/anaconda3/lib/python3.10/site-packages/pandas/core/indexes/base.py:3804\u001b[0m, in \u001b[0;36mIndex.get_loc\u001b[0;34m(self, key, method, tolerance)\u001b[0m\n\u001b[1;32m   3802\u001b[0m     \u001b[38;5;28;01mreturn\u001b[39;00m \u001b[38;5;28mself\u001b[39m\u001b[38;5;241m.\u001b[39m_engine\u001b[38;5;241m.\u001b[39mget_loc(casted_key)\n\u001b[1;32m   3803\u001b[0m \u001b[38;5;28;01mexcept\u001b[39;00m \u001b[38;5;167;01mKeyError\u001b[39;00m \u001b[38;5;28;01mas\u001b[39;00m err:\n\u001b[0;32m-> 3804\u001b[0m     \u001b[38;5;28;01mraise\u001b[39;00m \u001b[38;5;167;01mKeyError\u001b[39;00m(key) \u001b[38;5;28;01mfrom\u001b[39;00m \u001b[38;5;21;01merr\u001b[39;00m\n\u001b[1;32m   3805\u001b[0m \u001b[38;5;28;01mexcept\u001b[39;00m \u001b[38;5;167;01mTypeError\u001b[39;00m:\n\u001b[1;32m   3806\u001b[0m     \u001b[38;5;66;03m# If we have a listlike key, _check_indexing_error will raise\u001b[39;00m\n\u001b[1;32m   3807\u001b[0m     \u001b[38;5;66;03m#  InvalidIndexError. Otherwise we fall through and re-raise\u001b[39;00m\n\u001b[1;32m   3808\u001b[0m     \u001b[38;5;66;03m#  the TypeError.\u001b[39;00m\n\u001b[1;32m   3809\u001b[0m     \u001b[38;5;28mself\u001b[39m\u001b[38;5;241m.\u001b[39m_check_indexing_error(key)\n",
      "\u001b[0;31mKeyError\u001b[0m: 14814"
     ]
    }
   ],
   "source": [
    "clean_entries[14814]"
   ]
  },
  {
   "cell_type": "markdown",
   "metadata": {},
   "source": [
    "The first two cases are relatively easy to handle. Let's start by finding the regular expressions our code uses to split entries apart and build on that to improve the current process. That code is documented in `Parsing_ECB_1912_wi23.ipynb`, currently living in the `scripts` directory of the github repository. In the section \"Splitting the Text into Entries\" in that notebook, I find the following process:"
   ]
  },
  {
   "cell_type": "code",
   "execution_count": 17,
   "metadata": {},
   "outputs": [
    {
     "name": "stdout",
     "output_type": "stream",
     "text": [
      "total entries: 4980\n"
     ]
    }
   ],
   "source": [
    "# ALL CODE IN THIS CELL IS ADAPTED FROM Parsing_ECB_1912_wi23.ipynb\n",
    "\n",
    "# read the Hathi Trust OCR into memory\n",
    "with open(f'../princeton_years/ecb_19{year}.txt', encoding='utf8') as f:\n",
    "    ocr_full_text = f.read()\n",
    "\n",
    "# Separate main text from the front matter of the catalogue (note the\n",
    "# string called ocr_main_text still has the back matter attached until\n",
    "# a later step)\n",
    "# Note python allows multiple assignment: the split operation below\n",
    "# creates a two-element list whose elements are then assigned to two\n",
    "# different variables\n",
    "ocr_front_matter, ocr_main_text = re.split(r'A\\nACADEMY', ocr_full_text)\n",
    "\n",
    "appendix_pattern = (\n",
    "    r\"APPENDIX\\nLEARNED SOCIETIES, PRINTING CLUBS, &c., \"\n",
    "    r\"WITH LISTS OF THEIR\\nPUBLICATIONS, 1911\"\n",
    ")\n",
    "\n",
    "# Separate main text from the back matter of the catalogue\n",
    "ocr_main_text, ocr_back_matter = re.split(appendix_pattern, ocr_main_text)\n",
    "\n",
    "# Make a regular expression to capture headers at the top of each\n",
    "# catalogue page\n",
    "header_capital_letters = r\"^(?:[A-Z\\-\\'\\sÈ]+)\"\n",
    "header_pattern = r\"^#(?s:.*?){}(?s:.*?){}(?s:.*?){}$\".format(\n",
    "    header_capital_letters, header_capital_letters, header_capital_letters\n",
    ")\n",
    "\n",
    "# Split the main text into pages and strip the headers. According to\n",
    "# Parsing_ECB_1912_wi23.ipynb this method fails to remove six headers.\n",
    "pages = [\n",
    "    re.sub(header_pattern, '', page, flags=re.M)\n",
    "    for page in ocr_main_text.split('\\f')\n",
    "]\n",
    "\n",
    "# Now find all lines ending in 12 and insert a token to split on\n",
    "entries_by_page = [\n",
    "    re.sub(r'(\\W11\\.?$)', '\\\\1<ENTRY_CUT>', page, flags=re.M)\n",
    "    for page in pages\n",
    "]\n",
    "\n",
    "# Split on the token to create a list of lists where each element is\n",
    "# a list of entries on an individual page\n",
    "entries_by_page = [\n",
    "    re.split(r'<ENTRY_CUT>', page, flags=re.M)\n",
    "    for page in entries_by_page\n",
    "]\n",
    "\n",
    "print(f'total entries: {sum([len(p) for p in entries_by_page])}')"
   ]
  },
  {
   "cell_type": "markdown",
   "metadata": {},
   "source": [
    "Now let's test a new regular expression for splitting entries "
   ]
  },
  {
   "cell_type": "code",
   "execution_count": 19,
   "metadata": {},
   "outputs": [
    {
     "name": "stdout",
     "output_type": "stream",
     "text": [
      "total entries: 16070\n"
     ]
    }
   ],
   "source": [
    "# This cell assumes we're looking at the 1912 catalogue; try changing\n",
    "# this code (and the year parameter in the first code cell of the\n",
    "# notebook) to catch OCR mistakes for a different year.\n",
    "\n",
    "# create a list of possible values the OCR software might have created\n",
    "# when it ran into an 11 or 12 on the page\n",
    "ocr_interpretations_of_12 = [\n",
    "    '11',\n",
    "    'i1',\n",
    "    'I1',\n",
    "    '1i',\n",
    "    '1I',\n",
    "    'ii',\n",
    "    'Ii',\n",
    "    'iI',\n",
    "    'II'\n",
    "]\n",
    "ocr_interpretations_of_11 = [\n",
    "    '10',\n",
    "    'I0',\n",
    "    '1O',\n",
    "    'IO'\n",
    "]\n",
    "terminators = ocr_interpretations_of_11 + ocr_interpretations_of_12\n",
    "\n",
    "# modify the existing regex with our new options\n",
    "entry_terminator_regex = r'(\\W({})\\.?$)'.format('|'.join(terminators))\n",
    "\n",
    "# get a new set of entries the same way as above, but using the new\n",
    "# regular expression\n",
    "new_entries_by_page = [\n",
    "    re.sub(entry_terminator_regex, '\\\\1<ENTRY_CUT>', page, flags=re.M)\n",
    "    for page in pages\n",
    "]\n",
    "new_entries_by_page = [\n",
    "    re.split(r'<ENTRY_CUT>', page, flags=re.M)\n",
    "    for page in new_entries_by_page\n",
    "]\n",
    "\n",
    "print(f'total entries: {sum([len(p) for p in new_entries_by_page])}')\n"
   ]
  },
  {
   "cell_type": "code",
   "execution_count": 20,
   "metadata": {},
   "outputs": [
    {
     "name": "stdout",
     "output_type": "stream",
     "text": [
      "[\"\\n\\n\\nAristophanes-Lysistrata : acted at Athens in\\nthe year B.C. 411. The Greek text revised by\\nB. B. Rogers. 4to. Ios. 6d..'. ..BELL, Nov. II\", '\\nAristophanes.-Lysistrata, Housman (L.) is. net\\nMar. 11', '\\nAristophanes—The Peace. Edit. by C. E. Graves.\\n12mo., pp. 162, 3s. 6d. (Pitt Press ser.)\\nCAMB. UNIV. PRESS, Jan. II', '\\nAristotle-De Arte Poetica Liber. Recognovit\\nbrevique adnotatione critica instruxit I.\\nBywater. Editio altera. 8vo. 29., Swd. is. 60.\\n(Scriptorum Classicum)\\n(Clarendon Press) FROWDE, July 11', \"\\nAristotle The Nicomach an ethics. Trans. by\\nD, P. Chase. 12mo. pp. 318, is. net ; Ithr. 25.\\nnet (Everyman's library) ..DENT, Sep. II\", '\\nAristotle-De Partibus animalium. Trans, into\\nEnglish. 8vo. 9X51, swd. 55. net\\n(Clarendon Press) FROWDE, Mar. Il\\nAristotle-Poetics. Trans. from Greek into\\nEnglish and from Arabic into Latin, with a\\nrev. text, intro., commentary, glossary and\\nonomasticon by D. S. Margoliouth.\\n8vo.\\n97 x6, pp. 336, ios. 6d. net\\nHODDER & S., Oct. II', '\\nArithmetic, Commercial, Williams (A. F.) 8d. net\\nΝου. ΙΙ\\nArithmetic, Concise, 28. ; with ans., 2S... June 11', '\\nArithmetic, Correlated tests, Trought (T. W.)\\nStand. 7, IS. 3d. net\\n...Feb. II', '\\nArithmetic, Graduated questions in, 5d. net\\nSep. II', '\\nArithmetic, Graduated questions in, with solu-\\ntions. 6d. net....\\n... Sep. 11', \"\\nArithmetic, Handwork and pract., Johnson\\n(G. F) Bk. 1, 25. 6.1. net ; bk. 2, 2s, net Sep. Il\\nArithmetic, Macmillan's Reform Bk. 5, is. Nov. 11\", '\\nArithmetic, Mill and factory, Carter (H. R.)\\n23. 6d. net\\n.Feb. II', '\\nArithmetic, New commercial, Comrie (P.) and\\nWoodburn (W.) Pt. I. IS. ; with ans., IS. 4d.\\nApr. II', '\\nArithmetic, New commercial, Talbot (H. H.)\\nPt. 1, Is. ed. net; pt. 2, is, net; complete,\\n2s, 6d. net\\n.. June 11', '\\nArithmetic, New commercial, Talbot (H. H.)\\n28. 6d. net\\nJuly 11', '\\nArithmetic, Primary, Briggs (W.) 2 pts: without\\nanswers, ea. 6d. ; with answers, ea. 7d. Apr. II', '\\nArithmetic, Primary, Briggs (W.) Pt. 43, 9d. ;\\nwith ans. rod..\\n. June 11', '\\nArithmetic, Rural, Deakin (R.) and Humphreys\\n(P. J.) 19...\\n. jan. 11', '\\nArithmetic, School, Workman (W. P.) 35. Sep. II', '\\nArithmetic, Workshop, Darling (H. A.) is. 6d.\\nJuly 11', \"\\nArithmetical guide for marine engineers, Tod' (J.)\\n6s, net\\nMar. 11\", '\\nArizona, Grand Canyon of, James (G. W.) 6s. net\\nSep. II', '\\nArkell (R.)--Colombine: a fantasy; and other\\n12.o. 61 X5, pp. 64, is. net\\nBENN & CRONIN, Dec. II', '\\nArmagh clergy and parishes, Leslie (J. B.)\\n125. 6d.\\n. Aug. 11', \"\\nArmes, Traité des, Gaya's 5s. net. ..Dec. II\", \"\\nArmfield (Constance)-Sylvia's travels. Illus. by\\nMaxwell Armfield. 4to. 81 X64, pp. 266, 6s. net\\nDENT, Sep. 11\", '\\nArmfield (Mrs. Maxwell)-Vothers and fathers.\\nA novel. Cr. 8vo. 74 x 4, pp. 408, 6s.\\nCHATTO, Feb. II', '\\nArmies of India, Lovett (A. C.) and MacMunn\\n(G. F.) 20s. net..\\nOct. II', '\\nArmies, Organization for war, Foster (H.) 35. 6d.\\n.Feb. II', '\\nArmitage (Frederick)--A Short Masonic history\\nwith some account of the higher degrees.\\nVol. 11. 8vo., 71 X8, pp. 176, WEARE, APT. II', '\\nArmitage (Lionel)-An Introduction to the study\\nof old High German. 8vo. 8s. 6d. net\\n(Clarendon Press), FROWDE, May II', '\\nArmour (Margaret)-Agnes of Edinburgh. Cr.\\n8vo. 74 X5, pp. 328, 6s.....A. MELROSE, Sep. II', '\\nArmstrong (Annie E.)-Three bright girls. New\\nedit. Cr. 8vo. 757, pp. 288, 35 6d.\\nBLACKIE, Sep. II', \"\\nArmstrong (D. B.) ed —Stamp collector's annual,\\n1912. is. net......\\n..... Dec, II\", '\\nArmstrong (Donald)—The Marriage of Quixote.\\nCr. 8vo. 73 X5, pp. 312, 6s. SECKER, May II', '\\nArmstrong (William) and Harburn (J. E.)\\nBuxton : its waters, baths, and accessory\\nmethods of treatment. With section on radium\\ntherapy. 2nd edit. Cr. 8vo., 74 x 44, pp. 70,\\nswd. IS. net...... SIMPKIN, Aug. II', '\\nArmy-Allowances regulations, 1910, IS.\\nWYMAN, Feb. II', '\\nArmy-Annual Bill (post free) 2}d.\\nWYMAN, Mar. II', '\\nArmy-Annual Bill, 1911 (post free) itd.\\nWYMAN, Apr. II', '\\nArmy-Appropriation Account for 1909-10,\\nIS. 4d.; Instructions for Practice: Horse,\\nField and Heavy Artillery, 1911, 6d.\\nWYMAN, Feb. II', '\\nArmy-Army Service Corps training, Part 3\\n(post free) is..\\n. WYMAN, May II', '\\nArmy-Army Service Corps regimental standing\\norders (post free) 7d. ; Royal Garrison Artillery\\ninstructions for practice (post free) 3}d.;\\nEngineer Services regulations, Part 2 (post\\nfree), 1od.\\n..WYMAN, Apr. II', '\\nArmy-Cavalry Training, 1907: Reprinted with\\nAmendments, 1910, Is. ...WYMAN, Jan. II', '\\nArmy-Equipment regulations, Part 9: Artillery\\ndetails (post free), Is. Id... WYMAN, Dec. II', '\\nArmy-Equipment regulations: Part 2, Section\\nXIC (post free), rod.\\n. WYMAN, Mar. II', '\\nArmy-Estimates, 1911-12, 25. ; Estimates,\\nmemo, id.....\\nWYMAN, Feb. 11', '\\nArmy-Field service manual, 1911 : Head-\\nquarters units (post free) 3 d.\\nWYMAN, Nov. II', '\\nArmy-Handbook, Maxim and small arms (post\\nfree) 4d....... ... WYMAN, Aug.\\nArmy-Manual of field engineering (post free), is.\\nWYMAN, May II', '\\nArmy-Ordnance factories accounts, 1909-10', '\\n(post free), is. 70.\\nWYMAN, Mar. II', '\\nArmy-Permanent fortifications for the Im-\\nperial military training establishments (post\\nfree) 45. 4d.....\\n. WYMAN, Aug. 11', '\\nArmy-Promotion Examinations, Officers of the\\nArmy, &c.; Report, May, 1911 (post free)\\nis. 3d....\\n..WYMAN, Aug. II', '\\nArmy-Report on health of Army for 1909, 2s.\\nWYMAN, Feb. II', '\\nArmy-Stations of units, January, 2d.\\nWYMAN, Jan. II', '\\nArmy-Territorial Force regulations, ist April\\n1911 (post free), 1}d......... WYMAN, May 11', '\\nArmy-Territorial force: County associations,\\nreturn (post free), 4d. .. WYMAN, Mar. II', '\\nArmy-Training: Manual signalling, 1911 (post\\nfree), 8£d.\\n.WYMAN, Aug. II', '\\nArmy-War establishments: Territorial Force\\n(post free), od....... . WYMAN, Sep. II', '\\nArmy annual (The) and year book, 1911. Edit. by\\nLieut-Colonel H. M. E. Brunker. Sve., 10 X6,\\n75. 6d. net\\nW. CLOWES, May II', '\\nArmy, Brit., Battle honours of, Norman (C. B.),\\n155. net\\n.Feb. II', '\\nArmy: Company training for beginners, 25. 60.\\nJune 11', '\\nArmy: Fallacies and facts, Roberts (Earl) 23. 6d.\\nnet..\\nMar 11', '\\nII', '\\nverses.\\nnet ..\\n']\n"
     ]
    }
   ],
   "source": [
    "print(new_entries_by_page[10])"
   ]
  },
  {
   "cell_type": "markdown",
   "metadata": {},
   "source": [
    "OK, we might have found 157 entries that weren't caught with the previous splitting expression, meaning we might have gained 314 entries that were either not present or invalid in the previous data set. Let's see if that's really what happened."
   ]
  },
  {
   "cell_type": "code",
   "execution_count": 21,
   "metadata": {},
   "outputs": [
    {
     "name": "stdout",
     "output_type": "stream",
     "text": [
      "number of new entries: 14287\n"
     ]
    },
    {
     "data": {
      "image/png": "[encoded data removed]",
      "text/plain": [
       "<Figure size 640x480 with 1 Axes>"
      ]
     },
     "metadata": {},
     "output_type": "display_data"
    }
   ],
   "source": [
    "# It can be much more efficient to do things like check if elements in\n",
    "# one sequence exist in another using pandas objects rather than the\n",
    "# standard python library, so I flatten the lists of lists of entries\n",
    "# into pandas series containing all the entries.\n",
    "old_entries = pd.Series(\n",
    "    [e for page in entries_by_page for e in page],\n",
    "    dtype=pd.StringDtype()\n",
    ")\n",
    "new_entries = pd.Series(\n",
    "    [e for page in new_entries_by_page for e in page],\n",
    "    dtype=pd.StringDtype()\n",
    ")\n",
    "\n",
    "# strip nonprinting characters and replace all newlines in each entry\n",
    "# with spaces\n",
    "old_entries = old_entries.str.strip()\n",
    "new_entries = new_entries.str.strip()\n",
    "old_entries = old_entries.str.replace('\\n', ' ')\n",
    "new_entries = new_entries.str.replace('\\n', ' ')\n",
    "\n",
    "# Get new entries that don't exist in the old set\n",
    "new_entries = new_entries.loc[~new_entries.isin(old_entries)]\n",
    "\n",
    "print(f'number of new entries: {len(new_entries)}')\n",
    "\n",
    "# plot a histogram of lengths of the new entries\n",
    "fig2 = new_entries.map(len).hist(bins=range(0, 400, 5))"
   ]
  },
  {
   "cell_type": "markdown",
   "metadata": {},
   "source": [
    "The histogram we started with covers nearly 20,000 entries. Here we have only 300, but the plot generated in the previous cell already looks extremely similar to the one at the top of the document. This means we can probably assume the entries we've produced here are just as good as the rest of the entries we're already capturing. Probably! I haven't actually looked at the new entries in detail, but it's 0200 and I need to finish this up."
   ]
  },
  {
   "cell_type": "code",
   "execution_count": 32,
   "metadata": {},
   "outputs": [
    {
     "data": {
      "text/plain": [
       "'Æsop-Fables. A New version, chiefly from the original sources, by Thomas James. Illus. Pop. edit. Cr. 8vo., pp. 168, is. net MURRAY. Dec, II'"
      ]
     },
     "execution_count": 32,
     "metadata": {},
     "output_type": "execute_result"
    }
   ],
   "source": [
    "new_entries[100]"
   ]
  },
  {
   "cell_type": "markdown",
   "metadata": {},
   "source": [
    "## <u>Wrapping up</u>"
   ]
  },
  {
   "cell_type": "markdown",
   "metadata": {},
   "source": [
    "The goal here was to demonstrate how to play around with the data and the code for our summer project. The general method I followed was something like the following:\n",
    "1. Get some kind of overview of the output from our current parsing operations. I went with the size of the strings but there are all kinds of ways to do this. You could think about features of strings that have words in all caps and compare them to strings that don't have capitalized words (publishers in the author-first entries are almost always capitalized). You could start by exploring the dataframes, where the strings have been parsed out into specific fields, rather than thinking about whole entries. Explore the results we have and find something you think is interesting. If you can't think of a way to use that feature to explore the data, run it by one of your colleagues and see what they think. Your team is always your best asset!\n",
    "2. Use that view of the data to characterize what's working and what isn't. In this case it was clear that unreasonably short or long strings were going to have some errors, so I was able to look at those entries to see where there might be problems in the existing process.\n",
    "3. Find out which part of the existing code is relevant for the feature you're interested in. This part is probably going to be hard if you haven't had a much experience with programming. If it isn't obvious how to proceed after you've had a look at some of the scripts, ask me or Anna how to do what you want to do.\n",
    "4. See if you can modify the code to get different results.\n",
    "5. Use the same overview process you started with to compare your new result with the old one.\n"
   ]
  }
 ],
 "metadata": {
  "kernelspec": {
   "display_name": "Python 3 (ipykernel)",
   "language": "python",
   "name": "python3"
  },
  "language_info": {
   "codemirror_mode": {
    "name": "ipython",
    "version": 3
   },
   "file_extension": ".py",
   "mimetype": "text/x-python",
   "name": "python",
   "nbconvert_exporter": "python",
   "pygments_lexer": "ipython3",
   "version": "3.10.9"
  }
 },
 "nbformat": 4,
 "nbformat_minor": 2
}
