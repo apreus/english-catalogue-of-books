{
 "cells": [
  {
   "cell_type": "raw",
   "metadata": {},
   "source": [
    "Devin Short \n",
    "12 July 2023 \n",
    "shortda@uw.edu"
   ]
  },
  {
   "cell_type": "markdown",
   "metadata": {},
   "source": [
    "This notebook provides functions to create strings visually similar to an input string usin the Unicode data on confusable characters. The first cell contains the functions and the second cell demonstrates how to use them. To use the code in another notebook (make sure it's above the cells where you're going to call the functions), just copy the first cell into the second notebook and either place the file `unicode_confusablesSummary.txt` in the directory of that notebook or change the path to that file in the code."
   ]
  },
  {
   "cell_type": "code",
   "execution_count": 24,
   "metadata": {},
   "outputs": [],
   "source": [
    "import itertools\n",
    "import pandas as pd\n",
    "\n",
    "def get_confusables(char):\n",
    "\n",
    "    '''\n",
    "    Parse the unicode confusables summary file and extract a set of\n",
    "    strings that may be visually similar to an input character.\n",
    "\n",
    "    NOTE this function parses a file every time it's called, so it\n",
    "    could create a lot of overhead in a loop or recursion\n",
    "\n",
    "    Parameters\n",
    "    ----------\n",
    "    char : string\n",
    "        A single character\n",
    "\n",
    "    Returns\n",
    "    -------\n",
    "    pandas.Series\n",
    "        A sequence of characters extracted from the unicode confusables\n",
    "        summary file\n",
    "    '''\n",
    "\n",
    "    with open('unicode_confusablesSummary.txt', 'r', encoding='utf8') as f:\n",
    "        confusables = f.readlines()\n",
    "\n",
    "    confusables = [l for l in confusables if l.startswith('#')]\n",
    "    nonprinting = confusables[7][1:-1].split('\\t')[1:]\n",
    "    confusables = confusables[8:-1]\n",
    "    confusables = [l[1:-1].strip().split('\\t') for l in confusables]\n",
    "    confusables.append(nonprinting)\n",
    "\n",
    "    confusables = pd.DataFrame(confusables)\n",
    "    confusables = confusables.loc[\n",
    "        confusables.apply(lambda x: x.isin([char]).any(), axis=1)\n",
    "    ]\n",
    "\n",
    "    if confusables.shape[0] > 1:\n",
    "        raise ValueError('character found in multiple sets')\n",
    "\n",
    "    return confusables.squeeze().dropna()\n",
    "\n",
    "def get_confusable_combinations(characters):\n",
    "    '''\n",
    "    Take a string of characters and return a list containing every\n",
    "    combination of unicode confusable characters comparable to the\n",
    "    input. Confusable characters retain the positions of their\n",
    "    archetypes in the original string, so an input of '12' would\n",
    "    generate output containing the string 'lz' but not 'zl'. \n",
    "\n",
    "    Parameters\n",
    "    ----------\n",
    "    characters : string\n",
    "        A list of characters to be identified with unicode confusables\n",
    "\n",
    "    Return\n",
    "    ------\n",
    "    list\n",
    "        A list of strings visually similar to the input string.\n",
    "    '''\n",
    "\n",
    "    combinations = itertools.product(*[get_confusables(c) for c in characters])\n",
    "\n",
    "    return [''.join(l) for l in combinations]"
   ]
  },
  {
   "cell_type": "code",
   "execution_count": 23,
   "metadata": {},
   "outputs": [
    {
     "data": {
      "text/plain": [
       "638"
      ]
     },
     "execution_count": 23,
     "metadata": {},
     "output_type": "execute_result"
    }
   ],
   "source": [
    "# Make a regex matching all strings that could be visually confused\n",
    "# with the string '12' when they are either the last two characters in a\n",
    "# string or the second and third to last characters in the string to be\n",
    "# searched.\n",
    "terminators = get_confusable_combinations('12')\n",
    "entry_terminator_regex = r'(\\W({})\\.?$)'.format('|'.join(terminators))"
   ]
  },
  {
   "cell_type": "code",
   "execution_count": null,
   "metadata": {},
   "outputs": [],
   "source": []
  },
  {
   "cell_type": "code",
   "execution_count": null,
   "metadata": {},
   "outputs": [],
   "source": []
  }
 ],
 "metadata": {
  "kernelspec": {
   "display_name": "Python 3",
   "language": "python",
   "name": "python3"
  },
  "language_info": {
   "codemirror_mode": {
    "name": "ipython",
    "version": 3
   },
   "file_extension": ".py",
   "mimetype": "text/x-python",
   "name": "python",
   "nbconvert_exporter": "python",
   "pygments_lexer": "ipython3",
   "version": "3.9.13"
  },
  "orig_nbformat": 4
 },
 "nbformat": 4,
 "nbformat_minor": 2
}
