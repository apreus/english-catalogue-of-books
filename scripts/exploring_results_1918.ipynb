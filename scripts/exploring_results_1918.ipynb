{
 "cells": [
  {
   "cell_type": "markdown",
   "metadata": {},
   "source": [
    "Updated 23 June 2024 by Anna Preus. \n",
    "\n",
    "Original:\n",
    "Devin Short \n",
    "30 June 2023 \n",
    "shortda@uw.edu"
   ]
  },
  {
   "cell_type": "markdown",
   "metadata": {},
   "source": [
    "This is a tutorial demonstrating how to explore data parsed out of the catalogues. The idea is to understand what kind of content we've generated, get a feel for how well our current tools are working, and try improving them. This notebook requires functions from `reporting.py`, currently living in the scripts directory of the github repository.\n",
    "\n",
    "Let's import some packages and set parameters we'll use below."
   ]
  },
  {
   "cell_type": "code",
   "execution_count": 1,
   "metadata": {},
   "outputs": [],
   "source": [
    "import pandas as pd\n",
    "import re\n",
    "\n",
    "pd.set_option('display.max_colwidth', 500)\n",
    "\n",
    "# If you're running this notebook from a directory that doesn't contain\n",
    "# reporting.py you'll either need to edit the following line to reflect\n",
    "# the relative location of the reporting module or copy reporting.py\n",
    "# into the current directory\n",
    "from reporting import histogram_strings_by_length\n",
    "\n",
    "# The year determines which issue of the catalogue we're looking at\n",
    "# across the entire notebook\n",
    "year = 18"
   ]
  },
  {
   "cell_type": "markdown",
   "metadata": {},
   "source": [
    "Next, we can read in the file we're focusing on and save it as a Pandas dataframe."
   ]
  },
  {
   "cell_type": "code",
   "execution_count": 2,
   "metadata": {},
   "outputs": [],
   "source": [
    "path = f'../entries/clean_entries/entries_19{year}.csv'\n",
    "\n",
    "df = pd.read_csv(path, header=None)"
   ]
  },
  {
   "cell_type": "markdown",
   "metadata": {},
   "source": [
    "To view the data, run the line below, which will display a random sample of the dataset of the length specified in parens."
   ]
  },
  {
   "cell_type": "code",
   "execution_count": 3,
   "metadata": {},
   "outputs": [
    {
     "data": {
      "text/html": [
       "<div>\n",
       "<style scoped>\n",
       "    .dataframe tbody tr th:only-of-type {\n",
       "        vertical-align: middle;\n",
       "    }\n",
       "\n",
       "    .dataframe tbody tr th {\n",
       "        vertical-align: top;\n",
       "    }\n",
       "\n",
       "    .dataframe thead th {\n",
       "        text-align: right;\n",
       "    }\n",
       "</style>\n",
       "<table border=\"1\" class=\"dataframe\">\n",
       "  <thead>\n",
       "    <tr style=\"text-align: right;\">\n",
       "      <th></th>\n",
       "      <th>0</th>\n",
       "    </tr>\n",
       "  </thead>\n",
       "  <tbody>\n",
       "    <tr>\n",
       "      <th>4071</th>\n",
       "      <td>Harvard Studies in classical philology. Vol. 29. 8vo. 9 X6, pp. 178, 6s. 6d. net MILFORD, Sep.'18</td>\n",
       "    </tr>\n",
       "    <tr>\n",
       "      <th>4138</th>\n",
       "      <td>Health, Good, Doty (A. H.) 6s. net. .Dec. '17 Healin Insurance (Nat.) See Insurance (Nat. Health). Health, Ministry of, Hills (J. W.) 4d. .... July '18</td>\n",
       "    </tr>\n",
       "    <tr>\n",
       "      <th>7867</th>\n",
       "      <td>Robertson (A. White)-Studies in electro-path- Rob nson (J. J.)-National reconstruction : ology. Demy 8vo. pp. 304, 128. 6d. net study in practical politics and statesmanship. ROUTTEDGE, July '18 Cr. 8vo. 73 x 41, pp. 164, 25. 6d. net Robertson (Alexander)-Last poems. With a pre- HURST &amp; B., July '18</td>\n",
       "    </tr>\n",
       "    <tr>\n",
       "      <th>1845</th>\n",
       "      <td>Colonial Office list (The), 1918. Comp. by Sir William H. Mercer and others. 8vo. 84 x 54, pp. 824, 185. 6d. net ..WATERLOW, July '18</td>\n",
       "    </tr>\n",
       "    <tr>\n",
       "      <th>5731</th>\n",
       "      <td>Marine engineering : Elem. questions and answers, Bottle (A. E.) 45. 64. net ..Apr. '18</td>\n",
       "    </tr>\n",
       "    <tr>\n",
       "      <th>9817</th>\n",
       "      <td>War : Fighting for our lives, Milner (Visc.) 3d. net Apr. '18</td>\n",
       "    </tr>\n",
       "    <tr>\n",
       "      <th>3422</th>\n",
       "      <td>Freytag-Loringhoven (Lt.-Gen. Baron von)—A Nation trained in arms or a militia ? lessons in war from the past and the present. Intro. by Maj.-Gen. Sir C. E. Callwell. Cr. 8vo. 71 X41, pp. 185, 4s, net ..CONSTABLE, Sep. '18</td>\n",
       "    </tr>\n",
       "    <tr>\n",
       "      <th>3979</th>\n",
       "      <td>Halos (A. G.) -My life of adventure. Cr. 8vo. 7} * 5, pp. 387, 6s. net. .HODDER &amp; S., Nov. '18</td>\n",
       "    </tr>\n",
       "    <tr>\n",
       "      <th>1751</th>\n",
       "      <td>Clarke (E. M.)-ABC of nursing treatment. 2nd Clergy directory and parish guide, 1918. Cr. 8vo. ed. 8vo. pp. 153, Is. 3d. (Pocket guide ser.) 75 X 5, pp. 824, 4s. 6d. net SCIENTIFIC PR., May'18 (09, Shoe La., E.C. 4) J. S. PHILLIPS, Jar.. '18</td>\n",
       "    </tr>\n",
       "    <tr>\n",
       "      <th>2533</th>\n",
       "      <td>Dyestuffs, Coal tar, Application of, Whittaker (C. M.) 79. 6d. net .Aug. '18</td>\n",
       "    </tr>\n",
       "    <tr>\n",
       "      <th>8268</th>\n",
       "      <td>Seligman (V. J.)- Macedonian musings. Cr. 8vo. pp. 188, 5s. net ..ALLEN &amp; U., July '18</td>\n",
       "    </tr>\n",
       "    <tr>\n",
       "      <th>3100</th>\n",
       "      <td>Feld wick (W.) ed.-Present-day impressions of the Far East, and prominent and progressive Chinese at home and abroad. Illus. 4to. p. 1211, 2105. GLOBE ENCYCLOPEDIA CO., Sep.'18</td>\n",
       "    </tr>\n",
       "    <tr>\n",
       "      <th>7737</th>\n",
       "      <td>Religious reality, Rawlinson (A. E. J.) 45. 6d. net Mar. '18</td>\n",
       "    </tr>\n",
       "    <tr>\n",
       "      <th>10590</th>\n",
       "      <td>Youngson (Peter) and Shaw (James H.)—Board of Trade examination calculations for second- class engineers. 7th ed. Ci. 8vo. 7£X 44, pp. 324, 6s. net .J. MUNRO, Sep. '18</td>\n",
       "    </tr>\n",
       "    <tr>\n",
       "      <th>2085</th>\n",
       "      <td>Cross (Victoria)-Five nights. Ppr. ed. 7X41, pp. 239, 28. net... ..LAURIE, Aug. '18</td>\n",
       "    </tr>\n",
       "    <tr>\n",
       "      <th>3816</th>\n",
       "      <td>Gothic, Substance of, Cram (R. A.) 6s. 6d. net July '18</td>\n",
       "    </tr>\n",
       "    <tr>\n",
       "      <th>4540</th>\n",
       "      <td>Idylls of the King, Tennyson (A., Lord) Illus. by Hydro-electric power stations, Lof (E. A.) and -18</td>\n",
       "    </tr>\n",
       "    <tr>\n",
       "      <th>4605</th>\n",
       "      <td>Industrial unionism and the mining industry, Harvey (G.) is... ....Apr. '18</td>\n",
       "    </tr>\n",
       "    <tr>\n",
       "      <th>809</th>\n",
       "      <td>Bible story, Faerie tales from. By A Country Clergyman.” 58. net Nov. '18</td>\n",
       "    </tr>\n",
       "    <tr>\n",
       "      <th>3160</th>\n",
       "      <td>Finance, Industry and, Kirkaldy (A. W.) 45. 6d. net Jan. '18</td>\n",
       "    </tr>\n",
       "    <tr>\n",
       "      <th>8164</th>\n",
       "      <td>ScotlandLegislation (Trivate) Procedure Act, 1899 : Journal of procedings upon applications for provisional orders. Ea. 3d. H.M. STATIONERY OFF., Jan., &amp;c., '18</td>\n",
       "    </tr>\n",
       "    <tr>\n",
       "      <th>1373</th>\n",
       "      <td>Callaway (Godfrey)-Instructions to cate- chists and other lay workers. Rev. ed. 8vo. pp. 63, Is. net.... ....S.P.C.K., Dec. '17 Calla way (Robert Furley)—Letters from two Fronts: R. F. Callaway, mission priest : a selection of his letters from S. Africa, 1900-1914, and from France, 1914-1916. 8vo. pp. 98 (Brighton : 130, North St.) SOUTHERN PUBG. Co., Sep. '18</td>\n",
       "    </tr>\n",
       "    <tr>\n",
       "      <th>5413</th>\n",
       "      <td>Lonecraft, Hargrave (J.) 25., Is. 6d. net.. Mar. '18</td>\n",
       "    </tr>\n",
       "    <tr>\n",
       "      <th>7582</th>\n",
       "      <td>Que ting heart, Baker (O.) 28. 6d. net.... Jan.'18</td>\n",
       "    </tr>\n",
       "    <tr>\n",
       "      <th>9728</th>\n",
       "      <td>War : Anzac, Crusading at, Silas (E.) is. net Dec, '18</td>\n",
       "    </tr>\n",
       "    <tr>\n",
       "      <th>3589</th>\n",
       "      <td>Geography, Elem., Herbertson (F. D.) Vol. I, First physiography, is. 6d. Vol. 2, In and about our Islands, is. 6d. Vol. 5, N. and C. America and W. Indies, is. 6d. Feb., Apr., June '18</td>\n",
       "    </tr>\n",
       "    <tr>\n",
       "      <th>7370</th>\n",
       "      <td>Post Office London directory, 1918. 104x91, 365., do., with London County Suburbs, 459., in 2 vols., 50s. Lon!on County Suburbs only, 148. . KELLY'S DIRECTORIES, Jan. '18</td>\n",
       "    </tr>\n",
       "    <tr>\n",
       "      <th>5935</th>\n",
       "      <td>Mercantile Marine and Sea-Fishing Service-Bd. of Trade Examinations of candidates for certifi- cates of competency : Report, 1916, id. ; do., 1917, id. H.M. STATIONERY OFF., Feb., Oct.,'18</td>\n",
       "    </tr>\n",
       "    <tr>\n",
       "      <th>2138</th>\n",
       "      <td>Customs and excise--Sth Report of Commis- sioners, 1916-17, IS. H.M. STATIONERY OFF., July ’18</td>\n",
       "    </tr>\n",
       "    <tr>\n",
       "      <th>7252</th>\n",
       "      <td>Poems of London, &amp;c., Presland (J.) 45. 6d. net Nov. '18</td>\n",
       "    </tr>\n",
       "  </tbody>\n",
       "</table>\n",
       "</div>"
      ],
      "text/plain": [
       "                                                                                                                                                                                                                                                                                                                                                                                0\n",
       "4071                                                                                                                                                                                                                                                                            Harvard Studies in classical philology. Vol. 29. 8vo. 9 X6, pp. 178, 6s. 6d. net MILFORD, Sep.'18\n",
       "4138                                                                                                                                                                                                                      Health, Good, Doty (A. H.) 6s. net. .Dec. '17 Healin Insurance (Nat.) See Insurance (Nat. Health). Health, Ministry of, Hills (J. W.) 4d. .... July '18\n",
       "7867                                                                 Robertson (A. White)-Studies in electro-path- Rob nson (J. J.)-National reconstruction : ology. Demy 8vo. pp. 304, 128. 6d. net study in practical politics and statesmanship. ROUTTEDGE, July '18 Cr. 8vo. 73 x 41, pp. 164, 25. 6d. net Robertson (Alexander)-Last poems. With a pre- HURST & B., July '18\n",
       "1845                                                                                                                                                                                                                                        Colonial Office list (The), 1918. Comp. by Sir William H. Mercer and others. 8vo. 84 x 54, pp. 824, 185. 6d. net ..WATERLOW, July '18\n",
       "5731                                                                                                                                                                                                                                                                                      Marine engineering : Elem. questions and answers, Bottle (A. E.) 45. 64. net ..Apr. '18\n",
       "9817                                                                                                                                                                                                                                                                                                                War : Fighting for our lives, Milner (Visc.) 3d. net Apr. '18\n",
       "3422                                                                                                                                               Freytag-Loringhoven (Lt.-Gen. Baron von)—A Nation trained in arms or a militia ? lessons in war from the past and the present. Intro. by Maj.-Gen. Sir C. E. Callwell. Cr. 8vo. 71 X41, pp. 185, 4s, net ..CONSTABLE, Sep. '18\n",
       "3979                                                                                                                                                                                                                                                                               Halos (A. G.) -My life of adventure. Cr. 8vo. 7} * 5, pp. 387, 6s. net. .HODDER & S., Nov. '18\n",
       "1751                                                                                                                            Clarke (E. M.)-ABC of nursing treatment. 2nd Clergy directory and parish guide, 1918. Cr. 8vo. ed. 8vo. pp. 153, Is. 3d. (Pocket guide ser.) 75 X 5, pp. 824, 4s. 6d. net SCIENTIFIC PR., May'18 (09, Shoe La., E.C. 4) J. S. PHILLIPS, Jar.. '18\n",
       "2533                                                                                                                                                                                                                                                                                                 Dyestuffs, Coal tar, Application of, Whittaker (C. M.) 79. 6d. net .Aug. '18\n",
       "8268                                                                                                                                                                                                                                                                                       Seligman (V. J.)- Macedonian musings. Cr. 8vo. pp. 188, 5s. net ..ALLEN & U., July '18\n",
       "3100                                                                                                                                                                                             Feld wick (W.) ed.-Present-day impressions of the Far East, and prominent and progressive Chinese at home and abroad. Illus. 4to. p. 1211, 2105. GLOBE ENCYCLOPEDIA CO., Sep.'18\n",
       "7737                                                                                                                                                                                                                                                                                                                 Religious reality, Rawlinson (A. E. J.) 45. 6d. net Mar. '18\n",
       "10590                                                                                                                                                                                                     Youngson (Peter) and Shaw (James H.)—Board of Trade examination calculations for second- class engineers. 7th ed. Ci. 8vo. 7£X 44, pp. 324, 6s. net .J. MUNRO, Sep. '18\n",
       "2085                                                                                                                                                                                                                                                                                          Cross (Victoria)-Five nights. Ppr. ed. 7X41, pp. 239, 28. net... ..LAURIE, Aug. '18\n",
       "3816                                                                                                                                                                                                                                                                                                                      Gothic, Substance of, Cram (R. A.) 6s. 6d. net July '18\n",
       "4540                                                                                                                                                                                                                                                                         Idylls of the King, Tennyson (A., Lord) Illus. by Hydro-electric power stations, Lof (E. A.) and -18\n",
       "4605                                                                                                                                                                                                                                                                                                  Industrial unionism and the mining industry, Harvey (G.) is... ....Apr. '18\n",
       "809                                                                                                                                                                                                                                                                                                     Bible story, Faerie tales from. By A Country Clergyman.” 58. net Nov. '18\n",
       "3160                                                                                                                                                                                                                                                                                                                 Finance, Industry and, Kirkaldy (A. W.) 45. 6d. net Jan. '18\n",
       "8164                                                                                                                                                                                                             ScotlandLegislation (Trivate) Procedure Act, 1899 : Journal of procedings upon applications for provisional orders. Ea. 3d. H.M. STATIONERY OFF., Jan., &c., '18\n",
       "1373   Callaway (Godfrey)-Instructions to cate- chists and other lay workers. Rev. ed. 8vo. pp. 63, Is. net.... ....S.P.C.K., Dec. '17 Calla way (Robert Furley)—Letters from two Fronts: R. F. Callaway, mission priest : a selection of his letters from S. Africa, 1900-1914, and from France, 1914-1916. 8vo. pp. 98 (Brighton : 130, North St.) SOUTHERN PUBG. Co., Sep. '18\n",
       "5413                                                                                                                                                                                                                                                                                                                         Lonecraft, Hargrave (J.) 25., Is. 6d. net.. Mar. '18\n",
       "7582                                                                                                                                                                                                                                                                                                                           Que ting heart, Baker (O.) 28. 6d. net.... Jan.'18\n",
       "9728                                                                                                                                                                                                                                                                                                                       War : Anzac, Crusading at, Silas (E.) is. net Dec, '18\n",
       "3589                                                                                                                                                                                     Geography, Elem., Herbertson (F. D.) Vol. I, First physiography, is. 6d. Vol. 2, In and about our Islands, is. 6d. Vol. 5, N. and C. America and W. Indies, is. 6d. Feb., Apr., June '18\n",
       "7370                                                                                                                                                                                                   Post Office London directory, 1918. 104x91, 365., do., with London County Suburbs, 459., in 2 vols., 50s. Lon!on County Suburbs only, 148. . KELLY'S DIRECTORIES, Jan. '18\n",
       "5935                                                                                                                                                                                 Mercantile Marine and Sea-Fishing Service-Bd. of Trade Examinations of candidates for certifi- cates of competency : Report, 1916, id. ; do., 1917, id. H.M. STATIONERY OFF., Feb., Oct.,'18\n",
       "2138                                                                                                                                                                                                                                                                               Customs and excise--Sth Report of Commis- sioners, 1916-17, IS. H.M. STATIONERY OFF., July ’18\n",
       "7252                                                                                                                                                                                                                                                                                                                     Poems of London, &c., Presland (J.) 45. 6d. net Nov. '18"
      ]
     },
     "execution_count": 3,
     "metadata": {},
     "output_type": "execute_result"
    }
   ],
   "source": [
    "df.sample(30)"
   ]
  },
  {
   "cell_type": "markdown",
   "metadata": {},
   "source": [
    "## <u>Summarizing data with histograms</u>"
   ]
  },
  {
   "cell_type": "markdown",
   "metadata": {},
   "source": [
    "One way to start getting a rough sense of how well our splitting is working is by looking at the number of characters in all entries parsed out of one year of the catalogue. Most good entries are going to have similar lengths because they display similar data. Extremely short entries are probably fragments created by OCR errors and some extremely long entries will be multiple entries the code we're using failed to split apart."
   ]
  },
  {
   "cell_type": "markdown",
   "metadata": {},
   "source": [
    "We can get an overview by creating a histogram of the entry lengths. A histogram shows a series of bins on the bottom axis and the number of objects falling into each bin on the vertical axis. In this case I've created bins 5 characters wide, so each bar in the plot below shows the number of entries 0-5 characters long, 5-10 characters long, etc.\n",
    "\n",
    "I've also created parameters to examine \"underflow\" and \"overflow\" regions of the histogram. Underflow and overflow counts in a histogram refer to objects that are irrelevant for some reason. In many cases a histogram will have a single underflow or overflow bin that aggregates everything outside the region of interest, but I've included the full histogram here and shaded the outflow regions."
   ]
  },
  {
   "cell_type": "code",
   "execution_count": 4,
   "metadata": {},
   "outputs": [
    {
     "name": "stdout",
     "output_type": "stream",
     "text": [
      "total number of strings: 10558\n",
      "number of strings shorter than 30 characters: 162, 1.5%\n",
      "number of strings within outflow limits: 10234\n",
      "number of strings longer than 300 characters: 162, 1.5%\n"
     ]
    },
    {
     "data": {
      "image/png": "[encoded data removed]",
      "text/plain": [
       "<Figure size 1200x600 with 1 Axes>"
      ]
     },
     "metadata": {},
     "output_type": "display_data"
    }
   ],
   "source": [
    "path = f'../entries/clean_entries/entries_19{year}.csv'\n",
    "\n",
    "hist_results = histogram_strings_by_length(\n",
    "    path,\n",
    "    show_over_under=True,\n",
    "    drop_nulls=True\n",
    ")"
   ]
  },
  {
   "cell_type": "markdown",
   "metadata": {},
   "source": [
    "Looking at the shape of the histogram, you'll see there's a large peak around 50 characters, but then there are smaller peaks at about 90 characters and 140 characters. How might we find out what causes that structure?\n",
    "\n",
    "Let's start by viewing some of the entries"
   ]
  },
  {
   "cell_type": "code",
   "execution_count": 5,
   "metadata": {},
   "outputs": [
    {
     "name": "stdout",
     "output_type": "stream",
     "text": [
      "4699           Jan. '18\n",
      "4704           Dec. '18\n",
      "1739                IS.\n",
      "7846     UNWIN, May '18\n",
      "5879           Sep. '18\n",
      "10490          July '18\n",
      "5432           Sep. '18\n",
      "5895           Oct. '18\n",
      "3526           Sep. '18\n",
      "2274     DEAN, Mar. '18\n",
      "1445           Seasons.\n",
      "3515           Oct. '18\n",
      "3305           Aug. '18\n",
      "8098         Vol. 3. 14\n",
      "8409           Nov. '18\n",
      "1750           Feb. '18\n",
      "10255           PRE IS.\n",
      "10531          Ori. '18\n",
      "10482          Nov. '18\n",
      "7025                  I\n",
      "5273             IS. 10\n",
      "4560           Oct. '18\n",
      "7185           July '18\n",
      "4781           Mar. '18\n",
      "8434           Doc. '18\n",
      "1012         IS. rev. 6\n",
      "7176           Sep. '18\n",
      "3294           July '18\n",
      "4695           Jan. '18\n",
      "10285            Bk. 1.\n",
      "3320            Mar '18\n",
      "6829           Du: loss\n",
      "8402                IS.\n",
      "10537          Nov. '18\n",
      "8407            May '18\n",
      "1950            May '18\n",
      "9394            May '18\n",
      "8832     Cr 38. 6d. IS.\n",
      "5719           Jan. '18\n",
      "2276     DEAN, Jan. '18\n",
      "Name: 0, dtype: object \n",
      "\n",
      "\n",
      "2120         Currency, lanking and, Sykes (E.) 5s... Jan. '18\n",
      "9648        Victims' return, Roger (N.) 25. 60. net..Feb. '18\n",
      "2835     English literature, Rahtz (F. J.) 35. 6d. .. Sep.'18\n",
      "6123         Missions : Nigeria the unknown. IS. net June '18\n",
      "1082         Breathing power, Brown (H.) is. 6d. net June '18\n",
      "10271      What never happened, Ropshin. 75. 6d. net Dec. '18\n",
      "3879     Great Sioux trail, Altsheler (J. A.) 6s. net May '18\n",
      "2004         Country weekly, Bing (P. C.) 78. 6d. net Mar.'18\n",
      "2476         Ducunner, Neule (T. M.) ?-. 6i1. nt ....Mar. '18\n",
      "2477       Duchess Grace, Leighton (M. C.) 5s. net. .Aug. '18\n",
      "2851       English spelling, &c., Crook (C.W.)is. 8d. May '18\n",
      "3482      Gallant affair, Bacon (C.) 28. 6d. net. ... Sep.'18\n",
      "1602        Children of earth, Figgis (D.) 55. net ..Mut. '18\n",
      "5055      Ladies must live, Miller (A. D.) os.net....Oct. '18\n",
      "1079      Breaking the record, Gould (N.) is. 3d. net Feb.'18\n",
      "9550        Under the yoke, Vazoff (I.) 6s, net ... .Nov. '18\n",
      "414       Ashtead, Dorking, Leatherhead and. IS. net Jane '18\n",
      "6608       Nymph, poems, Gunston (E. L.) 25. 6d. net Jan. '18\n",
      "3147       Fighting for peace, Van Dyke (H.) 5s. net Jan. '18\n",
      "2329         Diamond pendant, Gray (M.) 6s. gd. net. Nov. '18\n",
      "Name: 0, dtype: object \n",
      "\n",
      "\n",
      "8810       Stopes (Mrs. C. C.)- Shakespeare's environment. 9X54, pp. 381, 8s. 6d. net ....BELL, Niay'18\n",
      "370         Armenian family's escape : From Turkish toils, Mugerditchian (Mrs. E.) 3d. net ....Mar. '18\n",
      "7746         Reminiscences and reflexions of a mid- and late Victorian, Bax (E. B.) 7s.6d, net. July'18\n",
      "4651    International relations of the Chinese Empire Morse (H. B ) Vols. 2 and 3, ea. 255. net Nov.'18\n",
      "1520      Champion (Jessie)--The Foclishness of Lilian. Cr. 8vo. 71 x 51, pp. 340, 65. ..LANE, Feb. '18\n",
      "2485       Dudeney (Mrs. Henry. Candlelight. Cr. 8vo. 7* x 5, pp. 255, 65. 91. net HURST & B., Oct. '18\n",
      "4652     International relationships, Church and, &c., Jones (J. D.) and Berry (S. W.) 4d. net Aug. '18\n",
      "5483         Luxury duty-Explan. statement on French tax on luxuries. id. H.M. STATIONERY OFF., May '18\n",
      "7946    Rostrevor (George)-Escape and fantasy. Cr 8vo. 71 x 53, pp. 64, 3s. 6d, net HEINEMANN, Nov. '18\n",
      "201         Alexander (Father)--The Catholic home. 7£x 41, pp. 145, 15, 6d. net....WASHBOURNE, Mar. '18\n",
      "5513         Macbeth (Ann)-The Play work book. Cr. 8vo. 74 X5, pp. 159, 39. 60. pet. . METHUEN, June'18\n",
      "9232      Thompson (W. S.) comp.-A Directory of mailing lists. Cr. 8vo. 128. Od. net. .PUTNAM, Mar. '18\n",
      "8594      Social Reform,Oxford InterdenominationalCouncil for--Annual report, 1917. is. net .. July '18\n",
      "594     Barclay (Florence L.)-The Upas tree. New ed. Cr. 8vo. 71 X 5, pp. 287, 35. 60. PUTNAM, Dec. '18\n",
      "8697       Spirituali a: bunu West: aitor-deatu expufi- ences, Warid (J. S. M.) 5s. net........Jan. '18\n",
      "7412    Powell (Ellis Thomas)--Your exam. and how to pass it. 8vo. pp. 58, 2s. FINANCIAL News,” Feb.'18\n",
      "1257       Burgin (G. B.)--- Lady Mary's money. Cr. 8vo. 7* x5, pp. 288, 6s. net .. HUTCHINSON, Feb.'18\n",
      "7644         Rean (Clifford)--Tainted goods. 71 x5, pp. 102. is. 6d. (Birmingham) MOODY Bros., Nov. '18\n",
      "9792     War, The, depicted by distinguished British artists, Holme (C.) 10s. 6d., 7s. 6d. net Dec. '18\n",
      "860         Bindlöss (Haro!d)-Agatha's fortune. Cr. sve. 7* X5, pp. 319, 5s, vet.... WARD, L., Mar, '18\n",
      "Name: 0, dtype: object \n",
      "\n",
      "\n",
      "4668     Ionides (Cyril) and Atkins (J. B.)-A Floating home. Illus. by Amold Bennett. Roy. 8vo. 94 x 64, pp. 136, 125. 6d. net CHATTO & W., Aug. '18\n",
      "10015     War: Section sanitaire anglaise No. 10 : British Volunteer Ambulance Convoy with and French Army, Leng (W. St. Q.) 21s. net...... July '18\n",
      "6345        My father : some brief reminiscences of Alexander Macomb Chance, J.P. By his daughter. 6 x 41, , pp. 34, 6d. net CORNISH BROS., Feb. '18\n",
      "3136       Fieldhouse (Arthur)—The Student's advanced commercial book-keeping. 22nd ed. Cr. 8vo. 77 X 5, pp. 749, 45. net AUTHOR ; SIMPKIN, Apr. '18\n",
      "9988       War-Prisoners of war, Treatment by the Germans of, taken during the Spring Offensives of 1918: Report. 2d. H.M. STATIONERY OFF., Oct. '18\n",
      "4000         Hancock (Mary S.)-The Squirrel's home; or, The Land of make-believe. 8vo. pp. 48, limp 4fd. net (Supplementary readers) NISBET, May '18\n",
      "6632        Odgers (W. Blake) — The Principles of pleading and practice in civil actions. 8th ed. 8% 51, pp. 622, 158. ..... STEVENS & SONS, Nov.'18\n",
      "3391     Fraser (T. A.)-Maitland of Castle Rough : being the memoirs of a soldier of fortune. Cr. Svo. 71 X5, pp. 288, 5s. net.... JENKINS, Jan. '18\n",
      "9552         Underhill (Francis)-The Catholic Faith in prac- tice in English parishes. Cr. 8vo. 71 X5, pp. 270, 5s, net.... .....COPE & F., Nov, '18\n",
      "8794        Stevenson (A. F., Lt.)-Income tax for Service men, their wives and nest-of-kin. Cr. 8vo. 7x41, pp. 115, 28. 6d. net P. S. KING, Oct. '18\n",
      "5564      McKenzie (F. A.)-Serving the King's men : how the Salvation Army is helping the nation. Cr. 8vo. pp. 76, swd. is, net HODDER & S., Aug.'18\n",
      "4514     Hurst (C. Herbert) see Marshall (A. M.) and Hurst. Hurst (Fannie) ---Gasiight sonatas. Cr. 8vo. 71x5, pp. 274, 6s. net HODDER & S., Nov.'18\n",
      "8767        Stead (Robert J. C.)-Why don't they cheer ? poems. Intro. by William T. Allison. Cr. 8vo. 71 * 5, pp. 167, 38. 6d. net . UNWIN, Apr. '18\n",
      "3830      Gourko (Basil, Gen.)- Memories and impressions of war and revolution in Russia, 1914-1917. 8vo. 81 X5}, pp. 363, 18s. net MURRAY, Dec. '18\n",
      "7427     Praeger (S. Rosamond)- Billy's garden plot and how he helped the food supply in war-time. Illus. Fol. 104 X8, 3s. 6d. net BLACKIE, Oct. '18\n",
      "2623         Education (Bd. of)-Secondary schools in England, excl. Wales and Monmouthshire, Regulations for. 20. ....H.M. STATIONERY OFF., June '18\n",
      "4324     Hogg (C. F.)-The Mystery of iniquity : sugges- tions towards the interpretation of Revelation xiii. 8vo. pp. 20, 3d. net.. THYNNE, June '18\n",
      "2966        Evidence of Divine arrangement in the Psalms. By “J. R. K.” 8vo. pp. 47, 4d. (London : 20, Paternoster Sq., E.C.4) G. MORRISH, J 111.'18\n",
      "2246        Deane (P. E.) see Barrett (J. W.) and Deane. Da we (Carlton)—The Admiralty's secret. Cr. Dear England, poems, Craig (E.) 8d. net Nov.'18\n",
      "4886         Judson (H. P.)—The Threat of German world politics. 8vo. pp. 30, 3d. net (Univ. o; Chicago war papers. No. 1) CAMB. UNIV. PR., Apr. '18\n",
      "Name: 0, dtype: object\n"
     ]
    }
   ],
   "source": [
    "# Get the clean entries from a csv file. Squeeze the result to convert\n",
    "# the single-column dataframe into a series.\n",
    "clean_entries = df.squeeze()\n",
    "\n",
    "# Drop null values\n",
    "clean_entries = clean_entries.dropna()\n",
    "\n",
    "# Get the length of each entry string\n",
    "lengths = clean_entries.map(len)\n",
    "\n",
    "# Get entry strings around the center of the largest peak\n",
    "first_peak = clean_entries.loc[(lengths > 47) & (lengths < 53)]\n",
    "\n",
    "# Get entries in the second peak\n",
    "second_peak = clean_entries.loc[(lengths > 89) & (lengths < 96)]\n",
    "\n",
    "# Get entries in the third peak\n",
    "third_peak = clean_entries.loc[(lengths > 134) & (lengths < 140)]\n",
    "\n",
    "tiny = clean_entries.loc[lengths<15]\n",
    "\n",
    "# View a random sample of values in each peak\n",
    "\n",
    "print(tiny.sample(40), '\\n\\n')\n",
    "print(first_peak.sample(20), '\\n\\n')\n",
    "print(second_peak.sample(20), '\\n\\n')\n",
    "print(third_peak.sample(20))\n",
    "\n"
   ]
  },
  {
   "cell_type": "markdown",
   "metadata": {},
   "source": [
    "Run the previous cell several times, examining the output carefully each time. Are there clear differences in the contents of the entries from each peak? Can they be explained by reasonable features of a real data set or do you think the structure in the histogram is a result of bad parsing?"
   ]
  },
  {
   "cell_type": "markdown",
   "metadata": {},
   "source": [
    "I think we can draw three conclusions here (Devin's analysis):\n",
    "\n",
    "1. The largest peak is the easiest to explain: title-first entries, which only contain the book title, author name, price, and month of publication, are frequently about 50 characters long. There are of course a huge number of title-first entries much longer than that, and the other two peaks are sitting on top of a long tail from the title-first peak.\n",
    "2. The second peak looks like it consists mostly of author-first entries for single-author, single-title books.\n",
    "3. The third peak is the most complicated. I see books that have both multiple authors and long subtitles, as well as entries that have additional information like a series name, such as `(Langham bibelots, No. 10.)`, or a note about translation, for instance `English version by A. W. Verrall.`"
   ]
  },
  {
   "cell_type": "markdown",
   "metadata": {},
   "source": [
    "## <u>Testing new methods</u>"
   ]
  },
  {
   "cell_type": "markdown",
   "metadata": {},
   "source": [
    "Now that we have looked at how our code is currently parsing this issue of the catalogue, we can try adding to our regular expressions patterns to see if we can split the entries more accurately. \n",
    "\n",
    "If you want to search for a specific word or textual pattern, you can use the code cell below and just replace \"see\" in the second to last line with the word or pattern you're looking for."
   ]
  },
  {
   "cell_type": "code",
   "execution_count": 6,
   "metadata": {},
   "outputs": [
    {
     "name": "stdout",
     "output_type": "stream",
     "text": [
      "number of entries containing \" see \": 260\n",
      "\n",
      "\n"
     ]
    },
    {
     "data": {
      "text/plain": [
       "552                                     Bamber (L. Kolway-) see Kelway-Bamber. “ Banco \"-Kit of the kitchen. 28. net Oct. '18\n",
       "8727              Stamford (F. Cortis-) see Cortis-Stamford. Stamp collections for war museums, Melville (F. J.) 6d. July '18\n",
       "6947                                 Partridge (W.) see Moor (C. G.) and Partridge. Party, The, O'Brien (w.) Id... ..Jan. '18\n",
       "5724                                         Mare (W. de la) see De la Mare, Margaret Roper : tragedy, Oswin (Y.) is. May '18\n",
       "7634                      Read (Ernest) see Macpherson (S.) and Read. Reading book, Pauline's first, Bell (Lady) 25. Nov. '18\n",
       "6594            Nurse (E. J.) see also Ivens (C. Ll.) and Nurse. Nursery rhyme book, Happy, Wood (C.) is. 6d. net .. Dec. '18\n",
       "4013                     Hanson (W. W.) see Kober (G. M.) and Hanson. Happy Billy Bunny, Gross (Mrs. A.) is. 6d. net Nov. '18\n",
       "1535                                                                          Chard (Victor) see Freeman (F. W.) - I 2mo. 28.\n",
       "5051       Laby (T. H.) see Kaye (G. W. C.) and Laby. Lacey (T. A.)-Oxford sermons. 7X41, pp. 41, IS.net. . MOWBRAY, July '18\n",
       "6544                              Noble (Margaret E.) see Nivedita (Sister). Nocturne, Swinnerton (F.) 6s. net ......July '18\n",
       "5453                             Love songs of a soldier, Hennesley E.) 28. net Lords (House of) see House of Lords. Oct. '18\n",
       "628                                                  Bary (R. de) see De Bary. \"Bascule \"-Advanced auction bridge. 55. May'18\n",
       "2072     Croisilles (Henry) see Malherbe (H.) Croker (B. M.)—Bridget. Cr. 8vo. 78 x 5, pp. 296, 6s.net .. HUTCHINSON, Aug.'18\n",
       "3518                    Garden, Vegetable, Lay (E. J. S.) is, 6d. net Garside (T. H.) see Hogge (J. M.) and Garside. Jan. '18\n",
       "10468                Woman : a citizen, Metcalfe (A. E.) 25. 6d. net Wood (Hon. Edward) see Lloyd (Sir G.) and Wood. Nov. '18\n",
       "4400             Hosken (Heath) see Stanton (C.) and Hosken. Hosmer (G. L.)--Navigation. 18mo. 6s. net CHAPMAN & H., July '18\n",
       "10471                                                                   Wood (Henry G.) see Mackenzie (E.) and Wood. June '18\n",
       "7553                  Pulling (Gyda) see Harrison (H.) and Pulling. Pumping schemes, Slow filtration, Close (L. H.) · June'18\n",
       "7642                                     Réal (P.) see Imbert (L.) and Réal. Realism, McDozall (A.) 1os. 6d. net.... Sep. '18\n",
       "157            Ahmal (Azimuddin) see A zimuddin Ahmad. Ahmadia Movement : Crying need of the age ful. filled. 2d. ... May '18\n",
       "Name: 0, dtype: object"
      ]
     },
     "execution_count": 6,
     "metadata": {},
     "output_type": "execute_result"
    }
   ],
   "source": [
    "author_to_author_entries = clean_entries.loc[\n",
    "    clean_entries.str.contains(' see ')\n",
    "]\n",
    "\n",
    "# python interprets two strings on successive lines as a single string\n",
    "# so it's easier to read long strings in source code.\n",
    "print(\n",
    "    'number of entries containing \" see \":'\n",
    "    f' {author_to_author_entries.size}\\n\\n'\n",
    ")\n",
    "\n",
    "author_to_author_entries = clean_entries.loc[\n",
    "    clean_entries.str.contains(' see ') & (lengths < 120)\n",
    "]\n",
    "author_to_author_entries.sample(20)"
   ]
  },
  {
   "cell_type": "markdown",
   "metadata": {},
   "source": [
    "Now, we can look at a sample of the longest entries to see where they are not being split correctly. "
   ]
  },
  {
   "cell_type": "code",
   "execution_count": 7,
   "metadata": {},
   "outputs": [
    {
     "data": {
      "text/plain": [
       "618                       Barry (Armstrong)-Laurel and myrtle. 7*X5, pp. 78, 28. 6d. net ..HODGE, Dec. '17 Barry (C. J., Rev.)- Tile Blurred mirror and other sermons. 75X5, pp. 154, 25, 6d. net STOCKWELL, June'is Barter (John)--How to write a good letter. Enl. by Gilbert Foyle. 16mo. swd. Is. 3d. net (121, Charing Cross Rd., W.C. 2) W. & G. FOYLE, Oct. '18\n",
       "916                  Blakeney (Stepney)—How an aeroplane is built. Cr. 8vo. 71 x 5, pp. 233, 5s. net AEROPLANE AND GENERAL PUBG, Co., May '13 Blanchard (Ralph H.)--Liability and compensa- tion insurance. 8vo. pp. 406, 78. 6d. net APPLETON, Dec. '17 Bland (Hubert)—With the eyes of a man. Cheaper ed. Cr. 8vo. 77 x 48, pp. 224, swil. 23. ret GRAFTON, Nov. '18\n",
       "970                             Bonavia-Hunt (D.)-Jack-a-Dandy: an Eliza - bethan viliage play. Illus. pp. 26, 9d. J. CURWEN, July 'IS Bond (Frederick Bligh)-The Gate of remem- brance : the story of the psychological experi- ment which resulted in the discovery of the Edgar Chapel at Glastonbury. Illus. 8vo. 81 x 51, pp. 186, 6s, net .. BLACKWELL, Jan. '18\n",
       "1014      Boup lary Commi siun. See Parliament, Re- di: tribution of seats, &c. Bourgeois (H.) and Sourville (M.)--War otitis and war duaínes: diagno: is, triatmınt, medical reports. Pref. by Medecin-In: pcctt ur Toubuit. Engli . h tran:., ed. by J. Dunda Grant. Cr. 8vo. 71 x 5, pp. 249, 6s. net (Military medical manuals) .... UNIV. OF LONDON PR., Mar. '18\n",
       "1069               Bramley-Moore (S., Capt.)-Motors in a nutshell. 6x+1, pp. 160, is. 6d. net .SPON, Duc. '17 Brampton (Baron) see Hawkins (Sir H.) Brand (C. Neville)-- The I!ouse of time and other poems. 7 X+2, 29. 18, is, 3d, net (Satchel ser.) MATHEWS, ) 21916'.8 Brangwyn, Frank, Prints and drawings by, &c., Shaw-Sparrow (W.) 528. 60. net...... Dec. ’18\n",
       "1985                 Coster (Charles de)-The Legend of the glorious adventures of Tyl Ulenspiegel in the land of Flanders and elsewhere. Tr. fr. French by Geoffrey Whitworth. 20 woodcuts by Albert Delstanche. Sma. fcap. 4to. 8} 61, pp. 303, 75. 6d. net; presentation ed., 12s. 6d. net; ed. de luxe (10 copies) parcbment gilt, 1269. net .CHATTO & W., Oct. '18\n",
       "2134                     Curwood (James Oliver)-The Treasure hunters. 8vo. pp. 277, 5s. net .CASSELL, Dec.'17 Curwood (James Oliver)-The Wolf hunters. 8vo. pp. 277, 58. net .CASSELL, Dec. '17 Cushman (J.)-The Foraminifera of the Atlantic Ocean. Pt. I, Astrorhizidae. 39 pl. Ryl. 8vo 9*X6, pp. III, 6s. net (U.S. Nat. Museum Bulletin, 104).. .WESLEY, Sep. '18\n",
       "2433             Douthitt (H.)--The Structure and relationships of Diplocaulus. Illus. Ryl. Svo. 91 x 61, pp. 42, is. 311. net (Contrit. fr. Walker Muscuni, l'ol. 2, no. I) CAMB, UNIV. PR., Dec. '17 Dover (A. T.)--Electric motors and control sy;- tems: a treatise on electric traction motors and their control. 8vo. 8** 53, pp. 388, 16s. net PITMAN, July '18\n",
       "2517                    Dunstan (R.) and Bygott (C. E.) eds.—Two hundred nursery rhymes, jingles and ditties, with music. Ryl. 8vo. pp. 56, swd. 28. net (“ S. and S.” ser.). . SCHOFIELD & S., July';8 Dun woody (H.)—Notes, problems and laboratory exercises in mechanics, sound, light, thermo- mechanics and hydraulics. 8vo. 135. 6d. net CHAPMAN & H., Mar. '18\n",
       "2873                        Erasmus—The Epistles of Erasmus, from his earliest letters to his fifty-third year, arranged in order of time. Eng. tr. fr. his correspond- ence, w. commentary confirming chronological arrangement and supplying further biographical matter, by Francis Morgan Nichols. (In 3 vols.) Vol. 3. 93x6, pp. 500, 18s. net LONGMANS, July '18\n",
       "3787                         Goodspeed (E. J.)- The Haskell Gospels. Fac- sim. Ryl. 8vo. 10 X7, pp. 16, Is. 3d. net (Hist. and linguistic studies in literature rela.\" to Ve! Testament)....CAMB. UNIV. PR., Mar. 'is Good win (T. H., Col.)-Field service notes for R.A.M.C., incorporating amendments to July 1917. 12mo. 77 x 41, pp. 96, 3s. 6d. net BALE, July'18\n",
       "4698         Ireland, Story of, Sullivan (A. M.) 35., 28. net Irish universities--Accounts of universities and Mar. '18 colleges in Ireland, 1916–17. 2d. Ireland, Stranger in. By “ An Englishman.\" H.M. STATIONERY OFF., Nov. '17 3s. 6d. net .. June'18 Irish unrest, Church of Rome and, Corkey (W.) Irelanl, Young : John Mitchel, etc., O'Hegarty 3d. · June '18\n",
       "5587      Maclachlan (H. G.) see Leon (H. M.) and Mac- Lachlan. Maclagan (O. F.)-The Way to victory, with a scheme for an immediate League of Nations. With intro.--\"A League of Nations : what it means and what it will accomplish,\" by C. A. McCurdy: 8vo. 8} x 51, pp. 113, 2s. 6d. net (International Buildings, Legard Rd., N. 5) E. R. DUKE ; SIMPKIN, Nov. '18\n",
       "5614     MacNicoll (Gibson)-Cracks and Clavers. 8vo. pp. 66, 3s. 6d.......FRASER, ASHER, Dec. '17 Macphail (Hector)— Model answers to questions on nursing set by the Medico-Psychological Association. 2nd ed. 8vo. pp. 253, 3s. 6d. SCIENTIFIC PR., Dec. '17 Macphail (J. M.)-Asoka. Cr. 8vo. 73 X 5, pp. 88, is. 6d. net (Heritage of India ser.) MILFORD, Mar. '18\n",
       "5798                   Matriculation Latin papers : papers in Latin grammar, composition and unseen translation set at Matric. Exam. of Univ. of London fr. Sept. 1905 to June 1915, w. full solutions to last paper, additional model papers, notabilia and illustrative sentences for Latin prose. Cr. 8vo. 48 x64, pp. 128, swd. is. 9d. UNIV. TUTOR. PR., June '18\n",
       "5899                       Medical Research Ctte., Nat. Health Insurance. French, and The Wars of the Seventeenth See under Insurance (Nat. Health). Century, by Torick Ameer-Ali. Foreword by Medical : Scopolamine-morphine : semi-narcosis Sir Ian Hamilton. 8vo. 83 x 54, pp. 313, 6. during labour, Greenwood (W. 0.) 6s. net Ios. 6d. net.... ... LANE, Aug. '18\n",
       "6056               Military : Scout-sniping. By “Periscope.” 35. net June '18 Mill (John Stuart)–England and Ireland : Military Service Acts, 1916–1918-Circular; the separation of the two countries considered. Instructions ; Memoranda ; Notes; Orders, 7} X5, pp. 48, is. &c. Ea. id. (Dublin : Commercial Bldgs., Dame St.) H.M. STATIONERY OFF., Jan., &c., '18\n",
       "6921                        Parkyn (H. G., Capt.)--A Short history of the Rifle Brigade. *Intro. by Col. Willoughby Verner. 81x55, pp. 58, swd., 25. 6d. net J. BALE, Mar.'18, Parliament : House of Commons-Debates. (Official rpt.). Daily pts., ea. 3d. ; Vols. 94-107 (June 5, 1917-July 4, 1918), various prices fr. 45.-58. H.M. STATIONERY OFF.,Oct.'17-Oct.'18\n",
       "7026                    Pensions (Ministry of)-Special Grants Ctte. Officers' regulations : Supplementary allow- ances, special allowances and grants, id.; Rgns., Pt. 1: Supplementary allowances, special allowances and grants, and instruc. for local cttes., Id.; Rgos., Pt. 2 : Supplementary separation allowances, &c. id. H.M. STATIONERY OFF., May, Oct. '18\n",
       "7496                     Problem of Japan (The): a political study of Japan, and of her relations with Russia, Great Britain, China, Germany, the United States, the British Colonies and the Netherlands, and of the world politics of the Far East and the Pacific. By an Ex-Counsellor of Legation in the Far East. Ryl. 8vo. pp. 280, swd. 75. 6d. LUZAC, Dec. '18\n",
       "7686                           Reconstruction (Ministry of)--Agricultural Policy Sub-Ctte. : Report on methods of effecting an increase in home-grown food supplies, having regard to need of such increase in interests of national security; w. Reports by Sir Matthew G. Wallace, is. 3d. ; Summaries of evidence, w. index, is. 3d. H.M. STATIONERY OFF., June '18\n",
       "8178                      Scott (James Brown)-An International Court of Justice: letter and memorandum of January 12, 1914, to the Netherlands Minister of Foreign Affairs, in behalf of the establishment of an International Court of Justice. Cr. 4to. 10 X 7, pp. 108, 6s. 6d. net (Carnegie Endow. for Internat. Peace : Div. of Internat. Law) MILFORD, Feb. '18\n",
       "8442               Simpson (J.)-Urdu grammar in Roman charac- Signs of the times (The); or, What, according to ters, for the use of European schools in India. the Bible, present events imply as to the future. Pt. 1, Simple sentences. Cr. 8vo. 71 x 5, pp. By “A Brevet Lieutenant-Colonel.\" F'cap. 46, is. net 8vo. 61 X 4), pp. 25, swd, 6d. .LONGMANS, June '18\n",
       "10366        Wilberforce, Basil : memoir, Russell (G. W. E.) 8s. act .Dec. '17 Wilberforce (Rollox)-Fulness of time. 71x 44, pp. 154, 35, 6d. ....DRANE, Dec. '17 Wilberforce (Samuel)—Sunday stories : a selec- tion of stories from Agathos and The Rocky Island.\" Ed. by J. E. Hodder Williams. 18mo. 61 x 44, pp. 155, 4s, net, 3s. net, 25. net MILFORD, Dec. '18\n",
       "10474                       Woman spy, De Halsalle (H.) 2s, net ..Sep. '18 Wood (R. C.)-The Soldier's first aid : a simple Woman Sutfrage : Country of no woman's land. treatise on how to treat a sick or wounded By “ A British Woman IS net.... June '18 comrade. 18mo 64 x 44, pp. 93, is. 6d. net Woman, why weepest thou ? Roche (A.) 2s.net MACMILLAN. Oct. '18\n",
       "10543     HARRAP, Apr. 'IS Wright (Planche Fisher) illus.-Old King Cole. Wyllarde (Dolf)-The Pathetic snobs : being 12 X 9, swd. is. net (Mother Goose loy bks.) certain happcnings in the second year of the HARRAP, A pr.'18 war in the lives of very ordinary people. Wright (Blanche Fisher) illus.---Peter Piper. 71 x 5, pp. 256, 6s, net .. HURST & B, July '18\n",
       "10606          Znaniecki (F.) see Thomas (W. I.) and Znaniecki. Zoology : Antarctic Exped., Brit., 1910. Nat. hist. rpt. : 2. Vol. 2, no. 8, 5s. ; Vol. 3, no. 6, pt. 1, is, 6d. ; Vol4, no. 2, pp. 11-82, I2s. Vol. 5, no. 1, pp. 1-68, pt. 1, ros. British Museum (N.H.) ..1918 Zoology, Prac., Jun. course of, Marshall (A. M.) and Hurst (C. H.) 12$. net Oct. '18\n",
       "Name: 0, dtype: object"
      ]
     },
     "execution_count": 7,
     "metadata": {},
     "output_type": "execute_result"
    }
   ],
   "source": [
    "clean_entries.loc[(lengths > 325) & (lengths < 350)]"
   ]
  },
  {
   "cell_type": "markdown",
   "metadata": {},
   "source": [
    "A substantial number of long entries have a date that should mark a point to split entries that was missed for some reason. Reviewing a few samples in the previous cell, I see at least three cases that need to be handled:\n",
    "1. OCR mistakes, like `I3` or `;8` or `is` rather than `18`\n",
    "2. Books published in 1917 and listed in this catalogue (our code assumes `18` is part of the entry delimiter)\n",
    "3. Entries with apparently well-formed 1918 dates that the current code failed on. For example, entry `6921` appears to be two entries separated by a 1918 date that was skipped over for reasons I don't understand yet. This is the kind of thing we need to look into. "
   ]
  },
  {
   "cell_type": "markdown",
   "metadata": {},
   "source": [
    "The first two cases are relatively easy to handle. Let's start by finding the regular expressions our code uses to split entries apart and build on that to improve the current process. That code is documented in `Parsing_ECB_1912_wi23.ipynb`, currently living in the `scripts` directory of the github repository. In the section \"Splitting the Text into Entries\" in that notebook, I find the following process:"
   ]
  },
  {
   "cell_type": "code",
   "execution_count": null,
   "metadata": {},
   "outputs": [],
   "source": [
    "# ALL CODE IN THIS CELL IS ADAPTED FROM Parsing_ECB_1912_wi23.ipynb\n",
    "\n",
    "# read the Hathi Trust OCR into memory\n",
    "with open(f'../princeton_years/ecb_19{year}.txt', encoding='utf8') as f:\n",
    "    ocr_full_text = f.read()\n",
    "\n",
    "# Separate main text from the front matter of the catalogue (note the\n",
    "# string called ocr_main_text still has the back matter attached until\n",
    "# a later step)\n",
    "# Note python allows multiple assignment: the split operation below\n",
    "# creates a two-element list whose elements are then assigned to two\n",
    "# different variables\n",
    "ocr_front_matter, ocr_main_text = re.split(r'A\\nACTS', ocr_full_text)\n",
    "\n",
    "appendix_pattern = (\n",
    "    r\"APPENDIX\\nLEARNED SOCIETIES, PRINTING CLUBS, &c., \"\n",
    "    r\"WITH LISTS OF THEIR\\nPUBLICATIONS, 1918\"\n",
    ")\n",
    "\n",
    "# Separate main text from the back matter of the catalogue\n",
    "ocr_main_text, ocr_back_matter = re.split(appendix_pattern, ocr_main_text)\n",
    "\n",
    "# Make a regular expression to capture headers at the top of each\n",
    "# catalogue page\n",
    "header_capital_letters = r\"^(?:[A-Z\\-\\'\\sÈ]+)\"\n",
    "header_pattern = r\"^#(?s:.*?){}(?s:.*?){}(?s:.*?){}$\".format(\n",
    "    header_capital_letters, header_capital_letters, header_capital_letters\n",
    ")\n",
    "\n",
    "# Split the main text into pages and strip the headers. According to\n",
    "# Parsing_ECB_1912_wi23.ipynb this method fails to remove six headers.\n",
    "pages = [\n",
    "    re.sub(header_pattern, '', page, flags=re.M)\n",
    "    for page in ocr_main_text.split('\\f')\n",
    "]\n",
    "\n",
    "# Now find all lines ending in 12 and insert a token to split on\n",
    "entries_by_page = [\n",
    "    re.sub(r'(\\W18\\.?$)', '\\\\1<ENTRY_CUT>', page, flags=re.M)\n",
    "    for page in pages\n",
    "]\n",
    "\n",
    "# Split on the token to create a list of lists where each element is\n",
    "# a list of entries on an individual page\n",
    "entries_by_page = [\n",
    "    re.split(r'<ENTRY_CUT>', page, flags=re.M)\n",
    "    for page in entries_by_page\n",
    "]\n",
    "\n",
    "print(f'total entries: {sum([len(p) for p in entries_by_page])}')"
   ]
  },
  {
   "cell_type": "markdown",
   "metadata": {},
   "source": [
    "Now let's test a new regular expression for splitting entries "
   ]
  },
  {
   "cell_type": "code",
   "execution_count": null,
   "metadata": {},
   "outputs": [],
   "source": [
    "# This cell assumes we're looking at the 1912 catalogue; try changing\n",
    "# this code (and the year parameter in the first code cell of the\n",
    "# notebook) to catch OCR mistakes for a different year.\n",
    "\n",
    "# create a list of possible values the OCR software might have created\n",
    "# when it ran into an 11 or 12 on the page\n",
    "ocr_interpretations_of_18 = [\n",
    "    'i8',\n",
    "    'I8',\n",
    "    'l8'\n",
    "]\n",
    "ocr_interpretations_of_17 = [\n",
    "    'i7',\n",
    "    'I7',\n",
    "    'l7'\n",
    "]\n",
    "terminators = ocr_interpretations_of_17 + ocr_interpretations_of_18\n",
    "\n",
    "# modify the existing regex with our new options\n",
    "entry_terminator_regex = r'(\\W({})\\.?$)'.format('|'.join(terminators))\n",
    "\n",
    "# get a new set of entries the same way as above, but using the new\n",
    "# regular expression\n",
    "new_entries_by_page = [\n",
    "    re.sub(entry_terminator_regex, '\\\\1<ENTRY_CUT>', page, flags=re.M)\n",
    "    for page in pages\n",
    "]\n",
    "new_entries_by_page = [\n",
    "    re.split(r'<ENTRY_CUT>', page, flags=re.M)\n",
    "    for page in new_entries_by_page\n",
    "]\n",
    "\n",
    "print(f'total entries: {sum([len(p) for p in new_entries_by_page])}')\n"
   ]
  },
  {
   "cell_type": "code",
   "execution_count": null,
   "metadata": {},
   "outputs": [],
   "source": [
    "new_entries_by_page[0][0].splitlines()"
   ]
  },
  {
   "cell_type": "code",
   "execution_count": null,
   "metadata": {},
   "outputs": [],
   "source": [
    "for page in new_entries_by_page:\n",
    "    for entry in page:\n",
    "        for line in entry.splitlines():\n",
    "            print(line)\n",
    "        #print()\n",
    "            print(\"---------\")"
   ]
  },
  {
   "cell_type": "markdown",
   "metadata": {},
   "source": [
    "OK, we might have found 255 entries that weren't caught with the previous splitting expression. Let's look more closely at those to see how are splitting is working:"
   ]
  },
  {
   "cell_type": "code",
   "execution_count": null,
   "metadata": {},
   "outputs": [],
   "source": [
    "# It can be much more efficient to do things like check if elements in\n",
    "# one sequence exist in another using pandas objects rather than the\n",
    "# standard python library, so I flatten the lists of lists of entries\n",
    "# into pandas series containing all the entries.\n",
    "old_entries = pd.Series(\n",
    "    [e for page in entries_by_page for e in page],\n",
    "    dtype=pd.StringDtype()\n",
    ")\n",
    "new_entries = pd.Series(\n",
    "    [e for page in new_entries_by_page for e in page],\n",
    "    dtype=pd.StringDtype()\n",
    ")\n",
    "\n",
    "# strip nonprinting characters and replace all newlines in each entry\n",
    "# with spaces\n",
    "old_entries = old_entries.str.strip()\n",
    "new_entries = new_entries.str.strip()\n",
    "old_entries = old_entries.str.replace('\\n', ' ')\n",
    "new_entries = new_entries.str.replace('\\n', ' ')\n",
    "\n",
    "# Get new entries that don't exist in the old set\n",
    "new_entries = new_entries.loc[~new_entries.isin(old_entries)]\n",
    "\n",
    "print(f'number of new entries: {len(new_entries)}')\n",
    "#print(new_entries)\n",
    "print(new_entries.map(len))\n",
    "# plot a histogram of lengths of the new entries\n",
    "fig2 = new_entries.map(len).hist(bins=range(0, 6000, 50))"
   ]
  },
  {
   "cell_type": "markdown",
   "metadata": {},
   "source": [
    "The histogram we started with covers nearly 20,000 entries. Here we have only 300, but the plot generated in the previous cell already looks extremely similar to the one at the top of the document. This means we can probably assume the entries we've produced here are just as good as the rest of the entries we're already capturing. Probably! I haven't actually looked at the new entries in detail, but it's 0200 and I need to finish this up."
   ]
  },
  {
   "cell_type": "markdown",
   "metadata": {},
   "source": [
    "## <u>Wrapping up</u>"
   ]
  },
  {
   "cell_type": "markdown",
   "metadata": {},
   "source": [
    "The goal here was to demonstrate how to play around with the data and the code for our summer project. The general method I followed was something like the following:\n",
    "1. Get some kind of overview of the output from our current parsing operations. I went with the size of the strings but there are all kinds of ways to do this. You could think about features of strings that have words in all caps and compare them to strings that don't have capitalized words (publishers in the author-first entries are almost always capitalized). You could start by exploring the dataframes, where the strings have been parsed out into specific fields, rather than thinking about whole entries. Explore the results we have and find something you think is interesting. If you can't think of a way to use that feature to explore the data, run it by one of your colleagues and see what they think. Your team is always your best asset!\n",
    "2. Use that view of the data to characterize what's working and what isn't. In this case it was clear that unreasonably short or long strings were going to have some errors, so I was able to look at those entries to see where there might be problems in the existing process.\n",
    "3. Find out which part of the existing code is relevant for the feature you're interested in. This part is probably going to be hard if you haven't had a much experience with programming. If it isn't obvious how to proceed after you've had a look at some of the scripts, ask me or Anna how to do what you want to do.\n",
    "4. See if you can modify the code to get different results.\n",
    "5. Use the same overview process you started with to compare your new result with the old one.\n"
   ]
  },
  {
   "cell_type": "code",
   "execution_count": null,
   "metadata": {},
   "outputs": [],
   "source": []
  }
 ],
 "metadata": {
  "kernelspec": {
   "display_name": "Python 3 (ipykernel)",
   "language": "python",
   "name": "python3"
  },
  "language_info": {
   "codemirror_mode": {
    "name": "ipython",
    "version": 3
   },
   "file_extension": ".py",
   "mimetype": "text/x-python",
   "name": "python",
   "nbconvert_exporter": "python",
   "pygments_lexer": "ipython3",
   "version": "3.10.9"
  }
 },
 "nbformat": 4,
 "nbformat_minor": 2
}
