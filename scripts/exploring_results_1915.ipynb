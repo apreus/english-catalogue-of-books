{
 "cells": [
  {
   "cell_type": "markdown",
   "metadata": {},
   "source": [
    "Devin Short \n",
    "30 June 2023 \n",
    "shortda@uw.edu"
   ]
  },
  {
   "cell_type": "markdown",
   "metadata": {},
   "source": [
    "This is a tutorial demonstrating how to explore data parsed out of the catalogues. The idea is to understand what kind of content we've generated, get a feel for how well our current tools are working, and try improving them. This notebook requires functions from `reporting.py`, currently living in the scripts directory of the github repository.\n",
    "\n",
    "Let's import some packages and set parameters we'll use below."
   ]
  },
  {
   "cell_type": "code",
   "execution_count": 10,
   "metadata": {},
   "outputs": [],
   "source": [
    "import pandas as pd\n",
    "import re\n",
    "\n",
    "pd.set_option('display.max_colwidth', 500)\n",
    "\n",
    "# If you're running this notebook from a directory that doesn't contain\n",
    "# reporting.py you'll either need to edit the following line to reflect\n",
    "# the relative location of the reporting module or copy reporting.py\n",
    "# into the current directory\n",
    "from reporting import histogram_strings_by_length\n",
    "\n",
    "# The year determines which issue of the catalogue we're looking at\n",
    "# across the entire notebook\n",
    "year = 15"
   ]
  },
  {
   "cell_type": "markdown",
   "metadata": {},
   "source": [
    "## <u>Summarizing data with histograms</u>"
   ]
  },
  {
   "cell_type": "markdown",
   "metadata": {},
   "source": [
    "One way to start is by looking at the number of characters in all entries parsed out of one year of the catalogue. Most good entries are going to have similar lengths because they display similar data. Extremely short entries are probably fragments created by OCR errors and some extremely long entries will be multiple entries the code we're using failed to split apart."
   ]
  },
  {
   "cell_type": "markdown",
   "metadata": {},
   "source": [
    "We can get an overview by creating a histogram of the entry lengths. A histogram shows a series of bins on the bottom axis and the number of objects falling into each bin on the vertical axis. In this case I've created bins 5 characters wide, so each bar in the plot below shows the number of entries 0-5 characters long, 5-10 characters long, etc.\n",
    "\n",
    "I've also created parameters to examine \"underflow\" and \"overflow\" regions of the histogram. Underflow and overflow counts in a histogram refer to objects that are irrelevant for some reason. In many cases a histogram will have a single underflow or overflow bin that aggregates everything outside the region of interest, but I've included the full histogram here and shaded the outflow regions."
   ]
  },
  {
   "cell_type": "code",
   "execution_count": 11,
   "metadata": {},
   "outputs": [
    {
     "name": "stdout",
     "output_type": "stream",
     "text": [
      "total number of strings: 16427\n",
      "number of strings shorter than 30 characters: 481, 2.9%\n",
      "number of strings within outflow limits: 15878\n",
      "number of strings longer than 300 characters: 68, 0.4%\n"
     ]
    },
    {
     "data": {
      "image/png": "[encoded data removed]",
      "text/plain": [
       "<Figure size 1200x600 with 1 Axes>"
      ]
     },
     "metadata": {},
     "output_type": "display_data"
    }
   ],
   "source": [
    "path = f'../entries/clean_entries/entries_19{year}.csv'\n",
    "\n",
    "# Run this cell and then play around here by adding bins=20 to the\n",
    "# list of arguments in the call to histogram_strings_by_length below.\n",
    "# Then try bins=range(400).\n",
    "# You can change the outflow boundaries by adding underflow_lim or\n",
    "# overflow_lim to the list of arguments and setting them to integers.\n",
    "# The default values are underflow_lim=30, overflow_lim=300.\n",
    "hist_results = histogram_strings_by_length(\n",
    "    path,\n",
    "    show_over_under=True,\n",
    "    drop_nulls=True\n",
    ")"
   ]
  },
  {
   "cell_type": "markdown",
   "metadata": {},
   "source": [
    "You can get some idea of what's happening with different output data by examining different sets of entries. Try changing `clean_entries` to `full_entries` in the path above. Notice that the numbers of entries in each section of the histogram, reported above the plot, are different for the two data sets; clearly the existing code does more than identify short or long entries and drop them to transform \"full\" entries to \"clean\" entries. \n",
    "\n",
    "Looking at the shape of the histogram, you'll see there's a large peak around 50 characters, but then there are smaller peaks at about 90 characters and 140 characters. If you set `bins=range(400)` in the call to `histogram_strings_by_length` above, you'll see those secondary peaks are still present with higher resolution binning. How might we find out what causes that structure?\n",
    "\n",
    "Let's start by viewing some of the entry strings."
   ]
  },
  {
   "cell_type": "code",
   "execution_count": 12,
   "metadata": {},
   "outputs": [
    {
     "name": "stdout",
     "output_type": "stream",
     "text": [
      "10091        Feb. 15\n",
      "10713         I 2mo.\n",
      "9998         Oct. 15\n",
      "981          Oct. 15\n",
      "2729             E 2\n",
      "16228        Oct. 15\n",
      "5341         Dec. 15\n",
      "11795        Oct. 15\n",
      "16459         Od. 15\n",
      "186          Oct. 15\n",
      "4446              G2\n",
      "7707         Dec. 15\n",
      "7664         Oct. 15\n",
      "6274             I 2\n",
      "4026         Dec. 15\n",
      "3626         Dec. 15\n",
      "15478        Oct, 15\n",
      "7155         Mar. 15\n",
      "2481         Feb. 15\n",
      "15480        Dec. 15\n",
      "6538         Nov. 15\n",
      "14276        Nov. 15\n",
      "10712        Mar. 15\n",
      "7357         Feb. 15\n",
      "8662         Mar. 15\n",
      "11347        Oct. 15\n",
      "16264        Oct. 15\n",
      "12040        Nov. 15\n",
      "6126     IS. Oct. 15\n",
      "13733        Dec. 15\n",
      "13453        June 15\n",
      "8963         Dec. 15\n",
      "11398        Dec. 15\n",
      "10092        Mar. 15\n",
      "15750        Oct. 15\n",
      "10257        Oct. 15\n",
      "1882         Mar. 15\n",
      "6751         Mar. 15\n",
      "3237         Oct. 15\n",
      "4839     IS. Oct. 15\n",
      "Name: 0, dtype: object \n",
      "\n",
      "\n",
      "866         Asia in pictures, Barnard (H. C.) is. 6d. Feb. 15\n",
      "8693        Life and death, Little book of. IS. net ..Feb. 15\n",
      "13487     Since first I saw your face, Tynan (K.) 6s. Oct. 15\n",
      "7443         In other days, Sidgwick (Mrs. A.) 63.....Feb. 15\n",
      "4008        Directors, Directory of, 1915. 155. net ..Jan. 15\n",
      "15496     War, The, 1914-15, O'Neill (E.) is. 6d. net Mar. 15\n",
      "2882      Church, Free, year bk., 1915, 25. 6d. net.. Apr. 15\n",
      "6693       Health, Infant, Macmillan (J.S.C.) 25. net July 15\n",
      "10612    Nether millstone, White (F. M.) 6d. ...... . Apr. 15\n",
      "4302     East Kent Regiment : The Buffs. 6d., is. net Aug. 15\n",
      "6482      Hamilton, Alexander, Oliver (F. S.) 6s. net Nov. 15\n",
      "11367       Peerage, &c., Dod's, 1916, ros. 6d. net. .Dec. 15\n",
      "7824         Jellicoe, Admiral, Applin (A.) is. net ..Jan. 15\n",
      "2484         Cat's eyes, Warwick (S.) 7d. net........ Apr. 15\n",
      "5347         Fossicker, The, Glanville (E.) 7d. net....May 15\n",
      "11765        Poetical works, Johnson (L.) 78. 6d, net Oct. 15\n",
      "15550        War : Price of blood, Maclennan (K.) 2d. Mar, 15\n",
      "15427        War, Judgment of, Potter (J. H.) 28. net Aug. 15\n",
      "9021         Love songs, Petrarch (Foulke) 35. 6d. net May 15\n",
      "5840       German : Military terms, Bruce (A.) 6d. net May 15\n",
      "Name: 0, dtype: object \n",
      "\n",
      "\n",
      "4232        Duncan (F. Martin)--Curiosities of plant life. Cr. 8vo. 2s. net FROWDE AND H. & S., Sep. 15\n",
      "15587      War: Sad experiences of Big and Little Willie : cartoons, Haselden (W. K.) is, net ..Feb. 15\n",
      "4051       Dixon (Royal)-The Human side of plants. 8vo. 81x6, pp. 222, 75. 6d. net. . RICHARDS, July 15\n",
      "15926     Wey man (Stanley J.)--Chippinge. 12m0., pp. 384, is. net. (Wayfarer's lib.) ....DENT, Mar. 15\n",
      "15779    Watson (H. B. Marriott)-The Privateers. 12mo., pp. 314, 19. net (Wayfarer's lib.) DENT, May 15\n",
      "12515        Rhodes (Kathlyn)-The Will of Allah. Cr. 8vo., pp. 350, swd., Is. net ..HUTCHINSON, Aug. 15\n",
      "11308     Payne-Gall wey (Sir R. W. F.)-The War: a criticism. 8vo., swd., 6d. net SPOTTISWOODE, July 15\n",
      "15546       War, Political text-bk. and glossary and the Gt. European, Lenox (L. G.) 25. 6d. .. June 15\n",
      "4618        Engineering science, First course in, Haler (P. J.) and Stuart (A. H.) 28. 6d.. ... Sep. 15\n",
      "3314     Constant (P. H. B. D'E. de.)-America and her problems. Cr. 8vo. &s. 6d. net MACMILLAN, June 15\n",
      "2063       Brown (Percy)-Picturesque Nepal. Re-issue. 8vo. 81 x 5), pp. 224, 2s. 6d. net BLACK, Sep. 15\n",
      "10819        O'Donnell (H.)—Fighting in close country. Cr. 8vo., swd., 6d. net ......GALE & P., Feb. 15\n",
      "7194         How (M. N.)-Historical romance in the 19th century. 8vo. swd. is. net HODDER & S., Jan. 15\n",
      "13388    Sharp (W. E.)-Common beetles of our country- side. Cr. 8vo. 78 X 5, 28. 6d. PARTRIDGE, Dec. 15\n",
      "631        Arithmetic and accounts. Bks. 1 and 2. Cr. 8vo., pp. 128, 128, ea. Is. .MCDOUGALL'S, Oct. 15\n",
      "7111        Hope (Anthony)----A Young man's year. Cr. 8vo. 7** 5, pp. 351, 6s. ........METHUEN, Sep. 15\n",
      "3478     Coward (T. A.)-Cheshire. Pocket ed. Illus. pp. 218, limp, is. 6d. net. CAMB. UNIV. PR., May 15\n",
      "3023       Clarke (Ida Clyde)-Record No. 33. Cr. 8vo. 7} X5, pp. 328, 6s. . . . . . . APPLETON, Oct. 15\n",
      "7102     Horsley (J. W.)-Our British snails. Illus. Cr. 8vo. 74 x 44, pp. 70, is. uet S.P.C.K., June 15\n",
      "8041       Kompls (Thomas à)—The Imitation of Christ. Cheaper edit. I2mo. swd. Is. net METHUEN, Feb. 15\n",
      "Name: 0, dtype: object \n",
      "\n",
      "\n",
      "5933      Gllman (Lawrence)-Nature in music, and other studies in the tone-poetry of to-day. Cr. 8vo. 7} X 44, pp. 220, 4s. 6d. net ...LANE, Mar. 15\n",
      "16136    Wilde (Oscar)— The Importance of being earnest : a trivial comedy for serious people. 18ino. 6* X4, pp. 190, Ithr., 35. net HARRAP, Oct. 15\n",
      "12992       Sardou (Victorien)-Les Femmes fortes. Edit. by Albert Cohn McMaster and Francis B. Barton. 71 X5, pp. 228, 3s. net ....MILFORD, Feb. 15.\n",
      "5686         Gardiner (A. G.)—The War lords. With 16 ports. by Clive Gardiner. Enlarged and rev. ed. 8vo. 9 X 51. pp. 326, 75. 6d. net DENT, Nov. 15\n",
      "10935        Orators, British : select passages, Fowler (J. H.) IS. Orchard (Rev. W. E.)- The Rral war. 8vo. 8} x55, pp. 16, 2d. ...MILFORD, Jan, 15\n",
      "12537       Resurrection and modern thought, The, Simpson, (W J. S.) 7s. 6d. net Resurrection and the life, Illingworth (A. L.) 28. 6d. net . May 15\n",
      "5041         Ferrero (Guglielmo)—Who wanted the European War ? Trans. by P. E. Matheson. 8vo. 9 X6, pp. 40, 8d. net (Clarendon Pr.) MILFORD, Aug. 15\n",
      "12707      Rolland (Romain)-The Idols. With a letter to Dr. Van Eeden on the Rights of small nation- alities. 8vo., swd., 6d. net MACMILLAN, Mar. 15\n",
      "12396      Regimental nicknames and traditions of the British Army. 4th ed., enlarged and rev. Cr. 8vo. 71 x 5), pp. 143, 25. net GALE & P., Oct. 15\n",
      "11952    Poushkin (Alexander)-The Captain's daughter and other tales. Trans. by T. Keane. Cr. 8vo. 71 x 41, pp. 476, 2S 6d. net HODDER & S., July 15\n",
      "2142      Bums (C. Delisle)--Political ideals : their nature and development : an essay. Pott. 8vo. 6 X 4, pp. 312, 2s. 6d. net.... .MILFORD, May 15\n",
      "4339         Education (Board of)-Educational pamphlets : 29, Experiment in rural secondary education conducted at Knaresborough. 4d. WYMAN, Mar. 15\n",
      "3996      Dilnot (George)-Scotland Yard : the methods and organisation of the Metropolitan police. Cr. 8vo., pp. 138, swd. is. net MARSHALL, Nov. 15\n",
      "2696      Child (J. M.) see Barnard (S.) and Child. Child (Maurice)—The Shadow of peace. Demy 8vo., 3d. (York bks.) Soc. SS. PETER AND PAUL, Sep. 15\n",
      "3051         Cleugh (Dennis)—The Volet under the snow : a little play for Christmastide. Ryl. 8vo.94 X 7, pp. 26, 28. 6d. net .. ...SIMPKIN, Nov. 15\n",
      "410          Americans, The South, Koebel (W.H.) 1os. 6. net Americas, The : Wheaton's Secondary atlas geographies, Thurston (C. B.) iod. .. Sep. 15\n",
      "12187      Purdon (K.F.)-The Folk of Furry Farm. With an intro. by George A. Birmingham. Cheap ed. Cr. 8vo. 7* X 5, pp. 332, 23. net NISBET, Sep. 15\n",
      "15911      Westerman (Percy F.)—The Nameless island : a story of some modern Robinson Crusoes. Cr. 8vo. 8 X 5, pp. 252, 25. 6d..... PEARSON, Sep. 15\n",
      "1228       Baverstock (A. H.)-The Supreme adventure ; or The Life of the theological virtues. 18mo, 64 x 43, pp. 144, Is. 6d. net COPE & F., Nov. 15\n",
      "14822    Turner (J. S.) see Harding (A. M.) and Turner. Turner (Lilian)-War's heart throbs. Cr. 8vo. 71 x 41, pp. 252, 25. 60. ....WARD, L., Sep. 15\n",
      "Name: 0, dtype: object\n"
     ]
    }
   ],
   "source": [
    "# Get the clean entries from a csv file. Squeeze the result to convert\n",
    "# the single-column dataframe into a series.\n",
    "path = f'../entries/clean_entries/entries_19{year}.csv'\n",
    "clean_entries = pd.read_csv(path, header=None).squeeze()\n",
    "\n",
    "# Drop null values\n",
    "clean_entries = clean_entries.dropna()\n",
    "\n",
    "# Get the length of each entry string\n",
    "lengths = clean_entries.map(len)\n",
    "\n",
    "# Get entry strings around the center of the largest peak\n",
    "first_peak = clean_entries.loc[(lengths > 47) & (lengths < 53)]\n",
    "\n",
    "# Get entries in the second peak\n",
    "second_peak = clean_entries.loc[(lengths > 89) & (lengths < 96)]\n",
    "\n",
    "# Get entries in the third peak\n",
    "third_peak = clean_entries.loc[(lengths > 134) & (lengths < 140)]\n",
    "\n",
    "tiny = clean_entries.loc[lengths<15]\n",
    "\n",
    "# View a random sample of values in each peak\n",
    "\n",
    "print(tiny.sample(40), '\\n\\n')\n",
    "print(first_peak.sample(20), '\\n\\n')\n",
    "print(second_peak.sample(20), '\\n\\n')\n",
    "print(third_peak.sample(20))\n",
    "\n"
   ]
  },
  {
   "cell_type": "markdown",
   "metadata": {},
   "source": [
    "Run the previous cell several times, examining the output carefully each time. Are there clear differences in the contents of the entries from each peak? Can they be explained by reasonable features of a real data set or do you think the structure in the histogram is a result of bad parsing?"
   ]
  },
  {
   "cell_type": "markdown",
   "metadata": {},
   "source": [
    "I think we can draw three conclusions here:\n",
    "\n",
    "1. The largest peak is the easiest to explain: title-first entries, which only contain the book title, author name, price, and month of publication, are frequently about 50 characters long. There are of course a huge number of title-first entries much longer than that, and the other two peaks are sitting on top of a long tail from the title-first peak.\n",
    "2. The second peak looks like it consists mostly of author-first entries for single-author, single-title books.\n",
    "3. The third peak is the most complicated. I see books that have both multiple authors and long subtitles, as well as entries that have additional information like a series name, such as `(Langham bibelots, No. 10.)`, or a note about translation, for instance `English version by A. W. Verrall.`"
   ]
  },
  {
   "cell_type": "markdown",
   "metadata": {},
   "source": [
    "If you want an exercise to try working with the data yourself and to follow up on my interpretation above, figure out a way to histogram the shorter title-first entries separately from the longer author-first entries. If you don't know how to start, try this:\n",
    "\n",
    "1. Make a regular expression that searches for a sequence of capital letters. This won't be a perfect distinction, but the author-first entries usually have a publisher's name in all caps and the title-first entries don't.\n",
    "2. Use the regular expression to put entries with words in all caps in one pandas series and entries without words in all caps in another.\n",
    "3. Calculate the lengths of each element in each series and store them in two different series.\n",
    "4. Create histograms by using the method `.hist(bins=range(0, 400, 3))` on both series of lengths.\n",
    "5. Play around with the bin width (the third argument in the range function) and see how the features in each histogram change.\n",
    "\n",
    "You can refer to the last two code cells in this notebook to see an example of a similar process.\n",
    "\n",
    "If my interpretation above is mostly right then you should see a peak at 50 characters with a long tail to the right in one histogram and a smaller but very similarly shaped peak at about 90 characters in the other (I expect the second peak to have a shorter tail on the left as well). I haven't tried this, so if you do you should let me know what's going on with that third peak - is it present in both histograms? "
   ]
  },
  {
   "cell_type": "markdown",
   "metadata": {},
   "source": [
    "## <u>Testing new methods</u>"
   ]
  },
  {
   "cell_type": "markdown",
   "metadata": {},
   "source": [
    "Some entries in the third peak reveal a flaw in our current approach to splitting the entries: some lines in the catalogue aren't part of an entry. These lines have the form `<author name> see <author name>`, suggesting a reader looking up one author might actually be looking for someone else. The code we're using assumes entries end with an OCR line ending in `12`. It doesn't handle the lines pointing from one author to another, so those lines usually get tacked onto the front of the following entry. The current code does sometimes parse these author-to-author lines as individual entries. It looks to me like this happens when they are the last OCR'd line on a page.\n",
    "\n",
    "I figured that out by repeatedly looking at samples generated by the next cell and then searching the Hathi Trust online PDF for the contents of author-to-author lines that appeared separate from a full entry."
   ]
  },
  {
   "cell_type": "code",
   "execution_count": 13,
   "metadata": {},
   "outputs": [
    {
     "name": "stdout",
     "output_type": "stream",
     "text": [
      "number of entries containing \" see \": 353\n",
      "\n",
      "\n"
     ]
    },
    {
     "data": {
      "text/plain": [
       "1715                              Bond (J. A. Walpole-) see Walpole-Bond. Bond of black, Le Queux (W.) 7d. net....Aug. 15\n",
       "13972               Stevens (H. B.) see Lucas (E. W.) and Stevens. Stevens (M. W.)-Year-book of chess, 1914. .... July 15\n",
       "2180                     Bywater (H. C.) see Hurd (A.) and Bywater. Byzantine Empire, The, Foord (E.) 28. 6d. net Sep, 15\n",
       "9507                               Marx (Guido H.) see Smith (A. W.) and Marx. Mary, Kenny (L. M. S.) 28. 6d... · June 15\n",
       "7574          Ingalls (R.) see Herrick (M. T.) and Ingalls. Inge (Charles)—The Eternal whisper. Cr. 8vo. ...NASH, July 15\n",
       "7622                                                   International law, see also Law, International. 158. net ..Oct, 15\n",
       "14374                          Theban Tonibs, see Egypt Exploration Fund. Their high adventure, Oxenham (J.) 6d... May 15\n",
       "15152               Walwyn (E. W. Shepheard-) see Shepheard- Walwyn. Wanderer's episodes, Wilton (H.) 39. 6d. net Aug. 15\n",
       "1798          Bovingdon (John) see Bowers (R. S.) and Boving- don. Bow in the cloud, Macduff (J. R.) 6d., is. net June 15\n",
       "13788           Sparrow (Walter Shaw-) see Shaw-Sparrow. Speaking across the borderline, Heslop (F.) IS. 6d. net. June 15\n",
       "10691                        Noble (Margaret E.) see Nivedita (Sister). Noblest animal, Merrythought (M.) IS..... Oct. 15\n",
       "10187    Moore (J. M.) see Ritchie (R. L. G.) and Moore. Moore (Leslie)--The Jester. Cr. 8vo. 71 X 5, pp. PUTNAM, Mar. 15\n",
       "5637                              Gallienne (Richard Le) see Le Gallienne. Gallic war, &c., Cæsar. Is., 28. net ..Mar. 15\n",
       "2606                Chatrian (Alexandre) see Erckmann (E.) and Chatrian. Chats on old silver, Hayden (A.) 5s. net June 15\n",
       "2207                               C. E. B., see Touchstone\" and C. E. B. C. M. W.---Consolations. is. 6d, net....Dec. 15\n",
       "13873                  Stapley (M.) see Byne (A.) and Stapley. Star and weather gossip, Elgie (J. H.) 25. 6d. net June 15\n",
       "3802                    Dearden (W.F.) see Plowman (C. F.) and Dearden. Dearer than life, Hocking (J.) 28. net .. Aug. 15\n",
       "662              Armfield (G. Noel) see Noil-Armfield. Armitage (F. P.)-Chemistry: first stage. 8vo. ...LONGMANS, Sep. 15\n",
       "12759                   Rothschild (M. A.) see Lewis (T.) and Rothschild. Rouken Glen, Macintosh (T.) 6d. net ....Sep. 15\n",
       "8750                            Lisser\" (Herbert G. de) see De Lisser. Listener's lure, Lucas (E. V.) 28. 6d. net Dec. 15\n",
       "Name: 0, dtype: object"
      ]
     },
     "execution_count": 13,
     "metadata": {},
     "output_type": "execute_result"
    }
   ],
   "source": [
    "author_to_author_entries = clean_entries.loc[\n",
    "    clean_entries.str.contains(' see ')\n",
    "]\n",
    "\n",
    "# python interprets two strings on successive lines as a single string\n",
    "# so it's easier to read long strings in source code.\n",
    "print(\n",
    "    'number of entries containing \" see \":'\n",
    "    f' {author_to_author_entries.size}\\n\\n'\n",
    ")\n",
    "\n",
    "author_to_author_entries = clean_entries.loc[\n",
    "    clean_entries.str.contains(' see ') & (lengths < 120)\n",
    "]\n",
    "author_to_author_entries.sample(20)"
   ]
  },
  {
   "cell_type": "markdown",
   "metadata": {},
   "source": [
    "If you can come up with a way to identify those author-to-author lines and separate them from the entries, you'll improve our data set. That's going to be pretty difficult though, so let's start with something easier."
   ]
  },
  {
   "cell_type": "markdown",
   "metadata": {},
   "source": [
    "Have a look at a sample of the longest entries:"
   ]
  },
  {
   "cell_type": "code",
   "execution_count": 14,
   "metadata": {},
   "outputs": [
    {
     "data": {
      "text/plain": [
       "601                     Aristotelica, Richards (H.) 5s, net Aristotle-Works. Trans. into Eng. under ed. of W. D. Ross. De Mundo, by E. S. Forster ; De Spiritu, by J. F. Dobson. 8vo. 9 X6, pp. 64, 25. net; Magna Moralia, by St. G. Stock; Ethica Éudemia, De Virtutibus et Vitiis, by J. Solomon. 8vo. 9 X6, pp. 274, 5s. net (Clarendon Pr.) MILFORD), Mar. 15\n",
       "2281                 Cambridge University-Higher local examina- tion papers, December, 1914. With lists of syndics and examiners, to which are added the Regulations for the examinations in June and December, 1915, and for the certificates of pro- ficiency in modern languages and religious knowledge, June, 1915. Demy 8vo., Is. CAMB. UNIV. PRESS, Jan. 15\n",
       "3164                      Collison (W. H.)- In the wake of the war canoe : forty years' successful labour, peril and adventure amongst the savage Indian tribes of the Pacific coast, and the piratical head- hunting Haidas of the Queen Charlotte Islands, &c., B.C. With intro. by The Lord Bishop of Derry. Cr. 8vo., 8 X 5), pp. 352, 53. net SEELEY, Nov. 15\n",
       "3329     Consular reports, 1913-14-China, foreign trade, 1913, 3d.; British Honduras, 1913 (map), 2d.; Brit. Africa, Brit. Honduras, Ceylon, Cyprus, Fiji, Hong Kong, Jamaica, Malay States and Trinidad : Report, Colonial Survey Com., 2 d.; Tongan Islands (map), 2d.; Swaziland (map), 2 d.; Uganda, 2d. ; Nyasaland,_2}d.; British Guiana, 2d. WYMAN, Feb. 15\n",
       "4080          Dodgson (E. S.)--Keys to the Baskish verb in Leizarragas New Testament, A.D. 1571 : being an analytical quotational synopsis of the 1673 forms found in St. John's Gospel, the Acts, the Letters to the Romans, the Corinthians, and St. Titos, those of St. James and St. Peter, and the Apocalypse. 10+ x 61, pp. 624, 30s. net ..MILFORD, Sep. 15\n",
       "6523         Hanly (J. H.) see l’arnish (E. A. A.) and Hanly. Hannah (Herbert B.)--A Grammar of the Tibetan language, literary and colloquial. With copious illustrations, and treating fully of spelling, pronunciation, and the construction of the verb, and including appendices of the various formis of the verb. Ryl. 8vo., PP. 416, 155, net LUZAC, May 15\n",
       "8021              Kean (Francis J.)--The Petrol engine : a text-bk.. dealing with the principles of design and con-- struction, with a special chapter on the two- stroke engine. 8vo. 33 x5, pp. 138, 45. net SPON, Oct. 15; Kearton (Cherry)-Wild life across the world.. Intro. by Theodore Roosevelt. Ryl. 8vo.. 83 x6, pp. 316, 6s. net HODDER & S., Oct. 15.\n",
       "9120              Lullabies of the four nations, Gosset (A. L. J.) 75. 60. net “Lumen,\" see Samuels (J.). Lummis (E. W.)-How Luke was written : con- siderations affecting the two-document theory, with special reference to the phenomena of order in the non-Marcan inatter common to Matthew and Luke. Cr. 8vo., pp. 150, 45. 6d. net CAMB. UNIV. PR., June 15\n",
       "9265        M'Pliee (John) see Jack (R. M.) and M'Phee. Macray (William Dunn)-A Register of the members of St. Mary Magdalen College, Oxford. New ser., Fellows. Vol. 8 : Indexes. Appended a Description of brasses and other funeral monuments in the Chapel, by Robert W. T. Gunther. 9X51, pp. 222, ios. 6d. net : set 8 vols, 50s. net...... MILFORD, Mar. 15\n",
       "9615             Matriculation model answers : English. Pt. 2. Being reprints of London Univ. Matric. papers in English from June, 1911, to June, 1915. Cr. 8vo., pp. 172, swd. 2s. Matriculation model answers : French. Being the Loudon Univ. Matric. papers in French from Jan. 1910 to June 1915. Cr. 8vo. 7 X 44, pp. 120, swd. 25. UNIV TUTOR. PR., Dec. 15\n",
       "10831                  Oil engines, marine, Martin (W. D.) 25. 6d. net Oil fuel equipment for locomotives, Gibbings (A. H.) 7s. 6d. net Oil of joy, Miller (J. R.) is. net Oil seeds and feeding cakes. With pref. by Wynd- ham R. Dunstan. Cr. 8vo. 77X5, pp. 138, 25. 60. net. (The War and new British indus- tries; Imperial Inst. Monographs) MURRAY, Oct. 15\n",
       "11357                       Pearson (John J.)-The Rationale of the angel warriors at Mons during the retreat and the apparitions at the Battles of the Marne and the Aisne. With a résumé of ancient and modern celestial interventions and parallel instances from Scripture and other reliable sources. Cr. 8vo., pp. 30, swd., 2d. net CHRISTIAN GLOBE, Oct. 15\n",
       "11461                      Petronius-A Collotype repro. of that portion of Cod. Paris 7989, cominonly called the Codex Traguriensis, which contains the Cena Trimal- chionis of Petronius, together with four poems ascribed to P. in Cod. Leid. Voss III, with intro. and a transcript; by Stephen Gaselee. Demy 4to., pp. 102, 155. net CAMB. UNIV. PR., Mar. 15\n",
       "13471                    Shorthand : Legend of Sleepy Hollow (advanced Sidonius---Letters. Trans. with intro, and notes s.) Irving (W.) 8d. net ..Aug. 15 by O. M. Dalton. Vols. 1 and 2. Fcap. 8vo. Shorthand, Pitman's Commercial readers in : 7x41, pp. 270, pp. 268, ea. 35. 6d. net inter. style. No. 2, Commodities. 6d. net (Clarendon Pr.) MILFORD Feb. 15\n",
       "13578                   Smith (H. G.) and Ball (G. H.)-English com- Smith (Arnold)-Aims and methods in the position, incl. précis, paraphrase and numerous teaching of English. Cr. 8vo. 71 x 5, pp. 184, exercises. Being Pt. 2 of “ English grammar 25. net (Handbks. in the art of teaching) and composition.” Cr. 8vo. 71 X 5, pp. 103, IS. CONSTABLE, Aug. 15\n",
       "15769              Watkin (Hugh R.)History of Totnes Priory and medieval town Devonshire. In 2 vols. Vol. 1, Pub. by subscription. 425. 2 vols. (Torquay) AUTHOR, Dec, 14 Watkins (Owen Spencer) — With French in France and Flanders : being the experiences of a chaplain attached to a field ambulance. Cr. 8vo., pp. 192, 25. net, swd, is. net KELLY, Apr. 15\n",
       "Name: 0, dtype: object"
      ]
     },
     "execution_count": 14,
     "metadata": {},
     "output_type": "execute_result"
    }
   ],
   "source": [
    "clean_entries.loc[(lengths > 325) & (lengths < 350)]"
   ]
  },
  {
   "cell_type": "markdown",
   "metadata": {},
   "source": [
    "A substantial number of long entries have a date that should mark a point to split entries that was missed for some reason. Reviewing a few samples in the previous cell, I see at least three cases that need to be handled:\n",
    "1. OCR mistakes, like `I2` or `1z` or `iz` rather than `12`\n",
    "2. Books published in 1911 and listed in this catalogue (our code assumes `12` is part of the entry delimiter)\n",
    "3. Entries with apparently well-formed 1912 dates that the current code failed on. For example, entry `14814` appears to be three entries separated by two 1912 dates that were skipped over for reasons I don't understand yet. Run the next cell to see it."
   ]
  },
  {
   "cell_type": "code",
   "execution_count": 15,
   "metadata": {},
   "outputs": [
    {
     "data": {
      "text/plain": [
       "'Turkish self-taught, Thimm (C. A.) 25. 60. Nov. 15'"
      ]
     },
     "execution_count": 15,
     "metadata": {},
     "output_type": "execute_result"
    }
   ],
   "source": [
    "clean_entries[14814]"
   ]
  },
  {
   "cell_type": "markdown",
   "metadata": {},
   "source": [
    "The first two cases are relatively easy to handle. Let's start by finding the regular expressions our code uses to split entries apart and build on that to improve the current process. That code is documented in `Parsing_ECB_1912_wi23.ipynb`, currently living in the `scripts` directory of the github repository. In the section \"Splitting the Text into Entries\" in that notebook, I find the following process:"
   ]
  },
  {
   "cell_type": "code",
   "execution_count": 29,
   "metadata": {},
   "outputs": [
    {
     "name": "stdout",
     "output_type": "stream",
     "text": [
      "total entries: 17899\n"
     ]
    }
   ],
   "source": [
    "# ALL CODE IN THIS CELL IS ADAPTED FROM Parsing_ECB_1912_wi23.ipynb\n",
    "\n",
    "# read the Hathi Trust OCR into memory\n",
    "with open(f'../princeton_years/ecb_19{year}.txt', encoding='utf8') as f:\n",
    "    ocr_full_text = f.read()\n",
    "\n",
    "# Separate main text from the front matter of the catalogue (note the\n",
    "# string called ocr_main_text still has the back matter attached until\n",
    "# a later step)\n",
    "# Note python allows multiple assignment: the split operation below\n",
    "# creates a two-element list whose elements are then assigned to two\n",
    "# different variables\n",
    "ocr_front_matter, ocr_main_text = re.split(r'\\nACCOUNTS\\nOct\\.', ocr_full_text)\n",
    "\n",
    "appendix_pattern = (\n",
    "    r\"APPENDIX\\nLEARNED SOCIETIES, PRINTING CLUBS, &c., \"\n",
    "    r\"WITH LISTS OF THEIR\\nPUBLICATIONS, 1915\"\n",
    ")\n",
    "\n",
    "# Separate main text from the back matter of the catalogue\n",
    "ocr_main_text, ocr_back_matter = re.split(appendix_pattern, ocr_main_text)\n",
    "\n",
    "# Make a regular expression to capture headers at the top of each\n",
    "# catalogue page\n",
    "header_capital_letters = r\"^(?:[A-Z\\-\\'\\sÈ]+)\"\n",
    "header_pattern = r\"^#(?s:.*?){}(?s:.*?){}(?s:.*?){}$\".format(\n",
    "    header_capital_letters, header_capital_letters, header_capital_letters\n",
    ")\n",
    "\n",
    "# Split the main text into pages and strip the headers. According to\n",
    "# Parsing_ECB_1912_wi23.ipynb this method fails to remove six headers.\n",
    "pages = [\n",
    "    re.sub(header_pattern, '', page, flags=re.M)\n",
    "    for page in ocr_main_text.split('\\f')\n",
    "]\n",
    "\n",
    "# Now find all lines ending in 12 and insert a token to split on\n",
    "entries_by_page = [\n",
    "    re.sub(r'(\\W15\\.?$)', '\\\\1<ENTRY_CUT>', page, flags=re.M)\n",
    "    for page in pages\n",
    "]\n",
    "\n",
    "# Split on the token to create a list of lists where each element is\n",
    "# a list of entries on an individual page\n",
    "entries_by_page = [\n",
    "    re.split(r'<ENTRY_CUT>', page, flags=re.M)\n",
    "    for page in entries_by_page\n",
    "]\n",
    "\n",
    "print(f'total entries: {sum([len(p) for p in entries_by_page])}')"
   ]
  },
  {
   "cell_type": "markdown",
   "metadata": {},
   "source": [
    "Now let's test a new regular expression for splitting entries "
   ]
  },
  {
   "cell_type": "code",
   "execution_count": 30,
   "metadata": {},
   "outputs": [
    {
     "name": "stdout",
     "output_type": "stream",
     "text": [
      "total entries: 712\n"
     ]
    }
   ],
   "source": [
    "# This cell assumes we're looking at the 1912 catalogue; try changing\n",
    "# this code (and the year parameter in the first code cell of the\n",
    "# notebook) to catch OCR mistakes for a different year.\n",
    "\n",
    "# create a list of possible values the OCR software might have created\n",
    "# when it ran into an 11 or 12 on the page\n",
    "ocr_interpretations_of_15 = [\n",
    "    'is',\n",
    "    'Is',\n",
    "    'i5',\n",
    "    'I5',\n",
    "    'iS',\n",
    "    'IS'\n",
    "]\n",
    "ocr_interpretations_of_14 = [\n",
    "    'i4',\n",
    "    'I4',\n",
    "    'l4',\n",
    "    'L4',\n",
    "    '14'\n",
    "]\n",
    "terminators = ocr_interpretations_of_15 + ocr_interpretations_of_14\n",
    "\n",
    "# modify the existing regex with our new options\n",
    "entry_terminator_regex = r'(\\W({})\\.?$)'.format('|'.join(terminators))\n",
    "\n",
    "# get a new set of entries the same way as above, but using the new\n",
    "# regular expression\n",
    "new_entries_by_page = [\n",
    "    re.sub(entry_terminator_regex, '\\\\1<ENTRY_CUT>', page, flags=re.M)\n",
    "    for page in pages\n",
    "]\n",
    "new_entries_by_page = [\n",
    "    re.split(r'<ENTRY_CUT>', page, flags=re.M)\n",
    "    for page in new_entries_by_page\n",
    "]\n",
    "\n",
    "print(f'total entries: {sum([len(p) for p in new_entries_by_page])}')\n"
   ]
  },
  {
   "cell_type": "markdown",
   "metadata": {},
   "source": [
    "OK, we might have found 157 entries that weren't caught with the previous splitting expression, meaning we might have gained 314 entries that were either not present or invalid in the previous data set. Let's see if that's really what happened."
   ]
  },
  {
   "cell_type": "code",
   "execution_count": 31,
   "metadata": {},
   "outputs": [
    {
     "name": "stdout",
     "output_type": "stream",
     "text": [
      "number of new entries: 691\n",
      "0      2892\n",
      "1      1021\n",
      "2       492\n",
      "3       230\n",
      "4      6207\n",
      "       ... \n",
      "706    2086\n",
      "707    4885\n",
      "708     250\n",
      "709    3298\n",
      "710    1326\n",
      "Length: 691, dtype: int64\n"
     ]
    },
    {
     "data": {
      "image/png": "[encoded data removed]",
      "text/plain": [
       "<Figure size 640x480 with 1 Axes>"
      ]
     },
     "metadata": {},
     "output_type": "display_data"
    }
   ],
   "source": [
    "# It can be much more efficient to do things like check if elements in\n",
    "# one sequence exist in another using pandas objects rather than the\n",
    "# standard python library, so I flatten the lists of lists of entries\n",
    "# into pandas series containing all the entries.\n",
    "old_entries = pd.Series(\n",
    "    [e for page in entries_by_page for e in page],\n",
    "    dtype=pd.StringDtype()\n",
    ")\n",
    "new_entries = pd.Series(\n",
    "    [e for page in new_entries_by_page for e in page],\n",
    "    dtype=pd.StringDtype()\n",
    ")\n",
    "\n",
    "# strip nonprinting characters and replace all newlines in each entry\n",
    "# with spaces\n",
    "old_entries = old_entries.str.strip()\n",
    "new_entries = new_entries.str.strip()\n",
    "old_entries = old_entries.str.replace('\\n', ' ')\n",
    "new_entries = new_entries.str.replace('\\n', ' ')\n",
    "\n",
    "# Get new entries that don't exist in the old set\n",
    "new_entries = new_entries.loc[~new_entries.isin(old_entries)]\n",
    "\n",
    "print(f'number of new entries: {len(new_entries)}')\n",
    "#print(new_entries)\n",
    "print(new_entries.map(len))\n",
    "# plot a histogram of lengths of the new entries\n",
    "fig2 = new_entries.map(len).hist(bins=range(0, 6000, 50))"
   ]
  },
  {
   "cell_type": "markdown",
   "metadata": {},
   "source": [
    "The histogram we started with covers nearly 20,000 entries. Here we have only 300, but the plot generated in the previous cell already looks extremely similar to the one at the top of the document. This means we can probably assume the entries we've produced here are just as good as the rest of the entries we're already capturing. Probably! I haven't actually looked at the new entries in detail, but it's 0200 and I need to finish this up."
   ]
  },
  {
   "cell_type": "markdown",
   "metadata": {},
   "source": [
    "## <u>Wrapping up</u>"
   ]
  },
  {
   "cell_type": "markdown",
   "metadata": {},
   "source": [
    "The goal here was to demonstrate how to play around with the data and the code for our summer project. The general method I followed was something like the following:\n",
    "1. Get some kind of overview of the output from our current parsing operations. I went with the size of the strings but there are all kinds of ways to do this. You could think about features of strings that have words in all caps and compare them to strings that don't have capitalized words (publishers in the author-first entries are almost always capitalized). You could start by exploring the dataframes, where the strings have been parsed out into specific fields, rather than thinking about whole entries. Explore the results we have and find something you think is interesting. If you can't think of a way to use that feature to explore the data, run it by one of your colleagues and see what they think. Your team is always your best asset!\n",
    "2. Use that view of the data to characterize what's working and what isn't. In this case it was clear that unreasonably short or long strings were going to have some errors, so I was able to look at those entries to see where there might be problems in the existing process.\n",
    "3. Find out which part of the existing code is relevant for the feature you're interested in. This part is probably going to be hard if you haven't had a much experience with programming. If it isn't obvious how to proceed after you've had a look at some of the scripts, ask me or Anna how to do what you want to do.\n",
    "4. See if you can modify the code to get different results.\n",
    "5. Use the same overview process you started with to compare your new result with the old one.\n"
   ]
  },
  {
   "cell_type": "code",
   "execution_count": null,
   "metadata": {},
   "outputs": [],
   "source": []
  }
 ],
 "metadata": {
  "kernelspec": {
   "display_name": "Python 3 (ipykernel)",
   "language": "python",
   "name": "python3"
  },
  "language_info": {
   "codemirror_mode": {
    "name": "ipython",
    "version": 3
   },
   "file_extension": ".py",
   "mimetype": "text/x-python",
   "name": "python",
   "nbconvert_exporter": "python",
   "pygments_lexer": "ipython3",
   "version": "3.9.13"
  }
 },
 "nbformat": 4,
 "nbformat_minor": 2
}
