{
  "cells": [
    {
      "cell_type": "markdown",
      "metadata": {
        "id": "2ljuyDL1Bmm1"
      },
      "source": [
        "Devin Short\n",
        "30 June 2023\n",
        "shortda@uw.edu"
      ]
    },
    {
      "cell_type": "markdown",
      "metadata": {
        "id": "5hGlrWSlBmm3"
      },
      "source": [
        "This is a tutorial demonstrating how to explore data parsed out of the catalogues. The idea is to understand what kind of content we've generated, get a feel for how well our current tools are working, and try improving them. This notebook requires functions from `reporting.py`, currently living in the scripts directory of the github repository.\n",
        "\n",
        "Let's import some packages and set parameters we'll use below."
      ]
    },
    {
      "cell_type": "code",
      "execution_count": 2,
      "metadata": {
        "id": "iKEYvVRtBmm3"
      },
      "outputs": [],
      "source": [
        "import pandas as pd\n",
        "import re\n",
        "\n",
        "pd.set_option('display.max_colwidth', 500)\n",
        "\n",
        "# If you're running this notebook from a directory that doesn't contain\n",
        "# reporting.py you'll either need to edit the following line to reflect\n",
        "# the relative location of the reporting module or copy reporting.py\n",
        "# into the current directory\n",
        "from reporting import histogram_strings_by_length\n",
        "\n",
        "# The year determines which issue of the catalogue we're looking at\n",
        "# across the entire notebook\n",
        "year = 17"
      ]
    },
    {
      "cell_type": "markdown",
      "metadata": {
        "id": "rSIzA1txBmm4"
      },
      "source": [
        "## <u>Summarizing data with histograms</u>"
      ]
    },
    {
      "cell_type": "markdown",
      "metadata": {
        "id": "DnQWHzr5Bmm5"
      },
      "source": [
        "One way to start is by looking at the number of characters in all entries parsed out of one year of the catalogue. Most good entries are going to have similar lengths because they display similar data. Extremely short entries are probably fragments created by OCR errors and some extremely long entries will be multiple entries the code we're using failed to split apart."
      ]
    },
    {
      "cell_type": "markdown",
      "metadata": {
        "id": "a-WUXkKUBmm5"
      },
      "source": [
        "We can get an overview by creating a histogram of the entry lengths. A histogram shows a series of bins on the bottom axis and the number of objects falling into each bin on the vertical axis. In this case I've created bins 5 characters wide, so each bar in the plot below shows the number of entries 0-5 characters long, 5-10 characters long, etc.\n",
        "\n",
        "I've also created parameters to examine \"underflow\" and \"overflow\" regions of the histogram. Underflow and overflow counts in a histogram refer to objects that are irrelevant for some reason. In many cases a histogram will have a single underflow or overflow bin that aggregates everything outside the region of interest, but I've included the full histogram here and shaded the outflow regions."
      ]
    },
    {
      "cell_type": "code",
      "execution_count": 3,
      "metadata": {
        "colab": {
          "base_uri": "https://localhost:8080/",
          "height": 637
        },
        "id": "ZPSaBYG3Bmm6",
        "outputId": "6fbdad04-77a9-499d-8d46-455cbdeb2c67"
      },
      "outputs": [
        {
          "output_type": "stream",
          "name": "stdout",
          "text": [
            "total number of strings: 12519\n",
            "number of strings shorter than 30 characters: 179, 1.4%\n",
            "number of strings within outflow limits: 12234\n",
            "number of strings longer than 300 characters: 106, 0.8%\n"
          ]
        },
        {
          "output_type": "display_data",
          "data": {
            "text/plain": [
              "<Figure size 1200x600 with 1 Axes>"
            ],
            "image/png": "[encoded data removed]"
          },
          "metadata": {}
        }
      ],
      "source": [
        "path = f'entries_1917.csv'\n",
        "\n",
        "# Run this cell and then play around here by adding bins=20 to the\n",
        "# list of arguments in the call to histogram_strings_by_length below.\n",
        "# Then try bins=range(400).\n",
        "# You can change the outflow boundaries by adding underflow_lim or\n",
        "# overflow_lim to the list of arguments and setting them to integers.\n",
        "# The default values are underflow_lim=30, overflow_lim=300.\n",
        "hist_results = histogram_strings_by_length(\n",
        "    path,\n",
        "    show_over_under=True,\n",
        "    drop_nulls=True\n",
        ")"
      ]
    },
    {
      "cell_type": "markdown",
      "metadata": {
        "id": "HPNbG-yOBmm7"
      },
      "source": [
        "You can get some idea of what's happening with different output data by examining different sets of entries. Try changing `clean_entries` to `full_entries` in the path above. Notice that the numbers of entries in each section of the histogram, reported above the plot, are different for the two data sets; clearly the existing code does more than identify short or long entries and drop them to transform \"full\" entries to \"clean\" entries.\n",
        "\n",
        "Looking at the shape of the histogram, you'll see there's a large peak around 50 characters, but then there are smaller peaks at about 90 characters and 140 characters. If you set `bins=range(400)` in the call to `histogram_strings_by_length` above, you'll see those secondary peaks are still present with higher resolution binning. How might we find out what causes that structure?\n",
        "\n",
        "Let's start by viewing some of the entry strings."
      ]
    },
    {
      "cell_type": "code",
      "execution_count": 4,
      "metadata": {
        "colab": {
          "base_uri": "https://localhost:8080/"
        },
        "id": "v0FZfio_Bmm7",
        "outputId": "93d0b47a-85eb-42f3-af02-8b76dfb5d1f7"
      },
      "outputs": [
        {
          "output_type": "stream",
          "name": "stdout",
          "text": [
            "6703         Maid of the Moonflower, Adair (C.) 6s...Oct. '17\n",
            "7556         My Lady of Shadows, Oxenham (J.) is. net Jan. 17\n",
            "10384     Spiritual first aid, Carey (IV. J.) id.., .Aug. '17\n",
            "4382     God the invisible King, Wells (H. G.) 6s. net May 17\n",
            "8075      Our little kingdom Creswick (P.) 6s. net. .Dec. '17\n",
            "6303        Littl'st lover, Ayres (R. M.) is. net ....Jan. 17\n",
            "10140     \" Sincere Chancellor,” Passelecg (F.) id...Sep. '17\n",
            "7801       Nursery, The, Phillpotts (E.) 6s. net .... June 17\n",
            "6349     Lois in charge, Marchant (B.) 3s. 6d. net.. Nov. '17\n",
            "11993      Welfare study: what it is, Walton (C.) 6d. Apr. 17\n",
            "6760       Man who saw, poems, Watson (W.) 35. 6d. net May 17\n",
            "11906        Warfare, New, Blanchon (G.) 35. 6d. net Nov. '17\n",
            "8267     Peace, Menace of, Herron (G. D.) 25. 6d. net Mar. 17\n",
            "3333        Essays, Potter (M. A.) Four. 55. 60. net Oci. '17\n",
            "598      At odd moments, Godfrey (W. S.) 25. 6d. net Dec. '17\n",
            "10077    Shorthand, Analogous, King (H.) is. 6d. net Nov. '17\n",
            "5336        In the night, Barnes (R. G.) 45. 6d. net ..May 17\n",
            "6473     Luck of the Vails, Benson (E. F.) is. net.. July '17\n",
            "2906         Dream splendid, Langdon-Davies (J.) is. Oct. '17\n",
            "6539      Lyrics, Russian, Duff (J. D.) 25. 6d. net.. June 17\n",
            "Name: 0, dtype: object \n",
            "\n",
            "\n",
            "3638     Flo werdew (Herbert)-The Seventh post card. Cr. 8vo. 8 X 5), pp. 312, 2s. net GREENING, Apr. 17\n",
            "10624        Supreme Court of Judicature (Ireland)-Account, yr. ended Sept. 30, 1916. 2d. WYMAN, Mar. 17\n",
            "11890        Ward (Mrs. Humphry)-Eltham House. Cr. 8vo. 77 x 41, pp. 352, is, net ......CASSELL, Feb. 17\n",
            "8447        Pharmacology and formulary, Practitioner's pocket, Freyberger (I.) 125, 6d. net ....Aug. '17\n",
            "7594          National Mission : appeal to corporate life of the Church, Pridie (J. R.) 4d. net .Feb. 17\n",
            "4896     Henry (0.)-Heart of the West. New ed. Cr. 8vo. 7x4), pp. 255, IS. 3d. net HODDER & S., Nov. '17\n",
            "2946          Dublin hospitals-58th Annual report of Bd. of Superintendence, 1915-16. 3d. WYMAN, Jan. 17\n",
            "2656          Dead, Our living: some talks with unknown friends, Bates (E. K.) 25. 6d. net ......Mar. 17\n",
            "5265     Ichneumonidae, S. African, in collection of S. African Museum, Morley (C.) 25. 6d. net Oct. '17\n",
            "7829      Oakley (George Robert)-- Spiritualism : what is it ? 8vo. pp. 15, 2d. net ..S.P.C.K., June '17\n",
            "8685          Poems : Russian reader, Accented, Rudzinsky (B. A.) and Gardiner (S.25. net........ May 17\n",
            "6271        Literature, Studies in : From Shakespeare to O. Henry, Mais (S. P. B.) 5s. net .... July ’17\n",
            "8936        Proverbs, Russian, and their English equivalents, Segal (L.) is. 6d. net..... ......Aug. '17\n",
            "8105          Oxenham (John)-Maid of the mist. Cr. 8vo. 7x44, pp. 302, Is. 3d. net HODDER & S., Oct. '17\n",
            "4980         Hinkovic (H.)-The Jugoslavs in future Europe. 8vo. pp. 62, s wd. 6d. * NEAR EAST,” Feb. '17\n",
            "8107       Oxenham (John)-Pearl of Pearl Island. Cr. 8vo. 73 x 44, pp. 304, is. net HODDER & S., June 17\n",
            "7986         Oppenheim (E. Phillips)—A People's man. Cr. 8vo. 7x44, pp. 256, is. net. ..METHUEN, June 17\n",
            "9151         Raphael (Mary F.)--As chance would have it. Čr. 8vo. 74 X 5, pp. 318,6s. DUCKWORTH, June 17\n",
            "5712        Julian (Mary)-Where jasmines bloom. Cr. 8vo. 7} * 5), pp. 316, 5s. net HODDER & S., July '17\n",
            "5568         James (W. Bevan)-Elbert Hubbard, master man. 64 x 4, pp. 48, 6d. net ......DANIEL, Nov. '17\n",
            "Name: 0, dtype: object \n",
            "\n",
            "\n",
            "4506       Grant (Hamil)-Two sides of the Atlantic: notes of an Anglo-American newspaper man. 8vo. 9 x6, pp. 311, 1os. 6d. net .. RICHARDS, Dec. '17\n",
            "5215       Hunt (A. S.) see Grenfell (B. P.) and Hunt. Hunt (E. Aldington)—The Aristocratic cur. Cr. 8vo. 71 x 41, pp. 38, Is. net SIMPKIN, Aug. '17\n",
            "9249     Reed (Stanley J.)--Turbines applied to marine propulsion. 2nd ed., rev. and enl. Fol. 11 X 77, pp. 180, 16s. net.... . . CONSTABLE, Mar. 17\n",
            "5465      Ireland, Dawn in [indus. and agric, conditions), Internal combust. engines, High speed, Judge Harrison (M.) 35. 6d. net.... ..... Aug. '17\n",
            "12418        Wool year-book and diary, 1917. Comp. by Editor of the “ Textile Mercury” and others. 67 x 44, pp. 608, 2s. 63. net.. MARSDEN, Aug. '17\n",
            "851          Beman (E. Cecil)-The Sword or the Cross? how to end the War. Cr. 8vo. 7 X 41, pp. 30, 6d. (Chorley, Lancs.) UNIVERSAL PUB. Co., Oci.'17\n",
            "5925        Laird (John)- Problems of the self : an essay based on the Shaw Lectures, March, 1914. 8vo. 9 X 54, pp. 388, 12s. net MACMILLAN, Oct.'17\n",
            "2609      Davies (Ethel)—Modern language teaching in German secondary schools. 8vo. 9 X 6, pp. 36, swd. Is. 6d. net (Clarendon Pr.) MILFORD, Mar. 17\n",
            "12248        Williams (W. L.)-Veterinary obstetrics incl. the diseases of breeding animals and of the new born. 8vo. 345. net . . MACMILLAN, Jan. 17\n",
            "7687        Newte (Horace W. C.)-The House that fell, and the decline and fall of a suburb. Cr. 8vo. 71 x 5, pp. 315, 6s....... MILLS & B., Dec. '17\n",
            "9913      Someonoff (A. E.) and Tillyard (H. J. W.) eds.- Russian poetry reader. With intro. notes and vocab. Cr. 8vo. Is. 6d. net K. PAUL, Aug. '17\n",
            "11533      CASSELL, July '17 war, After the : prophetical addresses, Berry Walpole (Hugh)—Maradick at forty, a transition. (G. B.) is, net .Nov. '17\n",
            "1482        Butler (Edward)—The Vaporizing of paraffin for high-speed motors (electric ignition type). 7** 5), pp. 127, 3s. 6d. net GRIFFIN, Mar. 17\n",
            "535         Arthur (David) and Muir (Jolin) -A Manual of practical s-ray work. 2nd and rev. ed. 8vo. pp. 365, 125, 6:1. uct.... HEINEMANN, Junie '17\n",
            "9100         Rall way and commercial gazetteer of England, Scotland, and Wales. 17th ed. Ryl. 8vo. 10 X 6), pp. 727, 158. net MCCORQUODALE, Sep. '17\n",
            "5179         Hull Museum-Quarterly record of additions. No. 55. Ed. by T. Sheppard. Illus. 8vo. pp. 32, id. (Publications No. 110) A. BROWN, Feb. 17\n",
            "4279       Gibson (James)-Locke's Theory of knowledge and its historical relations. Demy 8vo. 81x51, pp. 352, ros. 6d, net CAMB. UNIV. PR., Nov. '17\n",
            "4486       Grahame-White (Claude) and Harper (Harry) - Air power, naval, military, commercial. 8vo. 9 X6, pp. 262, 75. 6d. net CHAPMAN & H., Apr. 17\n",
            "9652         Russian verbs made easy, Lett (S. J.) 28. 6d. net pp. 328, 6s. 9 3 *** “ S.”—The Sword : its authority in Scripture. IS. net · June '17\n",
            "12053       Westervelt (W. D.)-Hawaiian legends of vol- canoes (mythology). Collected and tr. fr. the Hawaiian. Cr. 8vo. 6s. net CONSTABLE, Jan. '17\n",
            "Name: 0, dtype: object\n"
          ]
        }
      ],
      "source": [
        "# Get the clean entries from a csv file. Squeeze the result to convert\n",
        "# the single-column dataframe into a series.\n",
        "path = f'entries_1917.csv'\n",
        "clean_entries = pd.read_csv(path, header=None).squeeze()\n",
        "\n",
        "# Drop null values\n",
        "clean_entries = clean_entries.dropna()\n",
        "\n",
        "# Get the length of each entry string\n",
        "lengths = clean_entries.map(len)\n",
        "\n",
        "# Get entry strings around the center of the largest peak\n",
        "first_peak = clean_entries.loc[(lengths > 47) & (lengths < 53)]\n",
        "\n",
        "# Get entries in the second peak\n",
        "second_peak = clean_entries.loc[(lengths > 89) & (lengths < 96)]\n",
        "\n",
        "# Get entries in the third peak\n",
        "third_peak = clean_entries.loc[(lengths > 134) & (lengths < 140)]\n",
        "\n",
        "# View a random sample of values in each peak\n",
        "print(first_peak.sample(20), '\\n\\n')\n",
        "print(second_peak.sample(20), '\\n\\n')\n",
        "print(third_peak.sample(20))\n",
        "\n"
      ]
    },
    {
      "cell_type": "markdown",
      "metadata": {
        "id": "-7Oh-b2OBmm8"
      },
      "source": [
        "Run the previous cell several times, examining the output carefully each time. Are there clear differences in the contents of the entries from each peak? Can they be explained by reasonable features of a real data set or do you think the structure in the histogram is a result of bad parsing?"
      ]
    },
    {
      "cell_type": "markdown",
      "metadata": {
        "id": "v_ZMFnTMBmm9"
      },
      "source": [
        "I think we can draw three conclusions here:\n",
        "\n",
        "1. The largest peak is the easiest to explain: title-first entries, which only contain the book title, author name, price, and month of publication, are frequently about 50 characters long. There are of course a huge number of title-first entries much longer than that, and the other two peaks are sitting on top of a long tail from the title-first peak.\n",
        "2. The second peak looks like it consists mostly of author-first entries for single-author, single-title books.\n",
        "3. The third peak is the most complicated. I see books that have both multiple authors and long subtitles, as well as entries that have additional information like a series name, such as `(Langham bibelots, No. 10.)`, or a note about translation, for instance `English version by A. W. Verrall.`"
      ]
    },
    {
      "cell_type": "markdown",
      "metadata": {
        "id": "Rqi9aAs8Bmm9"
      },
      "source": [
        "If you want an exercise to try working with the data yourself and to follow up on my interpretation above, figure out a way to histogram the shorter title-first entries separately from the longer author-first entries. If you don't know how to start, try this:\n",
        "\n",
        "1. Make a regular expression that searches for a sequence of capital letters. This won't be a perfect distinction, but the author-first entries usually have a publisher's name in all caps and the title-first entries don't.\n",
        "2. Use the regular expression to put entries with words in all caps in one pandas series and entries without words in all caps in another.\n",
        "3. Calculate the lengths of each element in each series and store them in two different series.\n",
        "4. Create histograms by using the method `.hist(bins=range(0, 400, 3))` on both series of lengths.\n",
        "5. Play around with the bin width (the third argument in the range function) and see how the features in each histogram change.\n",
        "\n",
        "You can refer to the last two code cells in this notebook to see an example of a similar process.\n",
        "\n",
        "If my interpretation above is mostly right then you should see a peak at 50 characters with a long tail to the right in one histogram and a smaller but very similarly shaped peak at about 90 characters in the other (I expect the second peak to have a shorter tail on the left as well). I haven't tried this, so if you do you should let me know what's going on with that third peak - is it present in both histograms?"
      ]
    },
    {
      "cell_type": "markdown",
      "metadata": {
        "id": "aHPX5VgpBmm9"
      },
      "source": [
        "## <u>Testing new methods</u>"
      ]
    },
    {
      "cell_type": "markdown",
      "metadata": {
        "id": "ixtInM8IBmm9"
      },
      "source": [
        "Some entries in the third peak reveal a flaw in our current approach to splitting the entries: some lines in the catalogue aren't part of an entry. These lines have the form `<author name> see <author name>`, suggesting a reader looking up one author might actually be looking for someone else. The code we're using assumes entries end with an OCR line ending in `12`. It doesn't handle the lines pointing from one author to another, so those lines usually get tacked onto the front of the following entry. The current code does sometimes parse these author-to-author lines as individual entries. It looks to me like this happens when they are the last OCR'd line on a page.\n",
        "\n",
        "I figured that out by repeatedly looking at samples generated by the next cell and then searching the Hathi Trust online PDF for the contents of author-to-author lines that appeared separate from a full entry."
      ]
    },
    {
      "cell_type": "code",
      "execution_count": 5,
      "metadata": {
        "colab": {
          "base_uri": "https://localhost:8080/"
        },
        "id": "cCmekKTtBmm9",
        "outputId": "7f23529b-031e-4920-b585-7e364c48c6ba"
      },
      "outputs": [
        {
          "output_type": "stream",
          "name": "stdout",
          "text": [
            "number of entries containing \" see \": 321\n",
            "\n",
            "\n"
          ]
        },
        {
          "output_type": "execute_result",
          "data": {
            "text/plain": [
              "6344       Loghe (Sydney de) see De Loghe. Logic as the science of the pure concept, Croce (B.) (Ainslie) 145. net. .Oct, '17\n",
              "7005                                 Maurice (W. Chevob-) see Chevob-Maurice. Maurine, Wilcox (E. W.) is. net........Aug. '17\n",
              "7754     Norsworthy (N.) see Strayer (G. D.) and Nors- worthy. “North Briton ”-British frecdom, 1914-1917. IS. net ..Aug. '17\n",
              "628                       Aubry (G. Jean-) see Jean-Aubry. Aucassin and Nicolete, West (M.) 1os. 6d., 218., 63s. net Oct. '17\n",
              "2352                        Costain (T. B.) see Eryrs (H. S.) and Costain. Costing, Prac., Gledhill (A. H.) 35 ......Aug. '17\n",
              "12035                     West (V. Sackville-) see Sackville-West. West Countree whispers, De Hainville (W.) is. net Nov. '17\n",
              "5238                                Huse (H. R.) see Wilkins (E. H.) and others. Hushed up, Le Queux (W.) is. net .. July '17\n",
              "8613                             Pleasant ways of St. Médard, King (G.) 5s. net Plessis (J. du) see Du Plessis. IS. . Mar. 17\n",
              "6015                      Laurence (Reginald Vere) see Figgis (J. N.) and Laurence. Laurette, Vigny (A. de) 6d. net ..May '17\n",
              "2827                                                                        Dixon (James) see Berkeley (R.) and Dixon. May 17\n",
              "8233                                    Paterson (W. R.) see Swift (B.) Paterson's Licensing Acts, 1917. BUTTERWORTH, Jan. 17\n",
              "6589                            MacGill (Mrs. Patrick) see Gibbons (M.) McGlusky the Reformer, Hales (A. G.) 7d. net Nov. '17\n",
              "11541         Walsh (W. S. Pakenham-) see Pakenham-Walsh. War aims : parliament of Allies, Angell (N.) 28. 6d. net.. .Nov.'17\n",
              "8226                             Pasture (Mrs. H. de la) see De la Pasture. Patchwork papers, Thurston (E. T.) is. vet May 17\n",
              "2693      De Crespigny (Mrs. P. Champion) see Champion de Crespigily. Decretals, False, Davenport (E. H.) 45. 6d. net Jan. 17\n",
              "1302                              Braun (Alfred) see Friesne (I.) and Braun. Brave brothers, Stooke (E. M.) 28. net..Nov. '17\n",
              "6415                             Lord (R. H.) see Hazen (C. D.) and others. Lord Élesdene's wife, Brame (C. M.) 6d. ..Apr. 17\n",
              "8572                      Plaatje (Solomon T.) see Jones (D.) and Plaatje. Place of dragons, Le Queux (W.) is. net.. July ’17\n",
              "8263                                                                  Pattison (A. S. Pringle-) see Pringle-Pattison. Mar. 17\n",
              "10926                                    Thomas Aquinas (St.) see Aquinas (St. T.). Thomas, Creswell (H. B.) 55. net Oct. '17\n",
              "Name: 0, dtype: object"
            ]
          },
          "metadata": {},
          "execution_count": 5
        }
      ],
      "source": [
        "author_to_author_entries = clean_entries.loc[\n",
        "    clean_entries.str.contains(' see ')\n",
        "]\n",
        "\n",
        "# python interprets two strings on successive lines as a single string\n",
        "# so it's easier to read long strings in source code.\n",
        "print(\n",
        "    'number of entries containing \" see \":'\n",
        "    f' {author_to_author_entries.size}\\n\\n'\n",
        ")\n",
        "\n",
        "author_to_author_entries = clean_entries.loc[\n",
        "    clean_entries.str.contains(' see ') & (lengths < 120)\n",
        "]\n",
        "author_to_author_entries.sample(20)"
      ]
    },
    {
      "cell_type": "markdown",
      "metadata": {
        "id": "hfDtn1T_Bmm-"
      },
      "source": [
        "If you can come up with a way to identify those author-to-author lines and separate them from the entries, you'll improve our data set. That's going to be pretty difficult though, so let's start with something easier."
      ]
    },
    {
      "cell_type": "markdown",
      "metadata": {
        "id": "Pu3sSpInBmm-"
      },
      "source": [
        "Have a look at a sample of the longest entries:"
      ]
    },
    {
      "cell_type": "code",
      "execution_count": 6,
      "metadata": {
        "colab": {
          "base_uri": "https://localhost:8080/"
        },
        "id": "9RJbRoo_Bmm-",
        "outputId": "1f787444-7d42-4355-fd62-7d85da6e1c9c"
      },
      "outputs": [
        {
          "output_type": "execute_result",
          "data": {
            "text/plain": [
              "829                            Bell (H. I.) see under British Museum. Begbie (Harold)—Albert, fourth Earl Grey : a last word. Cr. 8vo. 74 X 5, pp. 183, 25. 6d. net Bell (Irene Brittain)—Homeward and other HODDER & S., Dec. '17 verse. Cr. 8vo. Is. net (Little bks. of Georgian Begbie (Harold)—The Little that is good : stories verse) ...E. MACDONALD, Nov. '17\n",
              "966               Bidder (Marion Greenwood) and Baddeley (Florence)-Domestic economy: a text-book for teachers and students in training. Pt. 1, Theory, by M. G. B., pp. 176, 25. 6d. net ; Pt. 2, The Practice and teaching of domestic economy, by F. B., pp. 198, 29. 60. net. 3rd impr. Cr. 8vo.74 43 (obtainablein i vol. at 4s. 6d.net) CAMB. UNIV. PR., Mar. 17\n",
              "1540                     Cambridge University- Calendar, 1917-18. Cr. 8vo. 71 X 43, pp. 1,994, 8s. net CAMB. UNIV. PR., Nov. '17- Cambridge University-Examination papers. Vol. 45. Michaelmas Term, 1915, to Easter Term, 1916. Vol. 46. Michaelmas Term, 1916, to Easter Term, 1917. 4to. 11 X8, pp. 672, 574, ea. vol. 315. 6d. net CAMB. UNIV. PR., Feb., Nov. '17\n",
              "2381           Courville (E. H.)-Autograph prices current : compl. alpha. and chronol. record of all auto- graph letters, documents, and MSS. sold by auction in London, w. date and place of sale, name of purchaser, and price of each lot. Vol. 2, Aug., 1916-July, 1917, incl. Ryl. 8vo. 10 X6, pp. 258, 259. net (25, Rumsey Rd., Brixton, S.W.) AUTHOR, Oct. '17\n",
              "5470           International Law, American Journal of. Vol. 11, Ireland-Land suitable for tillage in the hands of nos. 1 and 2. Ryl. 8vo. 104 X 7, ea. 6s. 6d. net; the Irish Land Cmmrs. and the Congested annual subscr. 255. net MILFORD, Jan., Apr. '17 Districts Bd.: Return. id. International law and practice, Barclay (Sir T.) H.M. STATIONERY OFFICE, May'17\n",
              "5644                            Jonckheere (R.)--Catalogue and measures of double stars discovered visually from 1905 to 1916 within 105 degs. of the North Pole and under 5 ins. separation. W. intro. containing a study of the distribution of all the known double stars. 3 pl. 4to. 11 X 84, pp. 205, 16s. net (Memoirs, R. Astron. Soc., Vol. 61) WESLEY, May 17\n",
              "5646                            Jones (A. G. Prys-) see Prys-Jones. Jones (A. J. Lawford) see Bygott (J.) and Jones. Jones (A. S. Duncan-) see Duncan-Jones. Jones (Bernard E.) ed.-Clock cleaning and re- pairing. With a chapter on adding quarter. chimes to a grandfather clock. Illus. Cr. 8vo. 7x44, pp. 156, Is. 3d. net (“Work” Hand- books) CASSELL, Oct. '17\n",
              "6493                          Low (W. H.) see Wyatt (A. J.) and low. Lowbury Hill, Berkshire, Romano-British site on, Atkinson (D.) 5s. ...Dec. 16 Lowe (W. D.) see Freeman (C. E.) and Lowe. Lowell (James Russell)-The Earlier essays of James Russell Lowell. Ed., W: intro, and notes, by E. G. Hoffsten. 18mo. Is. 3d. net (Pocket classics) .MACMILLAN, July '17\n",
              "6909               Marshdikes, Ashton (H.) 6s. Martineau (George)-A Short history of sugar, Marson (C. L.)-Glastonbury: the historic guide 1856–1916 : a warning: 7X 41, pp. 85, Is. net to the English Jerusalem.\" Cr. 8vo. 71 x 5, (Kingsway House, W.C. 2) BRITISH EMPIRE PRODUCERS' ORGANISATION, pp. 114, Is. gd. net (Bath : 5, Argyle St.) G. GREGORY, Oct. '17\n",
              "7906     Old Testament in Greek, accord. to text of Codex Vaticanus, supplemented fr, other uncial MSS., w. critical apparatus cont. variants of chief ancient authorities for text of the Septuagint. Vol. 1, The Octateuch : Pt. 4, Joshua, Judges, and Ruth. Ed. by A. E. Brooke and Norman McLean. Demy 4to. uk X 81, pp. 272, 155. net CAMB. UNIV. PR., J une '17\n",
              "8394                          Perceval (Margaret)--Christ our sacrifice : an introductory study on the Atoncinent. 71x17, pp. 63, is. net Directions for daily study and united study outline for members of circles reading “ Christ our sacrifice.” pp. 8, Id. Suggestions to lealers of study circles using “ Christ our sacrifice.\" pp. 16, 2d. S.P.C.K., Nov. '17\n",
              "8443                      Petunia (T. 0.)-Little Tekel; or, The Shame child. Illus. by Cecil H. Wood and E. Arnold, col. front. by Will Houghton. 25. net (Brighton) BELGRAVE PUB. Co., Feb. 19 Peyer (E. C. de) see De Peyer. Pfister (Oskar)--The Psychoanalytic method. Authorized trans. by Charles Rockwell Payne. 8vo. 9 x6, pp. 607, 21s. net K. PAUL, Oct. '17\n",
              "8618      Plotinus-The Ethical treatises : being the treatises of the first Ennead, w. Porphyry's Life of Plotinus and the Preller-Ritter Extracts, forming a conspectus of the Plotinian system. Tr. fr. the Greek by Stephen MacKenna. (In 4 vols.) Vol. i. Fol. II X8, pp. 158, 16s. net (Lib. of philosophical translations) (Medici Soc.) P. LEE WARNER, Aug. '17\n",
              "8987                        Ptolemy-Ptolemy's Tetrabiblos or Quadripar- tite : being 4 books of the influence of the stars. With pref., explan. notes, and appendix, cont. extracts fr. the Almagest of P., the whole of his Centiloquy, and a short notice of Mr. Ranger's Zodiacal planisphere, by T. M. Ashmand. 8vo. 8} x 55, pp. 273, 155. net FOULSHAM, Dec. '17\n",
              "9702                   Sam ways (George R.)-War lyrics. 7*4, pp. Satow (Rt. Hon. Sir Ernest)-A Guide to dip- 32, IS. net ....STOCKWELL, Feb. 17 lomatic practice. 2 vols. 8vo. 91 x 5$, pp. Sand (George)-Le Marquis de Villemer. Ed. w 429, 414, 28s. net (Contrib. to internat. law and intro. and notes by C. E. Young. Cr. 8vo diplomacy ser.) ..LONGMANS, Apr. 17\n",
              "12587              Zoology : South African Museum : Annals. Vol. 15, pt. 6, 38. net .. ..Dec. 16 Zorn (John)---Four letters from Jelin Zorn, Chairman of the Deptford Liberal Assn., to Howard Deighton, C.C., Chairman of the Deptford Conservative Assn., &c. [Industrial organization, &c.]. 84 x 55, pp. 36, 2d. net (30, Belmont Hul, Lee, S.E.) AUTHOR, July '17\n",
              "Name: 0, dtype: object"
            ]
          },
          "metadata": {},
          "execution_count": 6
        }
      ],
      "source": [
        "clean_entries.loc[(lengths > 325) & (lengths < 350)]"
      ]
    },
    {
      "cell_type": "markdown",
      "metadata": {
        "id": "2lMKgnNRBmm-"
      },
      "source": [
        "A substantial number of long entries have a date that should mark a point to split entries that was missed for some reason. Reviewing a few samples in the previous cell, I see at least three cases that need to be handled:\n",
        "1. OCR mistakes, like `I2` or `1z` or `iz` rather than `12`\n",
        "2. Books published in 1911 and listed in this catalogue (our code assumes `12` is part of the entry delimiter)\n",
        "3. Entries with apparently well-formed 1912 dates that the current code failed on. For example, entry `14814` appears to be three entries separated by two 1912 dates that were skipped over for reasons I don't understand yet. Run the next cell to see it."
      ]
    },
    {
      "cell_type": "code",
      "execution_count": 7,
      "metadata": {
        "colab": {
          "base_uri": "https://localhost:8080/",
          "height": 37
        },
        "id": "jjRhWFYdBmm-",
        "outputId": "87b7a889-392d-44b5-8c8b-219b1a4a59b0"
      },
      "outputs": [
        {
          "output_type": "execute_result",
          "data": {
            "text/plain": [
              "\"Aberdeen theses, Lost, Johnstone (J. F. K.) IS. Jan. '17\""
            ],
            "application/vnd.google.colaboratory.intrinsic+json": {
              "type": "string"
            }
          },
          "metadata": {},
          "execution_count": 7
        }
      ],
      "source": [
        "clean_entries[16]"
      ]
    },
    {
      "cell_type": "markdown",
      "metadata": {
        "id": "m9tqjBHnBmm-"
      },
      "source": [
        "The first two cases are relatively easy to handle. Let's start by finding the regular expressions our code uses to split entries apart and build on that to improve the current process. That code is documented in `Parsing_ECB_1912_wi23.ipynb`, currently living in the `scripts` directory of the github repository. In the section \"Splitting the Text into Entries\" in that notebook, I find the following process:"
      ]
    },
    {
      "cell_type": "code",
      "execution_count": 8,
      "metadata": {
        "colab": {
          "base_uri": "https://localhost:8080/"
        },
        "id": "TW8kzJ1ABmm_",
        "outputId": "019e1db2-fa7a-46e6-9805-5079ac85f090"
      },
      "outputs": [
        {
          "output_type": "stream",
          "name": "stdout",
          "text": [
            "total entries: 13681\n"
          ]
        }
      ],
      "source": [
        "# ALL CODE IN THIS CELL IS ADAPTED FROM Parsing_ECB_1912_wi23.ipynb\n",
        "\n",
        "# read the Hathi Trust OCR into memory\n",
        "with open(f'ecb_1917.txt', encoding='utf8') as f:\n",
        "    ocr_full_text = f.read()\n",
        "\n",
        "# Separate main text from the front matter of the catalogue (note the\n",
        "# string called ocr_main_text still has the back matter attached until\n",
        "# a later step)\n",
        "# Note python allows multiple assignment: the split operation below\n",
        "# creates a two-element list whose elements are then assigned to two\n",
        "# different variables\n",
        "ocr_front_matter, ocr_main_text = re.split(r'\\.\\W\\non\\n', ocr_full_text)\n",
        "\n",
        "appendix_pattern = (\n",
        "    r\"APPENDIX\\nLEARNED SOCIETIES, PRINTING CLUBS, &c., \"\n",
        "    r\"WITH LISTS OF THEIR\\nPUBLICATIONS, 1917\"\n",
        ")\n",
        "\n",
        "# Separate main text from the back matter of the catalogue\n",
        "ocr_main_text, ocr_back_matter = re.split(appendix_pattern, ocr_main_text)\n",
        "\n",
        "# Make a regular expression to capture headers at the top of each\n",
        "# catalogue page\n",
        "header_capital_letters = r\"^(?:[A-Z\\-\\'\\sÈ]+)\"\n",
        "header_pattern = r\"^#(?s:.*?){}(?s:.*?){}(?s:.*?){}$\".format(\n",
        "    header_capital_letters, header_capital_letters, header_capital_letters\n",
        ")\n",
        "\n",
        "# Split the main text into pages and strip the headers. According to\n",
        "# Parsing_ECB_1912_wi23.ipynb this method fails to remove six headers.\n",
        "pages = [\n",
        "    re.sub(header_pattern, '', page, flags=re.M)\n",
        "    for page in ocr_main_text.split('\\f')\n",
        "]\n",
        "\n",
        "# Now find all lines ending in 12 and insert a token to split on\n",
        "entries_by_page = [\n",
        "    re.sub(r'(\\W17\\.?$)', '\\\\1<ENTRY_CUT>', page, flags=re.M)\n",
        "    for page in pages\n",
        "]\n",
        "\n",
        "# Split on the token to create a list of lists where each element is\n",
        "# a list of entries on an individual page\n",
        "entries_by_page = [\n",
        "    re.split(r'<ENTRY_CUT>', page, flags=re.M)\n",
        "    for page in entries_by_page\n",
        "]\n",
        "\n",
        "print(f'total entries: {sum([len(p) for p in entries_by_page])}')"
      ]
    },
    {
      "cell_type": "markdown",
      "metadata": {
        "id": "UYaEHt3ABmm_"
      },
      "source": [
        "Now let's test a new regular expression for splitting entries"
      ]
    },
    {
      "cell_type": "code",
      "execution_count": 13,
      "metadata": {
        "colab": {
          "base_uri": "https://localhost:8080/"
        },
        "id": "VntA-EWdBmm_",
        "outputId": "9e7d60d3-382b-4787-fcc7-941f4ebe9c8d"
      },
      "outputs": [
        {
          "output_type": "stream",
          "name": "stdout",
          "text": [
            "total entries: 13864\n",
            "New entries on one page:\n",
            "\n",
            "\n",
            "\n",
            "Kingsley (Charles)--Heroes. New ed. is. 3d. net\n",
            "FROWDE AND H. & S., Dec. '17\n",
            "\n",
            "Kingsley (Florence Morse) see Freeman (M. E. W.)\n",
            "and Kingsley.\n",
            "Kingston (W. H. G.)-Old Jack. Cr. 8vo. IS.\n",
            "3d. net\n",
            "CHAMBERS, Juli''17\n",
            "\n",
            "Kingston (W. H. G.)--Peter Trawl. New ed.\n",
            "8vo. 35. net. ..FROWDE AND H. & S., Nov. '17\n",
            "\n",
            "Kingston (W. H. G.)-Salt water. New ed. IS.\n",
            ".FROWDE AND H. & S., Dec. '17\n",
            "\n",
            "Kingston (W. H. G.)--True blue. New ed.\n",
            "IS. 3d. net .FROWDE AND H. & S., Nov. '17\n",
            "\n",
            "Kingston-upon-Hull. See Hull.\n",
            "Kingston's revenge, Walshe (E. H.) 28. 6d. net\n",
            "July '17\n",
            "\n",
            "Kingsway songs.\n",
            "Bk. I. Fol. 12 X91, pp. 16,\n",
            "25. net (Kingsway ser.) EVANS BROS., Oct. '17\n",
            "\n",
            "Kingswood sermons, Workman (W. P.) 3s. 6d. net\n",
            "May 17\n",
            "\n",
            "Kingzett (C. T.)-Chemistry for beginners and for\n",
            "use in primary and public schools. Cr. 8vcd\n",
            "7X43, pp. 106, 25. 6d. net BAILLIÈRE, Feb. 17\n",
            "\n",
            "Kinne (Helen) and Cooley (Anna M.)–Clothing\n",
            "and health. Cr. 8vo. 35. 60. net\n",
            "MACMILLAN, Jan. 17\n",
            "\n",
            "Kinne (Helen) and Cooley (Anna M.)-The Home\n",
            "and the family : an elem. text-book of home-\n",
            "making. Cr. 8vo. 35. 6d. net (Home-making\n",
            "ser.)\n",
            ".MACMILLAN, June 17\n",
            "\n",
            "Kinsila (Edward B.)-Modern theatre construc-\n",
            "tion. Cr. 8vo. 128. 6d. net\n",
            "STEVENS & B., Aug. '17\n",
            "\n",
            "Kinsman, Sidgwick (Mrs. A.) is. 3d, net..Nov. '17\n",
            "\n",
            "1\n",
            "King (Arthur Edward)—The Avoirdupois-weight\n",
            "calculator and ready reckoner. New enl. ed.\n",
            "Cr. 8vo. 71 x 5, pp. 304, 25. 6d. net\n",
            "WARNE, Sep. '17\n",
            "\n",
            "King (Basil) --Tlie High !eart. Cr. 8v. 71 X 5,\n",
            "pp. 287, 6s, net\n",
            ".... CHAPMAN & J., Oct. '17\n",
            "\n",
            "King (Basil)—The Lifted veil. Cr. 8vo. 78 x 5},\n",
            "pp. 320, 5s, net\n",
            "..METHUEN, Mar. 17\n",
            "\n",
            "King (Basil)—The Way home. 8vo. 7X45, pp.\n",
            "288, is. net\n",
            "METHUEN, Jan. 17\n",
            "\n",
            "King (D. Macdougall)- The Battle with tuber-\n",
            "culosis and how to win it. Cr. 8vo. 6s. net\n",
            "LIPPINCOTT, Dec. '17\n",
            "\n",
            "King (Edward)—Spiritual letters of Edward King,\n",
            "D.D., late Lord Bishop of Lincoln. Ed. by B.\n",
            "W. Randolph. Cr. 8vo. 7X57, pp. 199, is. net\n",
            "MOWBRAY, Mar. 17\n",
            "\n",
            "King (F. Truby)--Feeding and care of baby.\n",
            "8vo. 8} x 5), pp. 162, Is. 6d. net\n",
            "MACMILLAN, A19g. '17\n",
            "\n",
            "King (Grace)-The Pleasant ways of St. Médard.\n",
            "Cr. 8vo. 74 x 57, pp. 338, 5s. net\n",
            "CONSTABLE, Mar. 17\n",
            "\n",
            "King (H.)-King's Analogous shorthand. 71 x 41,\n",
            "pp. 24, IS. 6d. net\n",
            "(15, St. Mary's Terrace, W. 2) AUTHOR, Nov. '17\n",
            "\n",
            "King (H. C.)-Fundamental questions. Cr. 8vo.\n",
            "6s. 6d. net\n",
            "....MACMILLAN, July '17\n",
            "\n",
            "King (Henry Churchill)—It's all in the day's work.\n",
            "18mo. 29. net\n",
            ". MACMILLAN, May 17\n",
            "\n",
            "King (Henry R. Lawrence)— The Syrian soldier\n",
            "and other poems : a selection of sacred poetry.\n",
            "8vo. pp. 221, 2s. 6d. net ....ALLMAN, Feb. '17\n",
            "\n",
            "King (Jessie M.)-The Little White Town of\n",
            "Never Weary. Fol. 10x71, pp. 156, 7s. 6d.\n",
            "net\n",
            ".HARRAP, Oct. '17\n",
            "\n",
            "King-Harman (M. J., Col.)—British boys: their\n",
            "training and prospects. 2nd ser. Cr. 8vo.\n",
            "1.74 X5, pp. 262, 25. net......G. BELL, July’17\n",
            "\n",
            "King and Queen in the Great War, Our. is. net\n",
            "Dec. '17\n",
            "\n",
            "King Arthur and his knights of the Round Table,\n",
            "Romance of, Malory (Sir T.). Abr. by\n",
            "W.\n",
            "Pollard. Illus. by A. Rackham. IOS. 6d.,\n",
            "425. net\n",
            "..Oct. '17\n",
            "\n",
            "King Coal, Sinclair (U.) 6s.\n",
            ".Sep. '17\n",
            "\n",
            "King Henry V, Shakespeare (W.) (Lobban ;\n",
            "Granta S.) is. net\n",
            ". May 17\n",
            "\n",
            "King in khaki, Wobster (H. K.) is. 3d. net Nov. '17\n",
            "\n",
            "King John, Shakespeare (W.) is. 6d. ....Jan. '17\n",
            "\n",
            "King Lear, Shakespeare (W.) (Buck; Pocket\n",
            "classics) is. 3d. net\n",
            ".July '17\n",
            "\n",
            "King of the air, Strang (H.) is. 9d. net ..Dec. '17\n",
            "\n",
            "King, of the Khyber Rifles, Mundy (T.) 5s. net\n",
            "July '17\n",
            "\n",
            "King Richard the Third, Shakespeare (W.) 1s. 6d.\n",
            "Jan. '17\n",
            "\n",
            "King Richard III, Shakespeare (W.) (Brubacher)\n",
            "Is, net\n",
            "· June '17\n",
            "\n",
            "Kingdom by the sea, Lyall (1).) 35. 6d. net Nov. '17\n",
            "\n",
            "Kingdom of the blind, Oppenheim (E. P.) 6s. net\n",
            "July ’17\n",
            "\n",
            "Kingdom of waste lands, Grier (S. C.) 6s. Oct. '17\n",
            "\n",
            "King's blue riband, Ellis (B.) is. net ..Jan. 17\n",
            "\n",
            "King's Counsel \"_\"I heard a voice.” 6s. net\n",
            "Dec. '17\n",
            "\n",
            "King's fishing, Mercier (C.) is. 3d. net..Sep. '17\n",
            "\n",
            "King's highway, Oxenham (J.) 25. net .. July '17\n",
            "\n",
            "King's mirror, Larson (L. M.) i2s, 6d. net Dec. '17\n",
            "\n",
            "King's Royal Rifle Corps, Brief hist., fr. 1755 to\n",
            "1915, Hutton (Sir E.) 25. 6d., Is. net.... July '17\n",
            "\n",
            "Kingsbridge, Salcombe and the Kingsbridge\n",
            "Estuary, Anderson (A. H.) 7d., is. net Apr. 17\n",
            "\n",
            "Kingsford (Anna [Bonus])—The Ciedo of Christen-\n",
            "dom, and other addresses and essays on esoteric\n",
            "Christianity. Ed., w. biog. pref., by S. H.\n",
            "Hart. 8vo. 88 x 51, pp. 262, 45. 6d. net\n",
            "WATKINS, Jan. 17\n",
            "\n",
            "Kingsley (Charles)—Hereward the Wake. Cr. 8vo.\n",
            "IS, 3d, net\n",
            "CHAMBERS, July ’17\n",
            "\n",
            ":\n",
            "Uniform ed., extra cr. 8vo., 6s.; Pocket ed.,\n",
            "fcap. 8vo., 45. 6d. net, Ithr., 5s. net ; Ed. de luxe,\n",
            "2 vols., 8vo., ea. Ios. 6d. net; Bombay ed.,\n",
            "super ryl. 8vo., 21s. net MACMILLAN, Apr. 17\n",
            "\n",
            "Kipling and Kiplingana, Less familiar, Monkshood\n",
            "(G. F.) 5s. net\n",
            ".Jan. 17\n",
            "\n",
            "Kipling, Rudyard, Hubk. to the poetry of,\n",
            "Durand (R.) os. net\n",
            "..Dec. '17\n",
            "\n",
            "Kipping (C. S.)---300 chess problems. Svo. 2s. 6d.\n",
            "net\n",
            "CHESS AMATEUR,” Feb. '17\n",
            "\n",
            "Kirk (Mrs. E. W.)--Tried favourites cookery book,\n",
            "with household hints, and other useful informa-\n",
            "tion. 15th ed. 8vo. 87 x 5), pp. 332, Is. 6d. net,\n",
            "25. net\n",
            ".H. MARSHALL, Apr. 17\n",
            "\n",
            "Kirk (Sir John)-This way and that way : a back-\n",
            "ward look and a forward look at the problems\n",
            "and progress of child welfare among the very\n",
            "poor. 98 x6, pp. 21, 3d. (32, John St., W.C. 1)\n",
            "SHAFTESBURY SOC., Nov. '17\n",
            "\n",
            "Kirk i' the Clachan : sermons in Scots, Mitchell\n",
            "(D. G.) 3s. 6d. net\n",
            "..Feb. 17\n",
            "\n",
            "Kirkland (John)-Three centuries of prices of\n",
            "wheat, flour, and bread; war prices and their\n",
            "causes. 101 x64, pp. 64, 35.\n",
            "(Nat. Bakery School, Borough Polytechnic\n",
            "Inst., S.E. 1) AUTHOR, Aug. '17\n",
            "\n",
            "Kirkpatrick (R.)—The Nummulosphere. Pt. 3,\n",
            "The Ocean floor or Benthoplankton. 8vo.\n",
            "84x5), pp. 377, 1os. net ..LAMLEY, July '17\n",
            "\n",
            "Kirkpatrick (S. C.)-The Jews and Christianity :\n",
            "study circle outlines on the text-book “Through\n",
            "the Jews to God,” pp. 30, 3d. net; Sugges-\n",
            "tions to leaders, pp. 16, 2d. net. Cr. 8vo.\n",
            "71*4#\n",
            ".S.P.C.K., Feb. 17\n",
            "\n",
            "Kirton (Charles H.)– The Principles and practice\n",
            "of continuation teaching. 8vo. 8f x 51, pp.\n",
            "383, 5s. net\n",
            "PITMAN, Feb. 17\n",
            "\n",
            "Kit, Tynan (K.) 6s. net\n",
            "Mar. 17\n",
            "\n",
            "Kitch (F. M.)--The Origin of subjectivity in\n",
            "Hindu thought. Ryl. 8vo. 94 x 61, pp. 82,\n",
            "25. 6d. net (Philosophic Studies. No. 7).\n",
            "CAMB. UNIV. PR., Nov. '17\n",
            "\n",
            "Kitchener, Field-Marshal Farl, of Khartoum :\n",
            "tribute to his memory, Nandkuverba, Maharani\n",
            "of Bhavnagar. Priv. pr.\n",
            ".Feb. 17\n",
            "\n",
            "\n"
          ]
        }
      ],
      "source": [
        "# This cell assumes we're looking at the 1912 catalogue; try changing\n",
        "# this code (and the year parameter in the first code cell of the\n",
        "# notebook) to catch OCR mistakes for a different year.\n",
        "\n",
        "# create a list of possible values the OCR software might have created\n",
        "# when it ran into an 11 or 12 on the page\n",
        "ocr_interpretations_of_16 = [\n",
        "    '16'\n",
        "]\n",
        "ocr_interpretations_of_17 = [\n",
        "    '17'\n",
        "]\n",
        "terminators = ocr_interpretations_of_16 + ocr_interpretations_of_17\n",
        "\n",
        "# modify the existing regex with our new options\n",
        "entry_terminator_regex = r'(\\W({})\\.?$)'.format('|'.join(terminators))\n",
        "\n",
        "# get a new set of entries the same way as above, but using the new\n",
        "# regular expression\n",
        "new_entries_by_page = [\n",
        "    re.sub(entry_terminator_regex, '\\\\1<ENTRY_CUT>', page, flags=re.M)\n",
        "    for page in pages\n",
        "]\n",
        "new_entries_by_page = [\n",
        "    re.split(r'<ENTRY_CUT>', page, flags=re.M)\n",
        "    for page in new_entries_by_page\n",
        "]\n",
        "\n",
        "print(f'total entries: {sum([len(p) for p in new_entries_by_page])}')\n",
        "\n",
        "#long_entries = clean_entries.loc[(lengths > 250)]\n",
        "#print(long_entries.sample(20))\n",
        "\n",
        "\n",
        "\n",
        "print('New entries on one page:')\n",
        "for item in new_entries_by_page[121]:\n",
        "  print(item)\n"
      ]
    },
    {
      "cell_type": "markdown",
      "metadata": {
        "id": "UXoGoCPaBmnA"
      },
      "source": [
        "OK, we might have found 157 entries that weren't caught with the previous splitting expression, meaning we might have gained 314 entries that were either not present or invalid in the previous data set. Let's see if that's really what happened."
      ]
    },
    {
      "cell_type": "code",
      "execution_count": 10,
      "metadata": {
        "colab": {
          "base_uri": "https://localhost:8080/",
          "height": 450
        },
        "id": "WIsj8y0yBmnA",
        "outputId": "2294310b-7b01-43a7-c3f5-d9441926b36f"
      },
      "outputs": [
        {
          "output_type": "stream",
          "name": "stdout",
          "text": [
            "number of new entries: 349\n"
          ]
        },
        {
          "output_type": "display_data",
          "data": {
            "text/plain": [
              "<Figure size 640x480 with 1 Axes>"
            ],
            "image/png": "[encoded data removed]"
          },
          "metadata": {}
        }
      ],
      "source": [
        "# It can be much more efficient to do things like check if elements in\n",
        "# one sequence exist in another using pandas objects rather than the\n",
        "# standard python library, so I flatten the lists of lists of entries\n",
        "# into pandas series containing all the entries.\n",
        "old_entries = pd.Series(\n",
        "    [e for page in entries_by_page for e in page],\n",
        "    dtype=pd.StringDtype()\n",
        ")\n",
        "new_entries = pd.Series(\n",
        "    [e for page in new_entries_by_page for e in page],\n",
        "    dtype=pd.StringDtype()\n",
        ")\n",
        "\n",
        "# strip nonprinting characters and replace all newlines in each entry\n",
        "# with spaces\n",
        "old_entries = old_entries.str.strip()\n",
        "new_entries = new_entries.str.strip()\n",
        "old_entries = old_entries.str.replace('\\n', ' ')\n",
        "new_entries = new_entries.str.replace('\\n', ' ')\n",
        "\n",
        "# Get new entries that don't exist in the old set\n",
        "new_entries = new_entries.loc[~new_entries.isin(old_entries)]\n",
        "\n",
        "print(f'number of new entries: {len(new_entries)}')\n",
        "\n",
        "# plot a histogram of lengths of the new entries\n",
        "fig2 = new_entries.map(len).hist(bins=range(0, 400, 5))"
      ]
    },
    {
      "cell_type": "markdown",
      "metadata": {
        "id": "UFZUUc8xBmnA"
      },
      "source": [
        "The histogram we started with covers nearly 20,000 entries. Here we have only 300, but the plot generated in the previous cell already looks extremely similar to the one at the top of the document. This means we can probably assume the entries we've produced here are just as good as the rest of the entries we're already capturing. Probably! I haven't actually looked at the new entries in detail, but it's 0200 and I need to finish this up."
      ]
    },
    {
      "cell_type": "markdown",
      "metadata": {
        "id": "KlUPgnBiBmnA"
      },
      "source": [
        "## <u>Wrapping up</u>"
      ]
    },
    {
      "cell_type": "markdown",
      "metadata": {
        "id": "uVir5_hHBmnA"
      },
      "source": [
        "The goal here was to demonstrate how to play around with the data and the code for our summer project. The general method I followed was something like the following:\n",
        "1. Get some kind of overview of the output from our current parsing operations. I went with the size of the strings but there are all kinds of ways to do this. You could think about features of strings that have words in all caps and compare them to strings that don't have capitalized words (publishers in the author-first entries are almost always capitalized). You could start by exploring the dataframes, where the strings have been parsed out into specific fields, rather than thinking about whole entries. Explore the results we have and find something you think is interesting. If you can't think of a way to use that feature to explore the data, run it by one of your colleagues and see what they think. Your team is always your best asset!\n",
        "2. Use that view of the data to characterize what's working and what isn't. In this case it was clear that unreasonably short or long strings were going to have some errors, so I was able to look at those entries to see where there might be problems in the existing process.\n",
        "3. Find out which part of the existing code is relevant for the feature you're interested in. This part is probably going to be hard if you haven't had a much experience with programming. If it isn't obvious how to proceed after you've had a look at some of the scripts, ask me or Anna how to do what you want to do.\n",
        "4. See if you can modify the code to get different results.\n",
        "5. Use the same overview process you started with to compare your new result with the old one.\n"
      ]
    }
  ],
  "metadata": {
    "kernelspec": {
      "display_name": "Python 3 (ipykernel)",
      "language": "python",
      "name": "python3"
    },
    "language_info": {
      "codemirror_mode": {
        "name": "ipython",
        "version": 3
      },
      "file_extension": ".py",
      "mimetype": "text/x-python",
      "name": "python",
      "nbconvert_exporter": "python",
      "pygments_lexer": "ipython3",
      "version": "3.10.9"
    },
    "vscode": {
      "interpreter": {
        "hash": "31f2aee4e71d21fbe5cf8b01ff0e069b9275f58929596ceb00d14d90e3e16cd6"
      }
    },
    "colab": {
      "provenance": []
    }
  },
  "nbformat": 4,
  "nbformat_minor": 0
}