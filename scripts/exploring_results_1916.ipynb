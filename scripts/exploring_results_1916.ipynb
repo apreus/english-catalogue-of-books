{
 "cells": [
  {
   "attachments": {},
   "cell_type": "markdown",
   "metadata": {},
   "source": [
    "Devin Short \n",
    "30 June 2023 \n",
    "shortda@uw.edu"
   ]
  },
  {
   "attachments": {},
   "cell_type": "markdown",
   "metadata": {},
   "source": [
    "This is a tutorial demonstrating how to explore data parsed out of the catalogues. The idea is to understand what kind of content we've generated, get a feel for how well our current tools are working, and try improving them. This notebook requires functions from `reporting.py`, currently living in the scripts directory of the github repository.\n",
    "\n",
    "Let's import some packages and set parameters we'll use below."
   ]
  },
  {
   "cell_type": "code",
   "execution_count": 64,
   "metadata": {},
   "outputs": [],
   "source": [
    "import pandas as pd\n",
    "import re\n",
    "\n",
    "pd.set_option('display.max_colwidth', 500)\n",
    "\n",
    "# If you're running this notebook from a directory that doesn't contain\n",
    "# reporting.py you'll either need to edit the following line to reflect\n",
    "# the relative location of the reporting module or copy reporting.py\n",
    "# into the current directory\n",
    "from reporting import histogram_strings_by_length\n",
    "\n",
    "# The year determines which issue of the catalogue we're looking at\n",
    "# across the entire notebook\n",
    "year = 16"
   ]
  },
  {
   "attachments": {},
   "cell_type": "markdown",
   "metadata": {},
   "source": [
    "## <u>Summarizing data with histograms</u>"
   ]
  },
  {
   "attachments": {},
   "cell_type": "markdown",
   "metadata": {},
   "source": [
    "One way to start is by looking at the number of characters in all entries parsed out of one year of the catalogue. Most good entries are going to have similar lengths because they display similar data. Extremely short entries are probably fragments created by OCR errors and some extremely long entries will be multiple entries the code we're using failed to split apart."
   ]
  },
  {
   "attachments": {},
   "cell_type": "markdown",
   "metadata": {},
   "source": [
    "We can get an overview by creating a histogram of the entry lengths. A histogram shows a series of bins on the bottom axis and the number of objects falling into each bin on the vertical axis. In this case I've created bins 5 characters wide, so each bar in the plot below shows the number of entries 0-5 characters long, 5-10 characters long, etc.\n",
    "\n",
    "I've also created parameters to examine \"underflow\" and \"overflow\" regions of the histogram. Underflow and overflow counts in a histogram refer to objects that are irrelevant for some reason. In many cases a histogram will have a single underflow or overflow bin that aggregates everything outside the region of interest, but I've included the full histogram here and shaded the outflow regions."
   ]
  },
  {
   "cell_type": "code",
   "execution_count": 65,
   "metadata": {},
   "outputs": [
    {
     "name": "stdout",
     "output_type": "stream",
     "text": [
      "total number of strings: 12620\n",
      "number of strings shorter than 30 characters: 81, 0.6%\n",
      "number of strings within outflow limits: 12468\n",
      "number of strings longer than 300 characters: 71, 0.6%\n"
     ]
    },
    {
     "data": {
      "image/png": "[encoded data removed]",
      "text/plain": [
       "<Figure size 1200x600 with 1 Axes>"
      ]
     },
     "metadata": {},
     "output_type": "display_data"
    }
   ],
   "source": [
    "path = f'../entries/clean_entries/entries_19{year}.csv'\n",
    "\n",
    "# Run this cell and then play around here by adding bins=20 to the\n",
    "# list of arguments in the call to histogram_strings_by_length below.\n",
    "# Then try bins=range(400).\n",
    "# You can change the outflow boundaries by adding underflow_lim or\n",
    "# overflow_lim to the list of arguments and setting them to integers.\n",
    "# The default values are underflow_lim=30, overflow_lim=300.\n",
    "hist_results = histogram_strings_by_length(\n",
    "    path,\n",
    "    show_over_under=True,\n",
    "    drop_nulls=True\n",
    ")"
   ]
  },
  {
   "attachments": {},
   "cell_type": "markdown",
   "metadata": {},
   "source": [
    "You can get some idea of what's happening with different output data by examining different sets of entries. Try changing `clean_entries` to `full_entries` in the path above. Notice that the numbers of entries in each section of the histogram, reported above the plot, are different for the two data sets; clearly the existing code does more than identify short or long entries and drop them to transform \"full\" entries to \"clean\" entries. \n",
    "\n",
    "Looking at the shape of the histogram, you'll see there's a large peak around 50 characters, but then there are smaller peaks at about 90 characters and 140 characters. If you set `bins=range(400)` in the call to `histogram_strings_by_length` above, you'll see those secondary peaks are still present with higher resolution binning. How might we find out what causes that structure?\n",
    "\n",
    "Let's start by viewing some of the entry strings."
   ]
  },
  {
   "cell_type": "code",
   "execution_count": 66,
   "metadata": {},
   "outputs": [
    {
     "name": "stdout",
     "output_type": "stream",
     "text": [
      "9836        Secret sympathy, Pendered (M. L.) 6s, net May 16\n",
      "4385      Girl Crusoes, Strang (Mrs. H.) IS. 3d, net July 16\n",
      "4595      Great maze, &c., Hagedorn (H.) 5$, 6d. net Apr. 16\n",
      "11679     War: In the field, Dupont (M.) 35. 6d. net Mar, 16\n",
      "4235       Geography, Junior, Herbertson (A. J.) 25. Oct. 16\n",
      "6685        Machine, The, Spender (H. F.) 58. net....Oct. 16\n",
      "351       Analytical reagents, White (E.) is, net .. July 16\n",
      "8079        On active service, Owen (A. H.) 6d. net. Nov. 16\n",
      "1552      Buddhism, Chinese, Edkins (J.) 78. 6d. net Jan. 16\n",
      "3113       Don, the runaway dog, Barnum (R.) 28. net Oct. 16\n",
      "6218       Leatherface, Orczy (Baroness) 5s. net ....Aug. 16\n",
      "6846      Man, Arboreal, Jones (F. W.) 8s. 6d. net.. Oct, 16\n",
      "10243       Some Cornish folk, Hocking (S.) 1od. net Feb. 16\n",
      "3214      Early blossoms, Hickley (A. R. P.) is. net Sep. 16\n",
      "1281     Boone, Daniel, Gulliver (L.) 25. net ...... July 16\n",
      "4610        Greater power, Thorne (G.) Is. 6d. net ..Feb. 16\n",
      "9191      Recruits, Rapid training of, is. 6d. net ..Feb. 16\n",
      "5872      Judy and the others, Bradby (V.) 25. 6d. ..Sep. 16\n",
      "4081       Gaby's partner, Varlez (A.) 3s. 6d. net . Apr. 16\n",
      "12159       When the wicked man . ., Thorne (G.) 6s. Nov. 16\n",
      "Name: 0, dtype: object \n",
      "\n",
      "\n",
      "12056     Wells (H. G.)--The Island of Dr. Moreau. Cr. 8vo. 7+ x 41, pp. 175, is. net HEINEMANN, Dec. 16\n",
      "6480      London (Jack)--Tales of the Fish Patrol. Cr. 8vo. 77 X 43, pp. 158, is. net HEINEMANN, Dec. 16\n",
      "6771     McNeilo (A. H.)—“After this manner pray ye.” 18mo. 61 x 41, pp. 97, is. 3d. net HEFFER, Nov. 16\n",
      "998       Beresford (J. D.)-The Mountains of the moon. Cr. 8vo. 7*X4), pp. 311, is. net CASSELL, Oct. 16\n",
      "8963          Problem of the Commonwealth (The). 8vo. 81x55, pp. 260, swd. is. 6d. net MACMILLAN, May 16\n",
      "11956     Watson (Helen H.)-Rebecca of the Fells. Cr. 8vo. 8 X 51, pp. 388, 28. net. ..R. T. S., Sep. 16\n",
      "3182     Duke of Cambridge's Own (Middlesex Regiment), Story of the, Kingsford (C.L.) 7s.6d. net Nov. 16\n",
      "1449      British citizens and their responsibility to God : sermons, Cunningham (W.) 6d........ Nov. 16\n",
      "4260          \"German\" East Africa and its resources. Pp. 28, 6d. (“SA.” Hdbks.) “ SOUTH AFRICA,\"July 16\n",
      "3783      Fitzgerald (T. A.)-A Good third. Illus. Cr. 8vo. 75 X 5, pp. 256, 3s. 6d...M, H. GILL, June 16\n",
      "2961         Dowar (Douglas)--A Bird calendar for Northern India. Cr. Svo. 71 X 41, 6s. THACKER, Feb. 16\n",
      "338          Ammonia, Thermodynamic properties of, Keyes (F. G.) and Brownlee (R. B.) 45. 6d. net May 16\n",
      "7829       Nelson (James A.)-The Embryology of the honey bee. 8vo. 91 x 61, 8s. 6d. net MILFORD, Jan. 16\n",
      "3766     Findlay (Alexander)—Chemistry in the service of 8vo. 9 x 5), pp. 270, 5s. net LONGMANS, June 16\n",
      "8373         Parliamentary reminiscences and reflections, 1868–1885, Hamilton (Lord G.) 1os. net Dec. 16\n",
      "8259      Paget (Georgina B.)—Song of the unborn. Cr. 8vo. 7x41, pp. 64, 28. net ......RICHARDS, Mar. 16\n",
      "12363       \" Winning Post ” Winter annual, 1916. Cr. 8vo. 87 x 63, pp. 128, is. net . . OFFICE, Dec. 16\n",
      "6836         Mammals, Parasites, Nematode, of, of orders rodentia, &c., Hall (M.) 6s. 6d. net....Dec. 16\n",
      "12591        York (Archbp. of) see Lang (C. G.) York books : Criticism without cant, 3s. 6d. net Feb. 16\n",
      "8956        Prize (The), 1916. 97x7, pp. 210, 23., 25. 6d. net; bds, Is. 6d. net ...GARDNER, D., Nov. 16\n",
      "Name: 0, dtype: object \n",
      "\n",
      "\n",
      "5986        Kinematograph Year book, diary and directory (The), 1916. 8vo. 8} x 54, pp. 466, 28. 6d. net; swd. is. net KINEMATOGRAPH WEEKLY, Jan. 16\n",
      "6610         MacBride (Mackenzie)-For those we love at home ! and other war songs and ballads. 71 x 5, pp. 28. Is. net NEWBERRY & PICKERING, Apr. 16\n",
      "7009       Mathew (Frank) see Cooper (A. H.) and Mathew. Mathews (Albert P.)--Physiological chemistry. 8vo. 91 x 58, 21s. net ....BAILLIÈRE, Feb. 16\n",
      "6346        Le Queux (William)-Her Royal Highness : a romance of the chancelleries of Europe. Cr. 8vo. 71 X 11, pp. 190, is. net HODDER & S., May 16\n",
      "4044       Fry (J. H.)--Boulogne and Berlin, 1884-1910: the annals of two chaplaincies. Cr. 8vo. 7*st, pp. 200, 35. 6d. net ....SKEFFINGTON, Apr. 16\n",
      "9452     Rolland (Romain)—Handel. Trans. by A. Eagle- field Hull; with intro. by the editor. Cr. 8vo. 71 x 44, pp. 221, 2s. 6d. net K. PAUL, Mar. 16\n",
      "1249      Book of Job (The)---Intro. by G. K. Chesterton. Illus. by C. Mary Tongue. Fol. 101 x 78, pp. 129, Ios. 6d. net ...... PALMER & H., Nov. 16\n",
      "4707      Groot (C. Hofstede de)-Cata. raisonné of the works of the most eminent Dutch painters of 17th Cent., Smith (J.) Vol. 6, 255. net.. Oct. 16\n",
      "3168        Drew (Thomas)-Aids to the use of maps em- ployed by the English, French, Belgian and German Armies. pp. 85, swd. is. net JARROLD, May 16\n",
      "12674     Zimmer (George Frederick)--The Mechanical handling and storing of material. New ed. Folio 101 x 71, pp. 766, 42s. net C. LOCKWOOD, Apr. 16\n",
      "12099    Westervelt (W. D.) ed.-Legends of gods and ghosts. Collected and trans, from the Hawaiian. Cr. 8vo. 71 X 5, 7s. 6d. net ..CONSTABLE, Jan.16\n",
      "7466      Moran (J. A.)-French grammar and composition. New ed. w. additional exercises. Cr. 8vo. 7x44, pp. 148, Is. 4d. net SULLIVAN BROS., Sep. 16\n",
      "2074     Children's Friend (The). Ed. by C. D. Michael. 8vo. 98x7, pp. 188, 28. net; clo. bevelled, 25. 6d. net; bds. Is. 6d. net PARTRIDGE, Oct. 16\n",
      "1536       Browne (James Crichton-) see Crichton-Browne. Browne (Porter Emerson)--Peace at any price. Cr. 8vo. 74 X 5, swd. 2s. net APPLETON, May 16\n",
      "2185      Church Monthly (The), 1915. 4to. 98 x 77, pp. 290, 2s. .. OFFICE, Dec. 15 Church, National Mission and the, Kelly (H. H.) 6d. net .Dec. 16\n",
      "4439      Goff (E. G.)—The Principles of plant culture. 8th ed., rev. by J. G. Moore and L. R. Jones. Cr. 8vo. 71 x 5, 5s. 6d. net MACMILLAN, Apr 16\n",
      "3349      Emptage (W. P.)-Commercial fruit growing on the small holding. 71 x 5, pp. 62, is. 6d. (1--3, Salisbury Ct., E.C.) “FRUIT GROWER,” Nov. 16\n",
      "2834         Deacon (Sydney A.)-Annual supplement to Willich's Tithe commutation tables, 1916. Ryl. 8vo. 91 x 61, pp. 10, swd. is. LONGMANS. Jan. 16\n",
      "4184        Gaselee (Stephen)-The Greek manuscripts in the Old Seraglio at Constantinople. Ryl. 8vo. 91x61, pp. 16, Is. net CAMB. UNIV. PR., Oct, 16\n",
      "12548      Wylie (Laura Johnson)-Social studies in English literature. 9x6, pp. 216, 8s. 6d. net. (Vassar Semi-Centennial ser.) . CONSTABLE, Dec. 16\n",
      "Name: 0, dtype: object\n"
     ]
    }
   ],
   "source": [
    "# Get the clean entries from a csv file. Squeeze the result to convert\n",
    "# the single-column dataframe into a series.\n",
    "path = f'../entries/clean_entries/entries_19{year}.csv'\n",
    "clean_entries = pd.read_csv(path, header=None).squeeze()\n",
    "\n",
    "# Drop null values\n",
    "clean_entries = clean_entries.dropna()\n",
    "\n",
    "# Get the length of each entry string\n",
    "lengths = clean_entries.map(len)\n",
    "\n",
    "# Get entry strings around the center of the largest peak\n",
    "first_peak = clean_entries.loc[(lengths > 47) & (lengths < 53)]\n",
    "\n",
    "# Get entries in the second peak\n",
    "second_peak = clean_entries.loc[(lengths > 89) & (lengths < 96)]\n",
    "\n",
    "# Get entries in the third peak\n",
    "third_peak = clean_entries.loc[(lengths > 134) & (lengths < 140)]\n",
    "\n",
    "# View a random sample of values in each peak\n",
    "print(first_peak.sample(20), '\\n\\n')\n",
    "print(second_peak.sample(20), '\\n\\n')\n",
    "print(third_peak.sample(20))\n",
    "\n"
   ]
  },
  {
   "attachments": {},
   "cell_type": "markdown",
   "metadata": {},
   "source": [
    "Run the previous cell several times, examining the output carefully each time. Are there clear differences in the contents of the entries from each peak? Can they be explained by reasonable features of a real data set or do you think the structure in the histogram is a result of bad parsing?"
   ]
  },
  {
   "attachments": {},
   "cell_type": "markdown",
   "metadata": {},
   "source": [
    "I think we can draw three conclusions here:\n",
    "\n",
    "1. The largest peak is the easiest to explain: title-first entries, which only contain the book title, author name, price, and month of publication, are frequently about 50 characters long. There are of course a huge number of title-first entries much longer than that, and the other two peaks are sitting on top of a long tail from the title-first peak.\n",
    "2. The second peak looks like it consists mostly of author-first entries for single-author, single-title books.\n",
    "3. The third peak is the most complicated. I see books that have both multiple authors and long subtitles, as well as entries that have additional information like a series name, such as `(Langham bibelots, No. 10.)`, or a note about translation, for instance `English version by A. W. Verrall.`"
   ]
  },
  {
   "attachments": {},
   "cell_type": "markdown",
   "metadata": {},
   "source": [
    "If you want an exercise to try working with the data yourself and to follow up on my interpretation above, figure out a way to histogram the shorter title-first entries separately from the longer author-first entries. If you don't know how to start, try this:\n",
    "\n",
    "1. Make a regular expression that searches for a sequence of capital letters. This won't be a perfect distinction, but the author-first entries usually have a publisher's name in all caps and the title-first entries don't.\n",
    "2. Use the regular expression to put entries with words in all caps in one pandas series and entries without words in all caps in another.\n",
    "3. Calculate the lengths of each element in each series and store them in two different series.\n",
    "4. Create histograms by using the method `.hist(bins=range(0, 400, 3))` on both series of lengths.\n",
    "5. Play around with the bin width (the third argument in the range function) and see how the features in each histogram change.\n",
    "\n",
    "You can refer to the last two code cells in this notebook to see an example of a similar process.\n",
    "\n",
    "If my interpretation above is mostly right then you should see a peak at 50 characters with a long tail to the right in one histogram and a smaller but very similarly shaped peak at about 90 characters in the other (I expect the second peak to have a shorter tail on the left as well). I haven't tried this, so if you do you should let me know what's going on with that third peak - is it present in both histograms? "
   ]
  },
  {
   "attachments": {},
   "cell_type": "markdown",
   "metadata": {},
   "source": [
    "## <u>Testing new methods</u>"
   ]
  },
  {
   "attachments": {},
   "cell_type": "markdown",
   "metadata": {},
   "source": [
    "Some entries in the third peak reveal a flaw in our current approach to splitting the entries: some lines in the catalogue aren't part of an entry. These lines have the form `<author name> see <author name>`, suggesting a reader looking up one author might actually be looking for someone else. The code we're using assumes entries end with an OCR line ending in `12`. It doesn't handle the lines pointing from one author to another, so those lines usually get tacked onto the front of the following entry. The current code does sometimes parse these author-to-author lines as individual entries. It looks to me like this happens when they are the last OCR'd line on a page.\n",
    "\n",
    "I figured that out by repeatedly looking at samples generated by the next cell and then searching the Hathi Trust online PDF for the contents of author-to-author lines that appeared separate from a full entry."
   ]
  },
  {
   "cell_type": "code",
   "execution_count": 67,
   "metadata": {},
   "outputs": [
    {
     "name": "stdout",
     "output_type": "stream",
     "text": [
      "number of entries containing \" see \": 287\n",
      "\n",
      "\n"
     ]
    },
    {
     "data": {
      "text/plain": [
       "4971     Heyman (S. Reid-) see Reid-Heyman. Hiawatha, Dramatized scenes from Longfellow's, Wyngate (V.) 28. 6d. pet ...Sep. 16\n",
       "6094                                             L. (A.S.) see Jones (Mrs. H.). L. (O. E.)-Something. Pr. for author ..Oct. 16\n",
       "2003                          Chekhoff, Chekhov, see also Tchehov; Tchekhov. Chelkash, stories, Gorky (M.) is. net ....July 16\n",
       "9969                    Sharples (Alexander) see Barnes (J. R.) and Sharples. Sharrow, Hutten (Baroness von) is. net.. Apr. 16\n",
       "10159     Smith (Sheila Kaye-) see Kaye-Smith. Smith (Stephen)—Who is insane? Cr. 8vo. 74 x 51, 5s. 6d. net MACMILLAN, Feb. 16\n",
       "8834           Potts (W. A.) see Shuttleworth (G. E.) and Potts. Poultry : Commer. egg farming, Hanson (S. G.) 18. net June 16\n",
       "9784                                Scudamore (Frank) see Maude (F. N.) and Scudamore. Sculpture, Greek. 35. 6d. net. .Aug. 16\n",
       "2112                 Chouville (L.) see Glehi (L. C. von) and others. Christ and sorrow, Moule (H. C. G.) 13., 6d. net Mar. 16\n",
       "11099                          Trimble (C. J. A.) see Usherwood (T. S.) and Trimble. Trimmed lamp, Henry (O.) is. net .Jan. 16\n",
       "6260                         Lefroy (H. Maxwell) see Maxwell-Lefroy. Legacy of the granite hills, Mitford (B.) is. net Aug. 16\n",
       "2517                        Cooper (F. S. Ashley-) see Ashley-Cooper. Cooper (J. Fenimore) — Last of the Mohicans. 4d. June 16\n",
       "124                                        Aeth (F. G. D') see D'Aeth. Affair on the island, Watson (H. B. M.) 5S. net Nov. 16\n",
       "6931                      Markham (E. A.) see Frandsen (J. H.) and Mark. ham. Marl-pit mystery, Ohnet (G.) 7d. net ....Mar. 16\n",
       "2520                       Cooper (Sir W. Earnshaw-) see Earnshaw-Cooper. Co-operation in Finland, Gebhard (H) 5s. net Sep. 16\n",
       "1793              Canterbury (Archbp. of) see Davidson (R. T.) Canterbury, Dioceses of the Province of. Is., 6d. net ...Apr.16\n",
       "10960          Topley (W. W.) see Gower (H. D.), Jast and T. Toppunt der Beschaving, Raemaekers (L.) 6th ser. 25. net .Feb. 16\n",
       "7428                                   Montmorency (J. E. G. de) see De Montmorency. Montorel, Provost (M.) is. net ...Mar. 16\n",
       "5116                Homer (F.) see Curtiss (H. A.) and Homer. Homeric age, Life in the, Seymour (T. D.) 125. 60. net ..Apr. 16\n",
       "3854     Fontaine (J. de la) see La Fontaine. Fontane, Theodor, as critic of the drama, Trebein (B. E.) 48. 6d. net ...Aug. 16\n",
       "10643        Sutton (A. S. Elwell), see Elwell-Sutton. Sutton (Herbert)-Fragments of verse, is. 6d. net DRAKE, DRIVER, June 16\n",
       "Name: 0, dtype: object"
      ]
     },
     "execution_count": 67,
     "metadata": {},
     "output_type": "execute_result"
    }
   ],
   "source": [
    "author_to_author_entries = clean_entries.loc[\n",
    "    clean_entries.str.contains(' see ')\n",
    "]\n",
    "\n",
    "# python interprets two strings on successive lines as a single string\n",
    "# so it's easier to read long strings in source code.\n",
    "print(\n",
    "    'number of entries containing \" see \":'\n",
    "    f' {author_to_author_entries.size}\\n\\n'\n",
    ")\n",
    "\n",
    "author_to_author_entries = clean_entries.loc[\n",
    "    clean_entries.str.contains(' see ') & (lengths < 120)\n",
    "]\n",
    "author_to_author_entries.sample(20)"
   ]
  },
  {
   "attachments": {},
   "cell_type": "markdown",
   "metadata": {},
   "source": [
    "If you can come up with a way to identify those author-to-author lines and separate them from the entries, you'll improve our data set. That's going to be pretty difficult though, so let's start with something easier."
   ]
  },
  {
   "attachments": {},
   "cell_type": "markdown",
   "metadata": {},
   "source": [
    "Have a look at a sample of the longest entries:"
   ]
  },
  {
   "cell_type": "code",
   "execution_count": 68,
   "metadata": {},
   "outputs": [
    {
     "data": {
      "text/plain": [
       "663       \" Athenaum (The)” Subject index to periodicals, Aulnoy (Madame d')-The Palace of peaceful 1915. 12;X 10, pp. 365, 428. net; separate pleasures. Ed. by Elsie J. Crosfield. Cr. 8vo. class lists, various prices, subscrip.,\" 1os. 60. 74 x 54, pp. 64, swd. 3d. (“A.L.” Bright story net per set ... THE ATHENÆUM,\" Nov. 16 readers). .E. J. ARNOLD, Jan. 16\n",
       "1723                        Cambridge University-Local exam., 1915 : 58th annual rpt. of the Local Exam. and Lectures Syndicate, w. supp. tab. for home centres, Dec. 1915, and lists in order of merit of the senior and junior students at all centres who obtain the mark of distinction in each subject. Demy 8vo., 8} x 51, pp. 228, 25. CAMB. UNIV. PR., Apr. 16\n",
       "6284                     Leighton (J. and J.)-Early printed books, arranged in order of presses, accord. to Proctor's Index. Pt. 2, Italy (Foligno to Arezzo), Switzerland, and addenda. W. indexes to authors, printers, &c., and subjects, binders and owners, in Pts. 1 and 2. 8vo. IS. ; w. 312 facsim. repro., 25. (40, Brewer St., W.) J. & J. LEIGHTON, Aug. 16\n",
       "6568                   Lucas (Sir Charles) ed.--Historical geography of the British Colonies, the Dominions beyond the Seas. Vol. 5, Canada and Newfoundland. Pt. I (Historical), 'New France': the hist. of C. fr. discovery and settlement to the conquest, down to 1763, by Sir C. L. 2nd ed. Maps. Cr. 8vo. 71 x 54, pp. 364, 6s. (Clarendon Pr.) MILFORD, Nov. 16\n",
       "7148     Mercy-Argenteau (Louise de, Comtesse)—The Last love of an emperor : Reminiscences of the Comtesse L. de M.-A., née Princesse de Cara- man-Chimay, describing her connection with the Emperor Napoleon III, and the social and political part she played at the close of the 2nd Empire. Ed. by ul. W. Fol. 101 x 71, pp. 326, 16s. net IRIS PUB. Co., July 16\n",
       "11278                           Vagrant memories, Winter (W.) 125. net July 16 Varley (Kirton)-Fool culture on education, Vain flirtation, Blyth (J.) 6s. ..July 16 culture, misgovernment and destiny. Cr. 8vo. Vaiti of the Islands, Grimshaw (B.) is. net July 16 73 x 5, pp. 110, 2s. 6d. net Vaizey (Mrs. George de Horne)-The Adventures GENERATION PR., June 16\n",
       "Name: 0, dtype: object"
      ]
     },
     "execution_count": 68,
     "metadata": {},
     "output_type": "execute_result"
    }
   ],
   "source": [
    "clean_entries.loc[(lengths > 325) & (lengths < 350)]"
   ]
  },
  {
   "attachments": {},
   "cell_type": "markdown",
   "metadata": {},
   "source": [
    "A substantial number of long entries have a date that should mark a point to split entries that was missed for some reason. Reviewing a few samples in the previous cell, I see at least three cases that need to be handled:\n",
    "1. OCR mistakes, like `I2` or `1z` or `iz` rather than `12`\n",
    "2. Books published in 1911 and listed in this catalogue (our code assumes `12` is part of the entry delimiter)\n",
    "3. Entries with apparently well-formed 1912 dates that the current code failed on. For example, entry `14814` appears to be three entries separated by two 1912 dates that were skipped over for reasons I don't understand yet. Run the next cell to see it."
   ]
  },
  {
   "cell_type": "code",
   "execution_count": 69,
   "metadata": {},
   "outputs": [
    {
     "data": {
      "text/plain": [
       "'Weapon unsheathed, Wilson (T. W.) is. 3d. net Dec. 16'"
      ]
     },
     "execution_count": 69,
     "metadata": {},
     "output_type": "execute_result"
    }
   ],
   "source": [
    "clean_entries[12000]"
   ]
  },
  {
   "attachments": {},
   "cell_type": "markdown",
   "metadata": {},
   "source": [
    "The first two cases are relatively easy to handle. Let's start by finding the regular expressions our code uses to split entries apart and build on that to improve the current process. That code is documented in `Parsing_ECB_1912_wi23.ipynb`, currently living in the `scripts` directory of the github repository. In the section \"Splitting the Text into Entries\" in that notebook, I find the following process:"
   ]
  },
  {
   "cell_type": "code",
   "execution_count": 70,
   "metadata": {},
   "outputs": [
    {
     "name": "stdout",
     "output_type": "stream",
     "text": [
      "total entries: 14733\n"
     ]
    }
   ],
   "source": [
    "# ALL CODE IN THIS CELL IS ADAPTED FROM Parsing_ECB_1912_wi23.ipynb\n",
    "\n",
    "# read the Hathi Trust OCR into memory\n",
    "with open(f'../princeton_years/ecb_19{year}.txt', encoding='utf8') as f:\n",
    "    ocr_full_text = f.read()\n",
    "\n",
    "# Separate main text from the front matter of the catalogue (note the\n",
    "# string called ocr_main_text still has the back matter attached until\n",
    "# a later step)\n",
    "# Note python allows multiple assignment: the split operation below\n",
    "# creates a two-element list whose elements are then assigned to two\n",
    "# different variables\n",
    "ocr_front_matter, ocr_main_text = re.split(r'centimetres', ocr_full_text)\n",
    "\n",
    "appendix_pattern = (\n",
    "    r\"APPENDIX\\nLEARNED SOCIETIES, PRINTING CLUBS, &c., \"\n",
    "    r\"WITH LISTS OF THEIR\\nPUBLICATIONS, 1916\"\n",
    ")\n",
    "\n",
    "# Separate main text from the back matter of the catalogue\n",
    "ocr_main_text, ocr_back_matter = re.split(appendix_pattern, ocr_main_text)\n",
    "\n",
    "# Make a regular expression to capture headers at the top of each\n",
    "# catalogue page\n",
    "header_capital_letters = r\"^(?:[A-Z\\-\\'\\sÈ]+)\"\n",
    "header_pattern = r\"^#(?s:.*?){}(?s:.*?){}(?s:.*?){}$\".format(\n",
    "    header_capital_letters, header_capital_letters, header_capital_letters\n",
    ")\n",
    "\n",
    "# Split the main text into pages and strip the headers. According to\n",
    "# Parsing_ECB_1912_wi23.ipynb this method fails to remove six headers.\n",
    "pages = [\n",
    "    re.sub(header_pattern, '', page, flags=re.M)\n",
    "    for page in ocr_main_text.split('\\f')\n",
    "]\n",
    "\n",
    "# Now find all lines ending in 12 and insert a token to split on\n",
    "entries_by_page = [\n",
    "    re.sub(r'(\\W16\\.?$)', '\\\\1<ENTRY_CUT>', page, flags=re.M)\n",
    "    for page in pages\n",
    "]\n",
    "\n",
    "# Split on the token to create a list of lists where each element is\n",
    "# a list of entries on an individual page\n",
    "entries_by_page = [\n",
    "    re.split(r'<ENTRY_CUT>', page, flags=re.M)\n",
    "    for page in entries_by_page\n",
    "]\n",
    "\n",
    "print(f'total entries: {sum([len(p) for p in entries_by_page])}')"
   ]
  },
  {
   "attachments": {},
   "cell_type": "markdown",
   "metadata": {},
   "source": [
    "Now let's test a new regular expression for splitting entries "
   ]
  },
  {
   "cell_type": "code",
   "execution_count": 71,
   "metadata": {},
   "outputs": [
    {
     "name": "stdout",
     "output_type": "stream",
     "text": [
      "total entries: 14888\n"
     ]
    }
   ],
   "source": [
    "# This cell assumes we're looking at the 1912 catalogue; try changing\n",
    "# this code (and the year parameter in the first code cell of the\n",
    "# notebook) to catch OCR mistakes for a different year.\n",
    "\n",
    "# create a list of possible values the OCR software might have created\n",
    "# when it ran into an 11 or 12 on the page\n",
    "ocr_interpretations_of_12 = [\n",
    "    '12',\n",
    "    'i2',\n",
    "    'I2',\n",
    "    '1z',\n",
    "    '1Z',\n",
    "    'iz',\n",
    "    'Iz',\n",
    "    'iZ',\n",
    "    'IZ'\n",
    "]\n",
    "ocr_interpretations_of_11 = [\n",
    "    '11',\n",
    "    'i1',\n",
    "    'I1',\n",
    "    '1i',\n",
    "    '1I',\n",
    "    'ii',\n",
    "    'Ii',\n",
    "    'iI',\n",
    "    'II'\n",
    "]\n",
    "ocr_interpretations_of_16 = [\n",
    "    '16',\n",
    "    'i6',\n",
    "    'I6',\n",
    "    '15',\n",
    "    'i5',\n",
    "    'I5',\n",
    "    '18'\n",
    "]\n",
    "terminators = ocr_interpretations_of_16\n",
    "\n",
    "# modify the existing regex with our new options\n",
    "entry_terminator_regex = r'(\\W({})\\.?$)'.format('|'.join(terminators))\n",
    "\n",
    "# get a new set of entries the same way as above, but using the new\n",
    "# regular expression\n",
    "new_entries_by_page = [\n",
    "    re.sub(entry_terminator_regex, '\\\\1<ENTRY_CUT>', page, flags=re.M)\n",
    "    for page in pages\n",
    "]\n",
    "new_entries_by_page = [\n",
    "    re.split(r'<ENTRY_CUT>', page, flags=re.M)\n",
    "    for page in new_entries_by_page\n",
    "]\n",
    "\n",
    "print(f'total entries: {sum([len(p) for p in new_entries_by_page])}')\n"
   ]
  },
  {
   "attachments": {},
   "cell_type": "markdown",
   "metadata": {},
   "source": [
    "OK, we might have found 157 entries that weren't caught with the previous splitting expression, meaning we might have gained 314 entries that were either not present or invalid in the previous data set. Let's see if that's really what happened."
   ]
  },
  {
   "cell_type": "code",
   "execution_count": 72,
   "metadata": {},
   "outputs": [
    {
     "name": "stdout",
     "output_type": "stream",
     "text": [
      "number of new entries: 267\n"
     ]
    },
    {
     "data": {
      "image/png": "[encoded data removed]",
      "text/plain": [
       "<Figure size 640x480 with 1 Axes>"
      ]
     },
     "metadata": {},
     "output_type": "display_data"
    }
   ],
   "source": [
    "# It can be much more efficient to do things like check if elements in\n",
    "# one sequence exist in another using pandas objects rather than the\n",
    "# standard python library, so I flatten the lists of lists of entries\n",
    "# into pandas series containing all the entries.\n",
    "old_entries = pd.Series(\n",
    "    [e for page in entries_by_page for e in page],\n",
    "    dtype=pd.StringDtype()\n",
    ")\n",
    "new_entries = pd.Series(\n",
    "    [e for page in new_entries_by_page for e in page],\n",
    "    dtype=pd.StringDtype()\n",
    ")\n",
    "\n",
    "# strip nonprinting characters and replace all newlines in each entry\n",
    "# with spaces\n",
    "old_entries = old_entries.str.strip()\n",
    "new_entries = new_entries.str.strip()\n",
    "old_entries = old_entries.str.replace('\\n', ' ')\n",
    "new_entries = new_entries.str.replace('\\n', ' ')\n",
    "\n",
    "# Get new entries that don't exist in the old set\n",
    "new_entries = new_entries.loc[~new_entries.isin(old_entries)]\n",
    "\n",
    "print(f'number of new entries: {len(new_entries)}')\n",
    "\n",
    "# plot a histogram of lengths of the new entries\n",
    "fig2 = new_entries.map(len).hist(bins=range(0, 400, 5))"
   ]
  },
  {
   "attachments": {},
   "cell_type": "markdown",
   "metadata": {},
   "source": [
    "The histogram we started with covers nearly 20,000 entries. Here we have only 300, but the plot generated in the previous cell already looks extremely similar to the one at the top of the document. This means we can probably assume the entries we've produced here are just as good as the rest of the entries we're already capturing. Probably! I haven't actually looked at the new entries in detail, but it's 0200 and I need to finish this up."
   ]
  },
  {
   "attachments": {},
   "cell_type": "markdown",
   "metadata": {},
   "source": [
    "## <u>Wrapping up</u>"
   ]
  },
  {
   "attachments": {},
   "cell_type": "markdown",
   "metadata": {},
   "source": [
    "The goal here was to demonstrate how to play around with the data and the code for our summer project. The general method I followed was something like the following:\n",
    "1. Get some kind of overview of the output from our current parsing operations. I went with the size of the strings but there are all kinds of ways to do this. You could think about features of strings that have words in all caps and compare them to strings that don't have capitalized words (publishers in the author-first entries are almost always capitalized). You could start by exploring the dataframes, where the strings have been parsed out into specific fields, rather than thinking about whole entries. Explore the results we have and find something you think is interesting. If you can't think of a way to use that feature to explore the data, run it by one of your colleagues and see what they think. Your team is always your best asset!\n",
    "2. Use that view of the data to characterize what's working and what isn't. In this case it was clear that unreasonably short or long strings were going to have some errors, so I was able to look at those entries to see where there might be problems in the existing process.\n",
    "3. Find out which part of the existing code is relevant for the feature you're interested in. This part is probably going to be hard if you haven't had a much experience with programming. If it isn't obvious how to proceed after you've had a look at some of the scripts, ask me or Anna how to do what you want to do.\n",
    "4. See if you can modify the code to get different results.\n",
    "5. Use the same overview process you started with to compare your new result with the old one.\n"
   ]
  }
 ],
 "metadata": {
  "kernelspec": {
   "display_name": "Python 3",
   "language": "python",
   "name": "python3"
  },
  "language_info": {
   "codemirror_mode": {
    "name": "ipython",
    "version": 3
   },
   "file_extension": ".py",
   "mimetype": "text/x-python",
   "name": "python",
   "nbconvert_exporter": "python",
   "pygments_lexer": "ipython3",
   "version": "3.10.11"
  },
  "orig_nbformat": 4,
  "vscode": {
   "interpreter": {
    "hash": "31f2aee4e71d21fbe5cf8b01ff0e069b9275f58929596ceb00d14d90e3e16cd6"
   }
  }
 },
 "nbformat": 4,
 "nbformat_minor": 2
}
